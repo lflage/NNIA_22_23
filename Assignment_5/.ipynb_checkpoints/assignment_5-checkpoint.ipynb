{
 "cells": [
  {
   "cell_type": "markdown",
   "metadata": {
    "id": "ZT_S_io_85jk"
   },
   "source": [
    "# NNIA Assignment 5\n",
    "\n",
    "**DEADLINE: 14. 12. 2022 08:00 CET**  \n",
    "Submission more than 10 minutes past the deadline will **not** be graded!\n",
    "\n",
    "- **Name & ID 1** (Teams username e.g. s8xxxxx): \n",
    "- **Name & ID 2** (Teams username e.g. s8xxxxx):\n",
    "- **Hours of work per person:** \n",
    "\n",
    "# Submission Instructions\n",
    "\n",
    "**IMPORTANT** Please make sure you read the following instructions carefully. If you are unclear about any part of the assignment, ask questions **before** the assignment deadline. All course-related questions can be addressed on the course **[Piazza Platform](https://piazza.com/class/kvc3vzhsvh55rt)**.\n",
    "\n",
    "* Assignments are to be submitted in a **team of 2**.\n",
    "* Please include your **names**, **ID's**, **Teams usernames**, and **approximate total time spent per person** at the beginning of the Notebook in the space provided\n",
    "* Make sure you appropriately comment your code wherever required. \n",
    "* Your final submission should contain this completed Jupyter Notebook, including the bonus question (if you attempt it), and any necessary Python files.\n",
    "* Do **not** submit any data or cache files (e.g. `__pycache__`).\n",
    "* Upload the **zipped** folder (*.zip* is the only accepted extension) in **Teams**.\n",
    "* Only **one member** of the group should make the submisssion.\n",
    "* **Important** please name the submitted zip folder as: `Name1_id1_Name2_id2.zip`. The Jupyter Notebook should also be named: `Name1_id1_Name2_id2.ipynb`. This is **very important** for our internal organization repeatedly students fail to do this."
   ]
  },
  {
   "cell_type": "code",
   "execution_count": null,
   "metadata": {
    "colab": {
     "base_uri": "https://localhost:8080/"
    },
    "executionInfo": {
     "elapsed": 291,
     "status": "ok",
     "timestamp": 1638136597450,
     "user": {
      "displayName": "Noonsky Noon",
      "photoUrl": "https://lh3.googleusercontent.com/a/default-user=s64",
      "userId": "14548880660870589126"
     },
     "user_tz": -60
    },
    "id": "VoXRo_m9c5sy",
    "outputId": "122f3e89-70aa-48da-af11-c2a8ea5c0f50"
   },
   "outputs": [],
   "source": [
    "%load_ext autoreload\n",
    "%autoreload 2"
   ]
  },
  {
   "cell_type": "markdown",
   "metadata": {
    "id": "epw_IOC2dlZm"
   },
   "source": [
    "# Extrema and Computational Graphs\n",
    "\n",
    "In this assignment we will expand on finding extrema in a one dimensional space to a multi dimensional space. Review this chapter in [Goodfellow et al., Chapter 4: Numerical Computation](https://www.deeplearningbook.org/contents/numerical.html), complete the following exercises. You may also find additional resources such as [Khan Academy: Derivatives of Multivariable Functions](https://www.khanacademy.org/math/multivariable-calculus/multivariable-derivatives#jacobian), [Khan Academy Video on Jacobian Matrix](https://youtu.be/bohL918kXQk) and [Khan Academy: Video on the Chain Rule](https://youtu.be/0T0QrHO56qg) helpful."
   ]
  },
  {
   "cell_type": "markdown",
   "metadata": {
    "id": "Y8lk-LrIHbXP"
   },
   "source": [
    "## 1 Partial Derivatives of Vector-valued Functions: Jacobian and Hessian Matrices (4 points)\n",
    "\n",
    "### 1.1 \n",
    "Compute the *Jacobian* and *Hessian* Matrices of the following function below. Include the generalized formula for the calculations. (Hint: don't forget the chain rule) (2 points)  \n",
    "\n",
    "\n",
    "\\begin{align*}f(x,y) &= \\begin{bmatrix} f_1(x,y): 5x^2 y^2 + 2x^5 y^3 - 8x^4y^3 \\\\ f_2(x,y): x^3y^2 + 3x^2y + x \\cdot e^{2y}\\\\  \\end{bmatrix}\n",
    "\\end{align*}\n",
    "\n",
    "\n",
    "### 1.2 \n",
    "In general, describe the characteristics of a Hessian Matrix and include any specific names (if any) of the matrix for a function $f$ at some point $x$ where $x$ is:  (2 point)\n",
    "\n",
    "1.   a minimum,\n",
    "2.   a maximum,\n",
    "3.   a saddle point\n",
    "4.   Undeterminable without more information or visualization\n",
    "\n",
    "(Note: the function $f$ here does not refer to the function in 1.1, but rather some function in general.)"
   ]
  },
  {
   "cell_type": "markdown",
   "metadata": {
    "id": "MTAkCSpbMiaR"
   },
   "source": [
    "## <font color=\"red\"> Done <font> \n",
    "\n",
    "### 1.1\n",
    "    \n",
    "For the Jacobian matrix $J$ we need to compute all partial derivatives for $f_1$ and $f_2$, i.e. the gradients. For $f1$ this leads us to:\n",
    "\n",
    "$\\frac{\\partial f_1}{\\partial x}=10xy^2+10x^4y^3-32x^3y^3$\n",
    "    \n",
    "$\\frac{\\partial f_1}{\\partial y}=10x^2y+6x^5y^2-24x^4y^2$\n",
    "\n",
    "$\\nabla f_1(x,y) = \\begin{bmatrix} 10xy^2+10x^4y^3-32x^3y^3 \\\\ 10x^2y+6x^5y^2-24x^4y^2 \\end{bmatrix}$\n",
    "    \n",
    "For $f_2$ this leads us to:\n",
    "    \n",
    "$\\frac{\\partial f_2}{\\partial x}=3x^2y^2+6xy+e^{2y}$\n",
    "    \n",
    "$\\frac{\\partial f_2}{\\partial y}=2x^3y+3x^2+2xe^{2y}$\n",
    "\n",
    "$\\nabla f_2(x,y) = \\begin{bmatrix} 3x^2y^2+6xy+e^{2y} \\\\ 2x^3y+3x^2+2xe^{2y} \\end{bmatrix}$\n",
    "    \n",
    "We obtain the Jacobian matrix by taking $\\nabla f_1(x,y)$ as first and $\\nabla f_2(x,y)$ as second row:\n",
    "\n",
    "$ J= \\begin{bmatrix} 10xy^2+10x^4y^3-32x^3y^3 & 10x^2y+6x^5y^2-24x^4y^2 \\\\ 3x^2y^2+6xy+e^{2y} & 2x^3y+3x^2+2xe^{2y} \\end{bmatrix}$\n",
    "\n",
    "--------------\n",
    "    \n",
    "For the Hessian matrices, we need to compute second order partial derivatives for $f_1$ and $f_2$. For $f_1$:\n",
    "\n",
    "$\\frac{\\partial ^2 f_1}{\\partial x^2}= \\frac{\\partial}{\\partial x}(10xy^2+10x^4y^3-32x^3y^3)= 10y^2+40x^3y^3-96x^2y^3$\n",
    "\n",
    "$\\frac{\\partial ^2 f_1}{\\partial y^2}= \\frac{\\partial}{\\partial y}(10x^2y+6x^5y^2-24x^4y^2)= 10x^2+12x^5y-48x^4y$\n",
    "\n",
    "$\\frac{\\partial ^2 f_1}{\\partial xy}= \\frac{\\partial}{\\partial y}(10xy^2+10x^4y^3-32x^3y^3)= 20xy+30x^4y^2-96x^3y^2$\n",
    "\n",
    "$\\frac{\\partial ^2 f_1}{\\partial yx}= \\frac{\\partial}{\\partial x}(10x^2y+6x^5y^2-24x^4y^2)= 20xy+30x^4y^2-96x^3y^2$\n",
    "    \n",
    "Note: $\\frac{\\partial ^2}{\\partial xy}= \\frac{\\partial ^2}{\\partial yx}$ in most cases.\n",
    "    \n",
    "The Hessian matrix takes the form:\n",
    "    \n",
    "$ H= \\begin{bmatrix} \\frac{\\partial ^2}{\\partial x^2} & \\frac{\\partial ^2}{\\partial xy} \\\\ \\frac{\\partial ^2}{\\partial yx} & \\frac{\\partial ^2}{\\partial y^2} \\end{bmatrix}$\n",
    "\n",
    "So, for $f_1$ we get:\n",
    "    \n",
    "$ H_{f_1}= \\begin{bmatrix} 10y^2+40x^3y^3-96x^2y^3 & 20xy+30x^4y^2-96x^3y^2 \\\\ 20xy+30x^4y^2-96x^3y^2 & 10x^2+12x^5y-48x^4y \\end{bmatrix}$\n",
    "    \n",
    "For $f_2$:\n",
    "\n",
    "$\\frac{\\partial ^2 f_2}{\\partial x^2}= \\frac{\\partial}{\\partial x}(3x^2y^2+6xy+e^{2y})= 6xy^2+6y$\n",
    "\n",
    "$\\frac{\\partial ^2 f_2}{\\partial y^2}= \\frac{\\partial}{\\partial y}(2x^3y+3x^2+2xe^{2y})= 2x^3+4e^{2y}x$\n",
    "\n",
    "$\\frac{\\partial ^2 f_2}{\\partial xy}= \\frac{\\partial}{\\partial y}(3x^2y^2+6xy+e^{2y})= 6x^2y+6x+2e^{2y} $\n",
    "\n",
    "$\\frac{\\partial ^2 f_2}{\\partial yx}= \\frac{\\partial}{\\partial x}(2x^3y+3x^2+2xe^{2y})= 6x^2y+6x+2e^{2y}$\n",
    "    \n",
    "$ H_{f_2}= \\begin{bmatrix} 6xy^2+6y & 6x^2y+6x+2e^{2y} \\\\ 6x^2y+6x+2e^{2y} & 2x^3+4e^{2y}x \\end{bmatrix}$"
   ]
  },
  {
   "cell_type": "markdown",
   "metadata": {
    "id": "XIWfvnp_OipE"
   },
   "source": [
    "### 1.2\n",
    "\n",
    "1.   Minimum: the Hessian matrix is positive definite (all eigenvalues are positive)\n",
    "2.   Maximum: the Hessian matrix is negative definite (all eigenvalues are negative)\n",
    "3.   Saddle point: the Hessian matrix is indefinite (positive and negative eigenvalues)\n",
    "4.   Undeterminable without more information or visualization: the Hessian matrix has eigenvalues equal to 0."
   ]
  },
  {
   "cell_type": "markdown",
   "metadata": {
    "id": "_nXUxksJKJr1"
   },
   "source": [
    "## 2 Taylor Series and Newton’s Method (5 points)\n",
    "\n",
    "### 2.1 \n",
    "Derive the first 5 terms of the Taylor series about $x_0 = 0$ for $f(x) = \\cos(x)$, and write the series in sigma notation (e.g. as an infinite sum). (1 pt)\n",
    "\n",
    "### 2.2 \n",
    "In python, implement the Newton’s method to find the nearest critical point of $f(x,y)=x^2 −y^2 +4−3xy$ from the initial point $x_0 = −0.3$, $y_0 = 0.3$. After each iteration, check the value of the first derivative, i.e. the Jacobian, if the Jacobian is 0, then we have reached the critical point. (2 pts)\n",
    "\n",
    "### 2.3 \n",
    "Plot the original function for $x$ and $y$ in range from $-0.5$ to $0.5$ with step size of $0.01$, along with the initial point and the points computed after each iteration. Use method `surface_plot()` with parameter `alpha = 0.3` for plotting the function and `.scatter()` from the `matplotlib` library for plotting the points ([See Matplotlib Documentation Demo](https://matplotlib.org/2.0.2/examples/mplot3d/surface3d_demo.html)). (1 pt)\n",
    "\n",
    "### 2.4 \n",
    "How are Newton’s Method and gradient descent related? How are they different? (0.5 pts)\n",
    "\n",
    "### 2.5 \n",
    "In which case is it impossible to apply Newton’s method? Hint: look at the multidi- mensional generalization of the formula. (0.5 pts)\n"
   ]
  },
  {
   "cell_type": "markdown",
   "metadata": {
    "id": "lRYxNzw0Mp3i"
   },
   "source": [
    "## <font color=\"red\"> To Do <font> \n",
    "\n",
    "### 2.1\n",
    "\n"
   ]
  },
  {
   "cell_type": "markdown",
   "metadata": {
    "id": "OSMqIyu3NMQB"
   },
   "source": [
    "### 2.2"
   ]
  },
  {
   "cell_type": "code",
   "execution_count": 1,
   "metadata": {
    "colab": {
     "base_uri": "https://localhost:8080/"
    },
    "executionInfo": {
     "elapsed": 231,
     "status": "ok",
     "timestamp": 1638136611471,
     "user": {
      "displayName": "Noonsky Noon",
      "photoUrl": "https://lh3.googleusercontent.com/a/default-user=s64",
      "userId": "14548880660870589126"
     },
     "user_tz": -60
    },
    "id": "9mlzPx3ahgGz",
    "outputId": "f1e4752d-aa58-48bd-bc5f-1c0c4d44a38f"
   },
   "outputs": [],
   "source": [
    "# from your solution module in your .py file import your newton method function\n",
    "# you may need to load other libraries as needed\n",
    "# your outputs should also include the point x,y where convergence occurs\n",
    "\n",
    "%load_ext autoreload\n",
    "%autoreload 2"
   ]
  },
  {
   "cell_type": "markdown",
   "metadata": {
    "id": "CnsW5vCDjgAE"
   },
   "source": [
    "### 2.3"
   ]
  },
  {
   "cell_type": "code",
   "execution_count": 2,
   "metadata": {
    "colab": {
     "base_uri": "https://localhost:8080/",
     "height": 683
    },
    "executionInfo": {
     "elapsed": 1130,
     "status": "ok",
     "timestamp": 1638137327640,
     "user": {
      "displayName": "Noonsky Noon",
      "photoUrl": "https://lh3.googleusercontent.com/a/default-user=s64",
      "userId": "14548880660870589126"
     },
     "user_tz": -60
    },
    "id": "5CELGgNYlCj4",
    "outputId": "fe24c348-7d16-46c4-bd80-02f76b0ba0de"
   },
   "outputs": [],
   "source": [
    "# from your solution module in your .py file import your plotting function\n",
    "# your plot should also include the plot title, labels etc."
   ]
  },
  {
   "cell_type": "markdown",
   "metadata": {
    "id": "LWzkUTgmNQKI"
   },
   "source": [
    "### 2.4\n",
    "\n",
    "\n",
    "\n",
    "### 2.5 \n"
   ]
  },
  {
   "cell_type": "markdown",
   "metadata": {},
   "source": [
    "## 3 Experimenting with Hyperparameters\n",
    "(Note: you will need to install [torchvision](https://pytorch.org/vision/stable/index.html) for this exercise)  \n",
    "In this exercise we will be working with the [MNIST](https://pytorch.org/vision/stable/generated/torchvision.datasets.MNIST.html#torchvision.datasets.MNIST) dataset, which consists consists of handwritten digits. Use the following script to run a 2 layer neural network on MNIST where cross entropy loss is used as the loss criterion. At each iteration of the training the accuracy of network on the test set is computed.  By default the network has the following structure $L_{28\\cdot28\\rightarrow 100} \\circ \\text{ReLU} \\circ L_{100 \\rightarrow 10}$, a learning rate of $0.1$ and a batch size of $200$.  \n",
    "Experiment with 3 additional values for the learning rate, hidden size or batch size (choose only one) and run the training loop for at least 20 iterations (feel free to do more).\n",
    "\n",
    "Plot the results for each value, including the default (4 plots in total). What do you observe?"
   ]
  },
  {
   "cell_type": "code",
   "execution_count": 1,
   "metadata": {},
   "outputs": [
    {
     "name": "stdout",
     "output_type": "stream",
     "text": [
      "Iteration: 1  Loss: 2.3017163276672363  Accuracy: 12.079999923706055 \n",
      "Iteration: 2  Loss: 2.2711904048919678  Accuracy: 17.469999313354492 \n",
      "Iteration: 3  Loss: 2.2710824012756348  Accuracy: 23.969999313354492 \n",
      "Iteration: 4  Loss: 2.2596397399902344  Accuracy: 29.139999389648438 \n",
      "Iteration: 5  Loss: 2.235792398452759  Accuracy: 29.770000457763672 \n",
      "Iteration: 6  Loss: 2.2333314418792725  Accuracy: 35.58000183105469 \n",
      "Iteration: 7  Loss: 2.1992642879486084  Accuracy: 36.84000015258789 \n",
      "Iteration: 8  Loss: 2.1794016361236572  Accuracy: 42.529998779296875 \n",
      "Iteration: 9  Loss: 2.1620631217956543  Accuracy: 46.5 \n",
      "Iteration: 10  Loss: 2.1454896926879883  Accuracy: 49.59000015258789 \n",
      "Iteration: 11  Loss: 2.1305484771728516  Accuracy: 47.650001525878906 \n",
      "Iteration: 12  Loss: 2.097062110900879  Accuracy: 47.77000045776367 \n",
      "Iteration: 13  Loss: 2.0733070373535156  Accuracy: 50.22999954223633 \n",
      "Iteration: 14  Loss: 2.083475112915039  Accuracy: 60.47999954223633 \n",
      "Iteration: 15  Loss: 2.0657105445861816  Accuracy: 67.23999786376953 \n",
      "Iteration: 16  Loss: 2.014533281326294  Accuracy: 68.87999725341797 \n",
      "Iteration: 17  Loss: 1.966536045074463  Accuracy: 68.87000274658203 \n",
      "Iteration: 18  Loss: 1.9421311616897583  Accuracy: 68.83999633789062 \n",
      "Iteration: 19  Loss: 1.9206255674362183  Accuracy: 69.19999694824219 \n",
      "Iteration: 20  Loss: 1.868045687675476  Accuracy: 67.80000305175781 \n"
     ]
    }
   ],
   "source": [
    "from mnist_2layer import run_nn\n",
    "\n",
    "# list of accuracies for default hyperparameters\n",
    "accuracies_default = run_nn(batch_size=200, lr_rate=0.1, hidden_size=100, max_iter=20)"
   ]
  },
  {
   "cell_type": "code",
   "execution_count": 1,
   "metadata": {},
   "outputs": [],
   "source": [
    "# plot your results\n",
    "\n"
   ]
  }
 ],
 "metadata": {
  "colab": {
   "collapsed_sections": [],
   "name": "assignment_4.ipynb",
   "provenance": []
  },
  "kernelspec": {
   "display_name": "Python 3 (ipykernel)",
   "language": "python",
   "name": "python3"
  },
  "language_info": {
   "codemirror_mode": {
    "name": "ipython",
    "version": 3
   },
   "file_extension": ".py",
   "mimetype": "text/x-python",
   "name": "python",
   "nbconvert_exporter": "python",
   "pygments_lexer": "ipython3",
   "version": "3.9.15"
  }
 },
 "nbformat": 4,
 "nbformat_minor": 4
}
