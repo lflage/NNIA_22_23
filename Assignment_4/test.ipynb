{
 "cells": [
  {
   "cell_type": "code",
   "execution_count": 42,
   "metadata": {},
   "outputs": [],
   "source": [
    "import torch\n",
    "import numpy as np\n",
    "from torch import nn\n",
    "from torch.utils.data import DataLoader\n",
    "from sklearn.model_selection import train_test_split\n",
    "from sklearn.datasets import fetch_california_housing\n",
    "from sklearn.preprocessing import StandardScaler\n",
    "\n",
    "class CustomDataset():\n",
    "    \"\"\"Custom dataset Loader for California Housing\n",
    "    \n",
    "    : Dataset <tuple>: tuple of two numpy arrays where index 0 contains the \n",
    "                    features (fetch_california_housing.data) and index 1 \n",
    "                    contains the target values (fetch_california_housing.target)\n",
    "     \"\"\"\n",
    "    def __init__(self, Dataset:tuple):\n",
    "        \"\"\"Separate the input\"\"\"\n",
    "        self.data = Dataset[0]\n",
    "        self.target = Dataset[1]\n",
    "\n",
    "    def __len__(self):\n",
    "        \"\"\"Returns the lenght of the dataset\"\"\"\n",
    "        return len(self.data)\n",
    "\n",
    "    def __getitem__(self, idx):\n",
    "        \"\"\"returns at index idx\"\"\"\n",
    "        return self.data[idx], self.target[idx]"
   ]
  },
  {
   "cell_type": "code",
   "execution_count": 43,
   "metadata": {},
   "outputs": [
    {
     "name": "stdout",
     "output_type": "stream",
     "text": [
      "(20640, 8)\n",
      "(20640,)\n",
      "<class 'numpy.ndarray'>\n"
     ]
    }
   ],
   "source": [
    "# Data Preparation\n",
    "\n",
    "\n",
    "housing = fetch_california_housing()\n",
    "print(housing.data.shape)\n",
    "print(housing.target.shape)\n",
    "\n",
    "\n",
    "# Slicing data\n",
    "## Train Set\n",
    "my_scaler = StandardScaler()\n",
    "scaled_data= my_scaler.fit_transform(X=housing.data, y=housing.target)\n",
    "\n",
    "print(type(scaled_data))\n"
   ]
  },
  {
   "cell_type": "code",
   "execution_count": 44,
   "metadata": {},
   "outputs": [
    {
     "name": "stdout",
     "output_type": "stream",
     "text": [
      "torch.Size([1000, 8])\n",
      "torch.Size([1000])\n",
      "torch.Size([100, 8])\n",
      "torch.Size([100])\n"
     ]
    }
   ],
   "source": [
    "\n",
    "\n",
    "data_train = torch.from_numpy(np.float32(scaled_data[:1000]))\n",
    "target_train = torch.from_numpy(np.float32(housing.target[:1000]))\n",
    "\n",
    "print(data_train.shape)\n",
    "print(target_train.shape)\n",
    "\n",
    "train_set = (data_train,target_train)\n",
    "\n",
    "## Dev Set\n",
    "data_dev = torch.from_numpy(np.float32(scaled_data[1000:1100]))\n",
    "target_dev = torch.from_numpy(np.float32(housing.target[1000:1100]))\n",
    "\n",
    "print(data_dev.shape)\n",
    "print(target_dev.shape)\n",
    "dev_set = (data_dev,target_dev)\n",
    "\n",
    "\n",
    "custom_train = CustomDataset(train_set)\n",
    "train_dataloader = DataLoader(custom_train, batch_size=1)\n",
    "\n",
    "custom_train = CustomDataset(dev_set)\n",
    "dev_dataloader = DataLoader(custom_train, batch_size=1)"
   ]
  },
  {
   "cell_type": "code",
   "execution_count": 47,
   "metadata": {},
   "outputs": [],
   "source": [
    "class NeuralNetwork(nn.Module):\n",
    "    def __init__(self):\n",
    "        super(NeuralNetwork, self).__init__()\n",
    "        self.flatten = nn.Flatten()\n",
    "        self.linear_relu_stack = nn.Sequential(\n",
    "            nn.Linear(8, 32),\n",
    "            nn.ReLU(),\n",
    "            nn.Linear(32, 1),\n",
    "        )\n",
    "\n",
    "    def forward(self, x):\n",
    "        x = self.flatten(x)\n",
    "        logits = self.linear_relu_stack(x)\n",
    "        return logits\n",
    "\n",
    "model = NeuralNetwork()\n",
    "\n",
    "def train_loop(dataloader, model, loss_fn, optimizer):\n",
    "    size = len(dataloader)\n",
    "    for batch, (X, y) in enumerate(dataloader):\n",
    "        # Compute prediction and loss\n",
    "        pred = model(X)\n",
    "        loss = loss_fn(pred, y)\n",
    "\n",
    "        # Backpropagation\n",
    "        optimizer.zero_grad()\n",
    "        loss.backward()\n",
    "        optimizer.step()\n",
    "\n",
    "        if batch % 100 == 0:\n",
    "            loss, current = loss.item(), batch * len(X)\n",
    "            print(f\"loss: {loss:>7f}  [{current:>5d}/{size:>5d}]\")\n",
    "\n",
    "\n",
    "def test_loop(dataloader, model, loss_fn):\n",
    "    size = len(dataloader)\n",
    "    num_batches = len(dataloader)\n",
    "    test_loss, correct = 0, 0\n",
    "\n",
    "    with torch.no_grad():\n",
    "        for X, y in dataloader:\n",
    "            pred = model(X)\n",
    "            test_loss += loss_fn(pred, y).item()\n",
    "            #correct += (pred.argmax(1) == y).type(torch.float).sum().item()\n",
    "\n",
    "    test_loss /= num_batches\n",
    "    correct /= size\n",
    "    print(f\"Avg MSE loss : {test_loss:>8f} \\n\")"
   ]
  },
  {
   "cell_type": "code",
   "execution_count": 50,
   "metadata": {},
   "outputs": [
    {
     "name": "stdout",
     "output_type": "stream",
     "text": [
      "Epoch 1\n",
      "-------------------------------\n",
      "loss: 21.418568  [    0/ 1000]\n",
      "loss: 2.878118  [  100/ 1000]\n",
      "loss: 1.231503  [  200/ 1000]\n",
      "loss: 0.422587  [  300/ 1000]\n"
     ]
    },
    {
     "name": "stderr",
     "output_type": "stream",
     "text": [
      "/home/lucasfl/anaconda3/envs/py38/lib/python3.8/site-packages/torch/nn/modules/loss.py:520: UserWarning: Using a target size (torch.Size([1])) that is different to the input size (torch.Size([1, 1])). This will likely lead to incorrect results due to broadcasting. Please ensure they have the same size.\n",
      "  return F.mse_loss(input, target, reduction=self.reduction)\n"
     ]
    },
    {
     "name": "stdout",
     "output_type": "stream",
     "text": [
      "loss: 0.557020  [  400/ 1000]\n",
      "loss: 0.409181  [  500/ 1000]\n",
      "loss: 0.146185  [  600/ 1000]\n",
      "loss: 0.543115  [  700/ 1000]\n",
      "loss: 0.002199  [  800/ 1000]\n",
      "loss: 0.058365  [  900/ 1000]\n",
      "Avg MSE loss : 1.184848 \n",
      "\n",
      "Epoch 2\n",
      "-------------------------------\n",
      "loss: 0.179446  [    0/ 1000]\n",
      "loss: 1.152719  [  100/ 1000]\n",
      "loss: 0.496212  [  200/ 1000]\n",
      "loss: 0.033392  [  300/ 1000]\n",
      "loss: 0.348483  [  400/ 1000]\n",
      "loss: 0.146327  [  500/ 1000]\n",
      "loss: 0.075511  [  600/ 1000]\n",
      "loss: 0.467657  [  700/ 1000]\n",
      "loss: 0.000160  [  800/ 1000]\n",
      "loss: 0.036381  [  900/ 1000]\n",
      "Avg MSE loss : 1.230074 \n",
      "\n",
      "Epoch 3\n",
      "-------------------------------\n",
      "loss: 0.236759  [    0/ 1000]\n",
      "loss: 1.034773  [  100/ 1000]\n",
      "loss: 0.419639  [  200/ 1000]\n",
      "loss: 0.019994  [  300/ 1000]\n",
      "loss: 0.315251  [  400/ 1000]\n",
      "loss: 0.127008  [  500/ 1000]\n",
      "loss: 0.079516  [  600/ 1000]\n",
      "loss: 0.484733  [  700/ 1000]\n",
      "loss: 0.000134  [  800/ 1000]\n",
      "loss: 0.034266  [  900/ 1000]\n",
      "Avg MSE loss : 1.309016 \n",
      "\n",
      "Epoch 4\n",
      "-------------------------------\n",
      "loss: 0.244967  [    0/ 1000]\n",
      "loss: 0.980248  [  100/ 1000]\n",
      "loss: 0.391894  [  200/ 1000]\n",
      "loss: 0.012004  [  300/ 1000]\n",
      "loss: 0.300457  [  400/ 1000]\n",
      "loss: 0.121021  [  500/ 1000]\n",
      "loss: 0.078226  [  600/ 1000]\n",
      "loss: 0.498388  [  700/ 1000]\n",
      "loss: 0.000512  [  800/ 1000]\n",
      "loss: 0.031924  [  900/ 1000]\n",
      "Avg MSE loss : 1.399590 \n",
      "\n",
      "Epoch 5\n",
      "-------------------------------\n",
      "loss: 0.256017  [    0/ 1000]\n",
      "loss: 0.978502  [  100/ 1000]\n",
      "loss: 0.371472  [  200/ 1000]\n",
      "loss: 0.007525  [  300/ 1000]\n",
      "loss: 0.289388  [  400/ 1000]\n",
      "loss: 0.118846  [  500/ 1000]\n",
      "loss: 0.073635  [  600/ 1000]\n",
      "loss: 0.483341  [  700/ 1000]\n",
      "loss: 0.000830  [  800/ 1000]\n",
      "loss: 0.029278  [  900/ 1000]\n",
      "Avg MSE loss : 1.470494 \n",
      "\n",
      "Done!\n"
     ]
    }
   ],
   "source": [
    "model = NeuralNetwork()\n",
    "\n",
    "loss_fn = nn.MSELoss()\n",
    "learning_rate = .001\n",
    "\n",
    "optimizer = torch.optim.Adam(model.parameters(), lr=learning_rate)\n",
    "\n",
    "epochs = 5\n",
    "for t in range(epochs):\n",
    "    print(f\"Epoch {t+1}\\n-------------------------------\")\n",
    "    train_loop(train_dataloader, model, loss_fn, optimizer)\n",
    "    test_loop(dev_dataloader, model, loss_fn)\n",
    "print(\"Done!\")\n"
   ]
  },
  {
   "cell_type": "code",
   "execution_count": null,
   "metadata": {},
   "outputs": [],
   "source": []
  }
 ],
 "metadata": {
  "kernelspec": {
   "display_name": "Python 3.8.13 ('py38')",
   "language": "python",
   "name": "python3"
  },
  "language_info": {
   "codemirror_mode": {
    "name": "ipython",
    "version": 3
   },
   "file_extension": ".py",
   "mimetype": "text/x-python",
   "name": "python",
   "nbconvert_exporter": "python",
   "pygments_lexer": "ipython3",
   "version": "3.8.13"
  },
  "orig_nbformat": 4,
  "vscode": {
   "interpreter": {
    "hash": "a05726dda0d67ac54b035c83feca94287ab73993431c9cd0f920a291b6b60929"
   }
  }
 },
 "nbformat": 4,
 "nbformat_minor": 2
}
