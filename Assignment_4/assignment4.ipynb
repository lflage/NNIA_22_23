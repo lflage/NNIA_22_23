{
 "cells": [
  {
   "cell_type": "markdown",
   "metadata": {
    "id": "ZT_S_io_85jk"
   },
   "source": [
    "# NNIA Assignment 4\n",
    "\n",
    "**DEADLINE: 7. 12. 2021 08:00 CET**  \n",
    "Submission more than 10 minutes past the deadline will **not** be graded!\n",
    "\n",
    "- Name & ID 1 (Teams username e.g. s8xxxxx): \n",
    "- Name & ID 2 (Teams username e.g. s8xxxxx):\n",
    "- Hours of work per person: \n",
    "\n",
    "# Submission Instructions\n",
    "\n",
    "**IMPORTANT** Please make sure you read the following instructions carefully. If you are unclear about any part of the assignment, ask questions **before** the assignment deadline. All course-related questions can be addressed on the course **[Piazza Platform](https://piazza.com/class/kvc3vzhsvh55rt)**.\n",
    "\n",
    "* Assignments are to be submitted in a **team of 2**.\n",
    "* Please include your **names**, **ID's**, **Teams usernames**, and **approximate total time spent per person** at the beginning of the Notebook in the space provided\n",
    "* Make sure you appropriately comment your code wherever required. \n",
    "* Your final submission should contain this completed Jupyter Notebook, including the bonus question (if you attempt it), and any necessary Python files.\n",
    "* Do **not** submit any data or cache files (e.g. `__pycache__`).\n",
    "* Upload the **zipped** folder (*.zip* is the only accepted extension) in **Teams**.\n",
    "* Only **one member** of the group should make the submisssion.\n",
    "* **Important** please name the submitted zip folder as: `Name1_id1_Name2_id2.zip`. The Jupyter Notebook should also be named: `Name1_id1_Name2_id2.ipynb`. This is **very important** for our internal organization epeatedly students fail to do this."
   ]
  },
  {
   "cell_type": "markdown",
   "metadata": {},
   "source": [
    "## 1 Calculus Revision (6 points)\n",
    "\n",
    "### 1.1 Critical Points (2 points)\n",
    "\n",
    "Consider the following functions: $f(x)=5x^2 +4x^3 −10$ and $g(x)=6(x−3)^3 +2$.\n",
    "\n",
    "1. Compute the first derivatives for both functions. (0.5 pts)\n",
    "2. Compute the second derivatives for both functions. (0.5 pts)\n",
    "3. Find all critical points for both functions (using first and second derivatives) and give their types (refer to lecture slides). Make sure to comment on how one determines the types of critical points. (1 pt)\n",
    "\n",
    "### 1.2 Local and Global (3 points)\n",
    "\n",
    "Some functions have more than one or two critical points such as function $h(x)=4x^2sin(x)+\\frac{e^x}{e^x+1} + x^3$.\n",
    "1. Compute the first derivative for $h$. (Hint: Use the Product and Quotient rules). (1 pt)\n",
    "2. Plot $h$ for the interval $x \\in (-4,5)$. Use an online resource like Wolfram Alpha or Desmos. (0.5 pt)\n",
    "3. Find the critical points from left to right and name them as $p_1, p_2,...p_n$ (no need for exact coordinates). For each point determine its type and if it is local or global. (0.5)\n",
    "4. Why can local minima cause optimization algorithms to fail? (0.5)\n",
    "\n",
    "### 1.3 Activation Functions (1.5 points)\n",
    "\n",
    "Three of the most commonly-used activation functions are the sigmoid function, hyperbolic tangent, and ReLU. The equations for these functions are provided below:\n",
    "\n",
    "* $\\sigma(x) = \\frac{1}{1+e^{-x}}$  \n",
    "\n",
    "* $\\tanh(x) = \\frac{e^{2x} - 1}{e^{2x} + 1}$\n",
    "\n",
    "* $\\text{ReLU}(x) =  \\bigg\\{ \\begin{array}{ll} 0, & x < 0 \\\\ x, & x > 0 \\\\ \\end{array}$\n",
    "\n",
    "Again, using code or an online resource like Wolfram Alpha or Desmos, graph each function along with its derivative. Make sure to include the plots in your solution.\n",
    "1. Discuss the differences you observe. (1 sentence)\n",
    "2. What are the advantages and disadvantages of each? In particular, think about how the range of the function and the amplitude of the derivative would affect a network. (2 sentences)\n"
   ]
  },
  {
   "cell_type": "markdown",
   "metadata": {},
   "source": [
    "### 1.1 <font color=\"red\">To Do</font>\n",
    "\n",
    "1.  \n",
    "\n",
    "2.  \n",
    "    \n",
    "3.  "
   ]
  },
  {
   "cell_type": "markdown",
   "metadata": {},
   "source": [
    "### 1.2 <font color=\"red\">To Do</font>\n",
    "\n",
    "1.   \n",
    "\n",
    "2.  \n",
    "    \n",
    "3. \n",
    "\n",
    "4. "
   ]
  },
  {
   "cell_type": "markdown",
   "metadata": {},
   "source": [
    "### 1.3 <font color=\"red\">To Do</font>\n",
    "\n",
    "**Sigmoid Function:**\n",
    "\n",
    "\n",
    "\n",
    "**Tanh Function:**\n",
    "\n",
    "\n",
    "\n",
    "**Relu Function:**\n",
    "\n",
    "\n"
   ]
  },
  {
   "cell_type": "markdown",
   "metadata": {},
   "source": [
    "## 2.3 Neural Networks Hello World (4 points)\n",
    "\n",
    "Construct a neural network for the California Housing Prices dataset.\n",
    "It is composed of two linear layers with hidden dimensionality of $32$ and ReLU after the first layer: $L_{8\\rightarrow 32} \\circ \\text{ReLU} \\circ L_{32 \\rightarrow 1}$ where $L_{x\\rightarrow y}$ is a linear layer with $y$ hidden nodes (`nn.Linear(x, y)`).\n",
    "\n",
    "Split your data into dev and training sets (1000 training, 100 dev, discard rest) and optimize these networks with Adam with learning rate $10^{-3}$.\n",
    "Report MSE on both training and dev sets. You can use PyTorch built-in functions to solve this exercise. \n",
    "\n",
    "Notes:\n",
    "- Please read [this introduction to the optimization loop in PyTorch](https://pytorch.org/tutorials/beginner/basics/optimization_tutorial.html). It should give you a good overview to what PyTorch needs from you to train a neural network.\n",
    "- Run your training multiple times with different seeds because the results have quite high variance.\n",
    "- There are many optimizers available and Adam is an optimizer that's more complex than SGD (stochastic gradient descent). It has not yet been covered in the lecture but its usage in code is equivalent to that of SGD and performs much better.\n"
   ]
  },
  {
   "cell_type": "code",
   "execution_count": 48,
   "metadata": {},
   "outputs": [
    {
     "name": "stdout",
     "output_type": "stream",
     "text": [
      "The autoreload extension is already loaded. To reload it, use:\n",
      "  %reload_ext autoreload\n",
      "(20640, 8)\n",
      "(20640,)\n",
      "<class 'numpy.ndarray'>\n",
      "torch.Size([1000, 8])\n",
      "torch.Size([1000, 1])\n",
      "torch.Size([100, 8])\n",
      "torch.Size([100, 1])\n"
     ]
    }
   ],
   "source": [
    "# DONE\n",
    "# from your solution module import ...\n",
    "# your outputs should include Training MSE and Dev MSE.\n",
    "# useful imports\n",
    "\n",
    "%load_ext autoreload\n",
    "%autoreload 2\n",
    "\n",
    "import torch\n",
    "import solution\n",
    "import torch.nn as nn\n",
    "import numpy as np\n",
    "from torch.utils.data import DataLoader\n",
    "from sklearn.datasets import fetch_california_housing\n",
    "\n",
    "# Data preparation\n",
    "\n",
    "housing = fetch_california_housing()\n",
    "print(housing.data.shape)\n",
    "print(housing.target.shape)\n",
    "\n",
    "\n",
    "# Slicing data\n",
    "## Train Set\n",
    "\n",
    "### Standardizing the Data\n",
    "my_scaler = solution.StandardScaler()\n",
    "scaled_data= my_scaler.fit_transform(X=housing.data, y=housing.target)\n",
    "\n",
    "print(type(scaled_data))\n",
    "\n",
    "### Slice\n",
    "data_train = torch.from_numpy(np.float32(scaled_data[:1000]))\n",
    "target_train = torch.from_numpy(np.float32(housing.target[:1000])).reshape([1000,1]) \n",
    "\n",
    "### Checking for shapes\n",
    "print(data_train.shape)\n",
    "print(target_train.shape)\n",
    "\n",
    "### train_set is a touple\n",
    "train_set = (data_train, target_train)\n",
    "\n",
    "## Dev Set\n",
    "### Slice\n",
    "data_dev = torch.from_numpy(np.float32(scaled_data[1000:1100]))\n",
    "target_dev = torch.from_numpy(np.float32(housing.target[1000:1100])).reshape([100,1])\n",
    "\n",
    "\n",
    "### checking for shapes\n",
    "print(data_dev.shape)\n",
    "print(target_dev.shape)\n",
    "dev_set = (data_dev,target_dev)\n",
    "\n",
    "# Loading the data into a Dataloader\n",
    "custom_train = solution.CustomDataset(train_set)\n",
    "train_dataloader = DataLoader(custom_train, batch_size=10)\n",
    "\n",
    "custom_train = solution.CustomDataset(dev_set)\n",
    "dev_dataloader = DataLoader(custom_train, batch_size=10)"
   ]
  },
  {
   "cell_type": "code",
   "execution_count": 49,
   "metadata": {},
   "outputs": [
    {
     "name": "stdout",
     "output_type": "stream",
     "text": [
      "Epoch 1\n",
      "-------------------------------\n",
      "------- Training Loop -------\n",
      "Traning Loss: 2.9923953226953746\n",
      "------- Test Loop --------\n",
      "Avg MSE loss : 0.764856 \n",
      "\n",
      "Epoch 2\n",
      "-------------------------------\n",
      "------- Training Loop -------\n",
      "Traning Loss: 1.0309602809883653\n",
      "------- Test Loop --------\n",
      "Avg MSE loss : 1.549365 \n",
      "\n",
      "Epoch 3\n",
      "-------------------------------\n",
      "------- Training Loop -------\n",
      "Traning Loss: 0.5763946664892137\n",
      "------- Test Loop --------\n",
      "Avg MSE loss : 1.623821 \n",
      "\n",
      "Epoch 4\n",
      "-------------------------------\n",
      "------- Training Loop -------\n",
      "Traning Loss: 0.38908743087202313\n",
      "------- Test Loop --------\n",
      "Avg MSE loss : 1.501639 \n",
      "\n",
      "Epoch 5\n",
      "-------------------------------\n",
      "------- Training Loop -------\n",
      "Traning Loss: 0.3348109708726406\n",
      "------- Test Loop --------\n",
      "Avg MSE loss : 1.416264 \n",
      "\n",
      "Epoch 6\n",
      "-------------------------------\n",
      "------- Training Loop -------\n",
      "Traning Loss: 0.3188047969713807\n",
      "------- Test Loop --------\n",
      "Avg MSE loss : 1.369380 \n",
      "\n",
      "Epoch 7\n",
      "-------------------------------\n",
      "------- Training Loop -------\n",
      "Traning Loss: 0.31089526291936637\n",
      "------- Test Loop --------\n",
      "Avg MSE loss : 1.342072 \n",
      "\n",
      "Epoch 8\n",
      "-------------------------------\n",
      "------- Training Loop -------\n",
      "Traning Loss: 0.3051667159423232\n",
      "------- Test Loop --------\n",
      "Avg MSE loss : 1.326231 \n",
      "\n",
      "Epoch 9\n",
      "-------------------------------\n",
      "------- Training Loop -------\n",
      "Traning Loss: 0.30038517456501723\n",
      "------- Test Loop --------\n",
      "Avg MSE loss : 1.318569 \n",
      "\n",
      "Epoch 10\n",
      "-------------------------------\n",
      "------- Training Loop -------\n",
      "Traning Loss: 0.29635371325537563\n",
      "------- Test Loop --------\n",
      "Avg MSE loss : 1.316012 \n",
      "\n",
      "Done!\n"
     ]
    }
   ],
   "source": [
    "\n",
    "model = solution.NeuralNetwork()\n",
    "\n",
    "loss_fn = nn.MSELoss()\n",
    "learning_rate = 10**-3\n",
    "\n",
    "optimizer = torch.optim.Adam(model.parameters(), lr=learning_rate)\n",
    "\n",
    "epochs = 10\n",
    "for t in range(epochs):\n",
    "    print(f\"Epoch {t+1}\\n-------------------------------\")\n",
    "    solution.train_loop(train_dataloader, model, loss_fn, optimizer)\n",
    "    solution.test_loop(dev_dataloader, model, loss_fn)\n",
    "print(\"Done!\")\n",
    "\n"
   ]
  },
  {
   "cell_type": "markdown",
   "metadata": {},
   "source": [
    "# Bonus Learning Rate Effect on Performance (1 point)\n",
    "\n",
    "Run your neural network with different learning rates (scale logarithmically from $10^{-10}$ to $10^{0}$) and observe the effects on performance. Importantly keep the number of optimization steps (epochs) constant. Because the process is very random run the model multiple times (e.g. 3 times) and plot the results. Try to form hypothesis about the results which you got.\n",
    "\n",
    "Don't worry, the model training can be done on a CPU and is not computationally intensive."
   ]
  },
  {
   "cell_type": "code",
   "execution_count": 50,
   "metadata": {},
   "outputs": [],
   "source": [
    "learning_rates = [10**-i for i in range(0,10)]"
   ]
  },
  {
   "cell_type": "code",
   "execution_count": 51,
   "metadata": {},
   "outputs": [
    {
     "name": "stdout",
     "output_type": "stream",
     "text": [
      "Epoch 1\n",
      "-------------------------------\n",
      "------- Training Loop -------\n",
      "Traning Loss: 7526.500945008993\n",
      "------- Test Loop --------\n",
      "Avg MSE loss : 20935.069272 \n",
      "\n",
      "Epoch 2\n",
      "-------------------------------\n",
      "------- Training Loop -------\n",
      "Traning Loss: 116.87149160370231\n",
      "------- Test Loop --------\n",
      "Avg MSE loss : 2409.508352 \n",
      "\n",
      "Epoch 3\n",
      "-------------------------------\n",
      "------- Training Loop -------\n",
      "Traning Loss: 1.5743328318186105\n",
      "------- Test Loop --------\n",
      "Avg MSE loss : 141.458061 \n",
      "\n",
      "Epoch 1\n",
      "-------------------------------\n",
      "------- Training Loop -------\n",
      "Traning Loss: 1.2356557233445347\n",
      "------- Test Loop --------\n",
      "Avg MSE loss : 1.640783 \n",
      "\n",
      "Epoch 2\n",
      "-------------------------------\n",
      "------- Training Loop -------\n",
      "Traning Loss: 0.7144412529468537\n",
      "------- Test Loop --------\n",
      "Avg MSE loss : 2.014853 \n",
      "\n",
      "Epoch 3\n",
      "-------------------------------\n",
      "------- Training Loop -------\n",
      "Traning Loss: 0.7478463144600391\n",
      "------- Test Loop --------\n",
      "Avg MSE loss : 1.660147 \n",
      "\n",
      "Epoch 1\n",
      "-------------------------------\n",
      "------- Training Loop -------\n",
      "Traning Loss: 0.8776339862123131\n",
      "------- Test Loop --------\n",
      "Avg MSE loss : 1.581910 \n",
      "\n",
      "Epoch 2\n",
      "-------------------------------\n",
      "------- Training Loop -------\n",
      "Traning Loss: 0.40346343657001854\n",
      "------- Test Loop --------\n",
      "Avg MSE loss : 1.370555 \n",
      "\n",
      "Epoch 3\n",
      "-------------------------------\n",
      "------- Training Loop -------\n",
      "Traning Loss: 0.38482766347937286\n",
      "------- Test Loop --------\n",
      "Avg MSE loss : 1.507488 \n",
      "\n",
      "Epoch 1\n",
      "-------------------------------\n",
      "------- Training Loop -------\n",
      "Traning Loss: 2.3001407454162837\n",
      "------- Test Loop --------\n",
      "Avg MSE loss : 0.382327 \n",
      "\n",
      "Epoch 2\n",
      "-------------------------------\n",
      "------- Training Loop -------\n",
      "Traning Loss: 0.5469359359517694\n",
      "------- Test Loop --------\n",
      "Avg MSE loss : 1.027238 \n",
      "\n",
      "Epoch 3\n",
      "-------------------------------\n",
      "------- Training Loop -------\n",
      "Traning Loss: 0.410157212279737\n",
      "------- Test Loop --------\n",
      "Avg MSE loss : 1.091720 \n",
      "\n",
      "Epoch 1\n",
      "-------------------------------\n",
      "------- Training Loop -------\n",
      "Traning Loss: 5.261479299664497\n",
      "------- Test Loop --------\n",
      "Avg MSE loss : 1.684103 \n",
      "\n",
      "Epoch 2\n",
      "-------------------------------\n",
      "------- Training Loop -------\n",
      "Traning Loss: 4.852004289031028\n",
      "------- Test Loop --------\n",
      "Avg MSE loss : 1.461580 \n",
      "\n",
      "Epoch 3\n",
      "-------------------------------\n",
      "------- Training Loop -------\n",
      "Traning Loss: 4.4553843128681185\n",
      "------- Test Loop --------\n",
      "Avg MSE loss : 1.256364 \n",
      "\n",
      "Epoch 1\n",
      "-------------------------------\n",
      "------- Training Loop -------\n",
      "Traning Loss: 5.4113850659132\n",
      "------- Test Loop --------\n",
      "Avg MSE loss : 2.310218 \n",
      "\n",
      "Epoch 2\n",
      "-------------------------------\n",
      "------- Training Loop -------\n",
      "Traning Loss: 5.375718705654144\n",
      "------- Test Loop --------\n",
      "Avg MSE loss : 2.285373 \n",
      "\n",
      "Epoch 3\n",
      "-------------------------------\n",
      "------- Training Loop -------\n",
      "Traning Loss: 5.340609541535377\n",
      "------- Test Loop --------\n",
      "Avg MSE loss : 2.260967 \n",
      "\n",
      "Epoch 1\n",
      "-------------------------------\n",
      "------- Training Loop -------\n",
      "Traning Loss: 6.12498040497303\n",
      "------- Test Loop --------\n",
      "Avg MSE loss : 3.222230 \n",
      "\n",
      "Epoch 2\n",
      "-------------------------------\n",
      "------- Training Loop -------\n",
      "Traning Loss: 6.119784005284309\n",
      "------- Test Loop --------\n",
      "Avg MSE loss : 3.217993 \n",
      "\n",
      "Epoch 3\n",
      "-------------------------------\n",
      "------- Training Loop -------\n",
      "Traning Loss: 6.1147077524662015\n",
      "------- Test Loop --------\n",
      "Avg MSE loss : 3.213809 \n",
      "\n",
      "Epoch 1\n",
      "-------------------------------\n",
      "------- Training Loop -------\n",
      "Traning Loss: 6.100852978229523\n",
      "------- Test Loop --------\n",
      "Avg MSE loss : 2.506143 \n",
      "\n",
      "Epoch 2\n",
      "-------------------------------\n",
      "------- Training Loop -------\n",
      "Traning Loss: 6.100250002145767\n",
      "------- Test Loop --------\n",
      "Avg MSE loss : 2.505788 \n",
      "\n",
      "Epoch 3\n",
      "-------------------------------\n",
      "------- Training Loop -------\n",
      "Traning Loss: 6.099652035236359\n",
      "------- Test Loop --------\n",
      "Avg MSE loss : 2.505435 \n",
      "\n",
      "Epoch 1\n",
      "-------------------------------\n",
      "------- Training Loop -------\n",
      "Traning Loss: 5.2815279433131215\n",
      "------- Test Loop --------\n",
      "Avg MSE loss : 2.218038 \n",
      "\n",
      "Epoch 2\n",
      "-------------------------------\n",
      "------- Training Loop -------\n",
      "Traning Loss: 5.281491418778896\n",
      "------- Test Loop --------\n",
      "Avg MSE loss : 2.218012 \n",
      "\n",
      "Epoch 3\n",
      "-------------------------------\n",
      "------- Training Loop -------\n",
      "Traning Loss: 5.281456486582756\n",
      "------- Test Loop --------\n",
      "Avg MSE loss : 2.217987 \n",
      "\n",
      "Epoch 1\n",
      "-------------------------------\n",
      "------- Training Loop -------\n",
      "Traning Loss: 5.601181608438492\n",
      "------- Test Loop --------\n",
      "Avg MSE loss : 2.070330 \n",
      "\n",
      "Epoch 2\n",
      "-------------------------------\n",
      "------- Training Loop -------\n",
      "Traning Loss: 5.601181071400642\n",
      "------- Test Loop --------\n",
      "Avg MSE loss : 2.070329 \n",
      "\n",
      "Epoch 3\n",
      "-------------------------------\n",
      "------- Training Loop -------\n",
      "Traning Loss: 5.601180592179299\n",
      "------- Test Loop --------\n",
      "Avg MSE loss : 2.070329 \n",
      "\n"
     ]
    }
   ],
   "source": [
    "train_loss_list = []\n",
    "test_loss_list = []\n",
    "\n",
    "for learning_rate in learning_rates:\n",
    "    \n",
    "\n",
    "    model = solution.NeuralNetwork()\n",
    "\n",
    "    loss_fn = nn.MSELoss()\n",
    "    learning_rate = learning_rate\n",
    "\n",
    "    optimizer = torch.optim.Adam(model.parameters(), lr=learning_rate)\n",
    "\n",
    "    epochs = 3\n",
    "    epoch_train_loss = []\n",
    "    epoch_test_loss =[] \n",
    "    for t in range(epochs):\n",
    "        print(f\"Epoch {t+1}\\n-------------------------------\")\n",
    "\n",
    "\n",
    "        train_loss = solution.train_loop(train_dataloader, model, loss_fn, optimizer)\n",
    "        test_loss = solution.test_loop(dev_dataloader, model, loss_fn)\n",
    "        epoch_train_loss.append(train_loss)\n",
    "        epoch_test_loss.append(test_loss)\n",
    "    train_loss_list.append(sum(epoch_train_loss)/3)\n",
    "    test_loss_list.append(sum(epoch_test_loss)/3)\n",
    "\n",
    "\n",
    "\n",
    "    \n",
    "\n",
    "    \n",
    "\n"
   ]
  },
  {
   "cell_type": "code",
   "execution_count": 52,
   "metadata": {},
   "outputs": [
    {
     "data": {
      "text/plain": [
       "Text(0.5, 1.0, 'Training - Learning Rate x MSE')"
      ]
     },
     "execution_count": 52,
     "metadata": {},
     "output_type": "execute_result"
    },
    {
     "data": {
      "image/png": "[encoded data removed]",
      "text/plain": [
       "<Figure size 640x480 with 1 Axes>"
      ]
     },
     "metadata": {},
     "output_type": "display_data"
    }
   ],
   "source": [
    "import matplotlib\n",
    "import matplotlib.pyplot as plt\n",
    "\n",
    "# Plot MSE x Learning Rate\n",
    "plt.scatter(learning_rates, train_loss_list)\n",
    "plt.xscale(\"log\")\n",
    "plt.xlabel(\"Learning Rate - Log Base 10\")\n",
    "plt.ylabel(\"MSE - Loss (mean of 3 epochs)\")\n",
    "plt.title('Training - Learning Rate x MSE')"
   ]
  },
  {
   "cell_type": "code",
   "execution_count": 53,
   "metadata": {},
   "outputs": [
    {
     "data": {
      "text/plain": [
       "Text(0.5, 1.0, 'Training - Learning Rate x MSE - without 1')"
      ]
     },
     "execution_count": 53,
     "metadata": {},
     "output_type": "execute_result"
    },
    {
     "data": {
      "image/png": "[encoded data removed]",
      "text/plain": [
       "<Figure size 640x480 with 1 Axes>"
      ]
     },
     "metadata": {},
     "output_type": "display_data"
    }
   ],
   "source": [
    "# Plot MSE x Learning Rate - Removing 10⁰ since it overshoots terribly\n",
    "plt.scatter(learning_rates[1:], train_loss_list[1:])\n",
    "plt.xscale(\"log\")\n",
    "plt.xlabel(\"Learning Rate - Log Base 10\")\n",
    "plt.ylabel(\"MSE - Loss (mean of 3 epochs)\")\n",
    "plt.title('Training - Learning Rate x MSE - without 1')"
   ]
  },
  {
   "cell_type": "code",
   "execution_count": 56,
   "metadata": {},
   "outputs": [
    {
     "data": {
      "text/plain": [
       "Text(0.5, 1.0, 'Test - Learning Rate x MSE - without 1')"
      ]
     },
     "execution_count": 56,
     "metadata": {},
     "output_type": "execute_result"
    },
    {
     "data": {
      "image/png": "[encoded data removed]",
      "text/plain": [
       "<Figure size 640x480 with 1 Axes>"
      ]
     },
     "metadata": {},
     "output_type": "display_data"
    }
   ],
   "source": [
    "plt.scatter(learning_rates, test_loss_list)\n",
    "plt.xscale(\"log\")\n",
    "plt.xlabel(\"Learning Rate - Log Base 10\")\n",
    "plt.ylabel(\"MSE - Loss (mean of 3 epochs)\")\n",
    "plt.title('Test - Learning Rate x MSE - without 1')"
   ]
  },
  {
   "cell_type": "code",
   "execution_count": 55,
   "metadata": {},
   "outputs": [
    {
     "data": {
      "text/plain": [
       "Text(0.5, 1.0, 'Test - Learning Rate x MSE - without 1')"
      ]
     },
     "execution_count": 55,
     "metadata": {},
     "output_type": "execute_result"
    },
    {
     "data": {
      "image/png": "[encoded data removed]",
      "text/plain": [
       "<Figure size 640x480 with 1 Axes>"
      ]
     },
     "metadata": {},
     "output_type": "display_data"
    }
   ],
   "source": [
    "# Plot MSE x Learning Rate\n",
    "plt.scatter(learning_rates[1:], test_loss_list[1:])\n",
    "plt.xscale(\"log\")\n",
    "plt.xlabel(\"Learning Rate - Log Base 10\")\n",
    "plt.ylabel(\"MSE - Loss (mean of 3 epochs)\")\n",
    "plt.title('Test - Learning Rate x MSE - without 1')"
   ]
  },
  {
   "cell_type": "markdown",
   "metadata": {},
   "source": [
    "For learning rate 1 the MSE has completely overshoot, we probably have an exploding gradient.\n",
    "\n",
    "For this exercise, since it was not specified which MSE we should plot, it was\n",
    "decided to plot a mean of the MSE for each training epoch. \n",
    "\n",
    "For the training Data the MSE visibly drops when using LR 10^-3, has its lowest\n",
    "value on 10^ and increases a bit for higher MSE values. \n",
    "This probably means we found a minima in the modeled function.\n",
    "\n",
    "For the Development (test) Data, the lowest MSE value is found using LR 10^-3.\n",
    "This might be the minima for the modeled function.\n",
    "\n",
    "For variability issues, check this first before running, the conclusion might vary."
   ]
  }
 ],
 "metadata": {
  "colab": {
   "collapsed_sections": [],
   "name": "assignment_3.ipynb",
   "provenance": []
  },
  "kernelspec": {
   "display_name": "Python 3.8.13 ('py38')",
   "language": "python",
   "name": "python3"
  },
  "language_info": {
   "codemirror_mode": {
    "name": "ipython",
    "version": 3
   },
   "file_extension": ".py",
   "mimetype": "text/x-python",
   "name": "python",
   "nbconvert_exporter": "python",
   "pygments_lexer": "ipython3",
   "version": "3.8.13"
  },
  "vscode": {
   "interpreter": {
    "hash": "a05726dda0d67ac54b035c83feca94287ab73993431c9cd0f920a291b6b60929"
   }
  }
 },
 "nbformat": 4,
 "nbformat_minor": 4
}
