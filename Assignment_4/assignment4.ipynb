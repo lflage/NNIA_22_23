{
 "cells": [
  {
   "cell_type": "markdown",
   "metadata": {
    "id": "ZT_S_io_85jk"
   },
   "source": [
    "# NNIA Assignment 4\n",
    "\n",
    "**DEADLINE: 7. 12. 2021 08:00 CET**  \n",
    "Submission more than 10 minutes past the deadline will **not** be graded!\n",
    "\n",
    "- Name & ID 1 (Teams username e.g. s8xxxxx): \n",
    "- Name & ID 2 (Teams username e.g. s8xxxxx):\n",
    "- Hours of work per person: \n",
    "\n",
    "# Submission Instructions\n",
    "\n",
    "**IMPORTANT** Please make sure you read the following instructions carefully. If you are unclear about any part of the assignment, ask questions **before** the assignment deadline. All course-related questions can be addressed on the course **[Piazza Platform](https://piazza.com/class/kvc3vzhsvh55rt)**.\n",
    "\n",
    "* Assignments are to be submitted in a **team of 2**.\n",
    "* Please include your **names**, **ID's**, **Teams usernames**, and **approximate total time spent per person** at the beginning of the Notebook in the space provided\n",
    "* Make sure you appropriately comment your code wherever required. \n",
    "* Your final submission should contain this completed Jupyter Notebook, including the bonus question (if you attempt it), and any necessary Python files.\n",
    "* Do **not** submit any data or cache files (e.g. `__pycache__`).\n",
    "* Upload the **zipped** folder (*.zip* is the only accepted extension) in **Teams**.\n",
    "* Only **one member** of the group should make the submisssion.\n",
    "* **Important** please name the submitted zip folder as: `Name1_id1_Name2_id2.zip`. The Jupyter Notebook should also be named: `Name1_id1_Name2_id2.ipynb`. This is **very important** for our internal organization epeatedly students fail to do this."
   ]
  },
  {
   "cell_type": "markdown",
   "metadata": {},
   "source": [
    "## 1 Calculus Revision (6 points)\n",
    "\n",
    "### 1.1 Critical Points (2 points)\n",
    "\n",
    "Consider the following functions: $f(x)=5x^2 +4x^3 −10$ and $g(x)=6(x−3)^3 +2$.\n",
    "\n",
    "1. Compute the first derivatives for both functions. (0.5 pts)\n",
    "2. Compute the second derivatives for both functions. (0.5 pts)\n",
    "3. Find all critical points for both functions (using first and second derivatives) and give their types (refer to lecture slides). Make sure to comment on how one determines the types of critical points. (1 pt)\n",
    "\n",
    "### 1.2 Local and Global (3 points)\n",
    "\n",
    "Some functions have more than one or two critical points such as function $h(x)=4x^2sin(x)+\\frac{e^x}{e^x+1} + x^3$.\n",
    "1. Compute the first derivative for $h$. (Hint: Use the Product and Quotient rules). (1 pt)\n",
    "2. Plot $h$ for the interval $x \\in (-4,5)$. Use an online resource like Wolfram Alpha or Desmos. (0.5 pt)\n",
    "3. Find the critical points from left to right and name them as $p_1, p_2,...p_n$ (no need for exact coordinates). For each point determine its type and if it is local or global. (0.5)\n",
    "4. Why can local minima cause optimization algorithms to fail? (0.5)\n",
    "\n",
    "### 1.3 Activation Functions (1.5 points)\n",
    "\n",
    "Three of the most commonly-used activation functions are the sigmoid function, hyperbolic tangent, and ReLU. The equations for these functions are provided below:\n",
    "\n",
    "* $\\sigma(x) = \\frac{1}{1+e^{-x}}$  \n",
    "\n",
    "* $\\tanh(x) = \\frac{e^{2x} - 1}{e^{2x} + 1}$\n",
    "\n",
    "* $\\text{ReLU}(x) =  \\bigg\\{ \\begin{array}{ll} 0, & x < 0 \\\\ x, & x > 0 \\\\ \\end{array}$\n",
    "\n",
    "Again, using code or an online resource like Wolfram Alpha or Desmos, graph each function along with its derivative. Make sure to include the plots in your solution.\n",
    "1. Discuss the differences you observe. (1 sentence)\n",
    "2. What are the advantages and disadvantages of each? In particular, think about how the range of the function and the amplitude of the derivative would affect a network. (2 sentences)\n"
   ]
  },
  {
   "cell_type": "markdown",
   "metadata": {},
   "source": [
    "### 1.1 <font color=\"red\">To Do</font>\n",
    "\n",
    "1.  \n",
    "\n",
    "2.  \n",
    "    \n",
    "3.  "
   ]
  },
  {
   "cell_type": "markdown",
   "metadata": {},
   "source": [
    "### 1.2 <font color=\"red\">To Do</font>\n",
    "\n",
    "1.   \n",
    "\n",
    "2.  \n",
    "    \n",
    "3. \n",
    "\n",
    "4. "
   ]
  },
  {
   "cell_type": "markdown",
   "metadata": {},
   "source": [
    "### 1.3 <font color=\"red\">To Do</font>\n",
    "\n",
    "**Sigmoid Function:**\n",
    "\n",
    "\n",
    "\n",
    "**Tanh Function:**\n",
    "\n",
    "\n",
    "\n",
    "**Relu Function:**\n",
    "\n",
    "\n"
   ]
  },
  {
   "cell_type": "markdown",
   "metadata": {},
   "source": [
    "## 2.3 Neural Networks Hello World (4 points)\n",
    "\n",
    "Construct a neural network for the California Housing Prices dataset.\n",
    "It is composed of two linear layers with hidden dimensionality of $32$ and ReLU after the first layer: $L_{8\\rightarrow 32} \\circ \\text{ReLU} \\circ L_{32 \\rightarrow 1}$ where $L_{x\\rightarrow y}$ is a linear layer with $y$ hidden nodes (`nn.Linear(x, y)`).\n",
    "\n",
    "Split your data into dev and training sets (1000 training, 100 dev, discard rest) and optimize these networks with Adam with learning rate $10^{-3}$.\n",
    "Report MSE on both training and dev sets. You can use PyTorch built-in functions to solve this exercise. \n",
    "\n",
    "Notes:\n",
    "- Please read [this introduction to the optimization loop in PyTorch](https://pytorch.org/tutorials/beginner/basics/optimization_tutorial.html). It should give you a good overview to what PyTorch needs from you to train a neural network.\n",
    "- Run your training multiple times with different seeds because the results have quite high variance.\n",
    "- There are many optimizers available and Adam is an optimizer that's more complex than SGD (stochastic gradient descent). It has not yet been covered in the lecture but its usage in code is equivalent to that of SGD and performs much better.\n"
   ]
  },
  {
   "cell_type": "code",
   "execution_count": null,
   "metadata": {},
   "outputs": [],
   "source": [
    "# TODO\n",
    "# from your solution module import ...\n",
    "# your outputs should include Training MSE and Dev MSE.\n",
    "# useful imports\n",
    "from sklearn.datasets import fetch_california_housing\n",
    "import torch\n",
    "import torch.nn as nn"
   ]
  },
  {
   "cell_type": "markdown",
   "metadata": {},
   "source": [
    "# Bonus Learning Rate Effect on Performance (1 point)\n",
    "\n",
    "Run your neural network with different learning rates (scale logarithmically from $10^{-10}$ to $10^{0}$) and observe the effects on performance. Importantly keep the number of optimization steps (epochs) constant. Because the process is very random run the model multiple times (e.g. 3 times) and plot the results. Try to form hypothesis about the results which you got.\n",
    "\n",
    "Don't worry, the model training can be done on a CPU and is not computationally intensive."
   ]
  }
 ],
 "metadata": {
  "colab": {
   "collapsed_sections": [],
   "name": "assignment_3.ipynb",
   "provenance": []
  },
  "kernelspec": {
   "display_name": "Python 3 (ipykernel)",
   "language": "python",
   "name": "python3"
  },
  "language_info": {
   "codemirror_mode": {
    "name": "ipython",
    "version": 3
   },
   "file_extension": ".py",
   "mimetype": "text/x-python",
   "name": "python",
   "nbconvert_exporter": "python",
   "pygments_lexer": "ipython3",
   "version": "3.10.2"
  }
 },
 "nbformat": 4,
 "nbformat_minor": 4
}
