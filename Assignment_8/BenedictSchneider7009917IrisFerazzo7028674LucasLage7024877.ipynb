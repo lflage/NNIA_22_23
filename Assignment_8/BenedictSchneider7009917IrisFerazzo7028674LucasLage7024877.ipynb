{
 "cells": [
  {
   "cell_type": "markdown",
   "metadata": {
    "id": "c5E36qAPf-8f",
    "pycharm": {
     "name": "#%% md\n"
    }
   },
   "source": [
    "# NNIA Assignment 8\n",
    "\n",
    "**DEADLINE: 11. 01. 2023 08:00 CET**\n",
    "Submission more than 10 minutes past the deadline will **not** be graded!\n",
    "\n",
    "- Benedict Schneider 7009917 (BESC0005): 6 hrs \n",
    "- Iris Ferazzo 7028674 (IRFE001): 8 hrs\n",
    "- Lucas Fonseca Lage 7024877 (LUFO00001): 8 hrs\n",
    "\n",
    "# Submission Instructions\n",
    "\n",
    "**IMPORTANT** Please make sure you read the following instructions carefully. If you are unclear about any part of the assignment, ask questions **before** the assignment deadline. All course-related questions can be addressed on the course **[Piazza Platform](https://piazza.com/class/kvc3vzhsvh55rt)**.\n",
    "\n",
    "* Assignments are to be submitted in a **team of 2 or 3**.\n",
    "* Please include your **names**, **ID's**, **Teams usernames**, and **approximate total time spent per person** at the beginning of the Notebook in the space provided\n",
    "* Make sure you appropriately comment your code wherever required.\n",
    "* Your final submission should contain this completed Jupyter Notebook, including the bonus question (if you attempt it), and any necessary Python files.\n",
    "* Do **not** submit any **data or cache files** (e.g. `__pycache__`, the dataset PyTorch downloads, etc.). \n",
    "* Upload the **zipped** folder (*.zip* is the only accepted extension) in **Teams**.\n",
    "* Only **one member** of the group should make the submisssion.\n",
    "* **Important** please name the submitted zip folder as: `Name1_id1_Name2_id2.zip`. The Jupyter Notebook should also be named: `Name1_id1_Name2_id2.ipynb`. This is **very important** for our internal organization epeatedly students fail to do this."
   ]
  },
  {
   "cell_type": "markdown",
   "metadata": {
    "id": "Qv5YtUy8hrYv"
   },
   "source": [
    "## 1 SGD, Batch, Mini-Batch  (1.5 pts)\n",
    "\n",
    "Typically neural networks are large and are trained with millions of data points. It is thus often infeasible to compute the gradient $\\nabla_{\\theta} \\tilde J(\\theta)$ that requires the accumulation of the gradient over the entire training set. \n",
    "\n",
    "There are various online resources on Stochastic, Batch, and Minit-Gradient Descent methods in addition to what was covered during the lecture. Here are a few:\n",
    "\n",
    "- [Medium: Batch , Mini-Batch and Stochastic gradient descent](https://sweta-nit.medium.com/batch-mini-batch-and-stochastic-gradient-descent-e9bc4cacd461)\n",
    "- [DeepLearningAI: Batch vs Mini-Batch](https://youtu.be/4qJaSmvhxi8)\n",
    "\n",
    "**Discuss pros and cons of (1) stochastic (m=1), (2) batch (m = size of dataset) and (3) mini-batch gradient descent** (m is the number of points passed at a time)."
   ]
  },
  {
   "cell_type": "markdown",
   "metadata": {
    "id": "qcPLBMij7xPK"
   },
   "source": [
    "## <font color=\"Green\">Done</font>\n",
    "\n",
    "\n",
    "### 1\n",
    "\n",
    "    Stochastic:\n",
    "\n",
    "One single datapoint is fed to the network at a time. The weights are updated after loss is calculated for each current datapoint.\n",
    "\n",
    "- Pro: The process fo learning and weight updates is faster. Loss function and optimizer are not suppose to wait for the entire datasets to calculate itself. Since memory consumption is low, SGD is faster than MGD and BGD.\n",
    "\n",
    "- Cons: Huge oscillation: SGD will always vary from one point to another for each and every datasets. This results in the difficulty of finding absolute minima, but instead only several local minima. Learning rate: if the learning rate is too high, it may be possible that some other datapoint may not show you the same properties. SGD often results in ill conidtioning.\n",
    "\n",
    "    Batch:\n",
    "\n",
    "The weights are updated after loss is calculated per each epoch in which all datapoints of dataset are fed to the network.\n",
    "\n",
    "- Pro: It is more computationally efficient than SGD.\n",
    "\n",
    "- Cons: High memory consumption: we pass the whole dataset at each epoch, so the computation is high, and the calculation very slow and the optimization will also be slower.\n",
    "\n",
    "    Mini-Batch:\n",
    "\n",
    "The weights are updated after loss is calculated per each epoch in which all datapoints of a portion of the dataset (a mini-batch) is fed to the network.\n",
    "\n",
    "- Pro: We pass smaller amounts of data into the model, so it gets updated more often than in the single-batch case. Reduced memory consumption: it performs faster and uses less memory. The batches updates are computationally more efficient than SGD. The number of mini-batches is a learnable parameter, a hyperparameter that we can fine-tune.\n",
    "\n",
    "- Cons: No guarantee of convergence of a error in a better way. Not representing the properties (or variance) of entire datasets, only of the current portion of it. Difficulty of getting absolute global or local minima. If the learning rate is too low, the convergence rate will fall. If the learning rate is too high, we won’t get an absolute global or local minima.\n"
   ]
  },
  {
   "cell_type": "markdown",
   "metadata": {
    "id": "VZzXrUrUTMAT"
   },
   "source": [
    "## 2 Possible Problems (2.5 pts)\n",
    "\n",
    "1. One of the optimization challenges is ill-conditioning. To answer the following questions read [this article](https://medium.com/@shaikhz94/understanding-ill-conditioning-in-deep-neural-networks-2396d6fb0098) (6 min read). Answer the questions in your own words. (1.5 pts) \n",
    "  - Read part [8.2.1 Ill-Conditioning](https://www.deeplearningbook.org/contents/optimization.html) of the Deep Learning Book and explain why very small steps increase cost function when the Hessian matrix is ill-conditioned. Start from the equation of the second-order Taylor series expansion of the cost function.  \n",
    "  - In practice, how can we spot ill-conditioning?\n",
    "  - What can we do to solve the problem of ill-conditioning?\n",
    "\t\t\n",
    "2. Explain what the exploding gradient problem is and when it occurs. What can be done to solve the exploding gradient problem? (1 pt)\n"
   ]
  },
  {
   "cell_type": "markdown",
   "metadata": {
    "id": "u2DOmmMIEnsF"
   },
   "source": [
    "## <font color=\"Green\">Done</font>\n",
    "\n",
    "\n",
    "### 2\n",
    "\n",
    "1.  \n",
    "In practice we can use the equation:\n",
    "\\begin{align*}\n",
    "    \\frac{1}{2} * LearningRate² * \\bold{g}^T * H* \\bold{g} - LearningRate * g^T * g  \n",
    "\\end{align*}\n",
    "where **g** is the first order gradient and **H** is the second order derivative or the Hessian Matrix. The ill-conditioning problem happens when the left term is higher then the right term.\n",
    "To avoid ill-conditioning one can monitor the term:\n",
    "\\begin{align*} \n",
    "\\bold{g}^T * H* \\bold{g} \n",
    "\\end{align*}\n",
    "which increses in order of magnitude during training.\n",
    "\n",
    "To find out which learning rates would be optimal, we can plot the step size with the learning rate, and find the point where the values for the step size become positive, this means that the value of the cost function will increase with each step.\n",
    "\n",
    "A solution for ill-conditioning is using adaptive optimizers or pre-process the dataset. \n",
    "\n",
    "\n",
    "\n",
    "2. The exploding gradient problem occurs when a Neural Network has many too many layers, or a deep computational graph. \n",
    "This means that, in a Recurrent Neural Network for example, while calculating the gradient, the weights matrix will be multiplied multiple times.\n",
    "\n",
    "\\begin{align*}\n",
    "    \\bold{W}^t = (\\bold{V}diag(\\lambda)\\bold{V}^{-1})^{t} = (\\bold{V}diag(\\lambda)^{t}\\bold{V}^{-1})\n",
    "\\end{align*}\n",
    "\n",
    "If any of the eigenvalues $\\lambda$ are not close to absolute one, they might vanish, if they are close to 0, or explode, if they are greater than 1.\n",
    "\n",
    "Feedforward NN largely avoid this problem, since they use different weight matrices at each time step.\n",
    "\n",
    "To solve it, we can, among others, limit the size of gradients during training of the network (gradient clipping), or check the size of the network weights and apply a penalty to the network's loss function for large weight values (weight regularization).\n",
    "  "
   ]
  },
  {
   "cell_type": "markdown",
   "metadata": {
    "id": "bKWOi_YlSqSM"
   },
   "source": [
    "## 3 Implementation (6 points)\n",
    "\n",
    "Now you will be implementing and testing different approaches to optimize the training of a neural network. Here you will be working with the [CIFAR10](https://pytorch.org/vision/stable/generated/torchvision.datasets.CIFAR10.html#cifar10) dataset, which consists of images of airplanes, cars, birds, cats, deer, dogs, frogs, horses, ships, and trucks. Once again [cross entropy loss](https://pytorch.org/docs/stable/generated/torch.nn.CrossEntropyLoss.html) will be used as the loss criterion.\n",
    "\n",
    "### 3.1 Early Stopping (2 points)\n",
    "\n",
    "Although not covered explicitly in the last lecture as an optimization strategy, early stopping can be used as both a regularization technique and an optimization technique.\n",
    "\n",
    "Early stopping is necessary since we are training and reducing empirical risk, thus our algorithms will not halt, they will simply be stopped once a convergence criteria has been met. Up until this point we have used a very crude strategy of simply limiting our learning to a number of epochs or steps.\n",
    "\n",
    "In this exercise, you are tasked with implementing a simple version of early stopping. The way to usually implement early stopping is to stop the training once a specific metric does not change more than an arbitrary value $\\varepsilon$ after a number of epochs (or steps) $n$, i.e.: $\\forall i \\in {1..n} \\,\\, \\left\\| M_i - M_{i-1} \\right\\| < \\varepsilon$ where $M_i$ is the value of the metric at epoch $i$.\n",
    "\n",
    "**Note**: The $n$ value above is usually called `patience` in common implementations."
   ]
  },
  {
   "cell_type": "code",
   "execution_count": 1,
   "metadata": {
    "id": "jyNZRMIa6S_6"
   },
   "outputs": [],
   "source": [
    "!pip install -q torcheval"
   ]
  },
  {
   "cell_type": "code",
   "execution_count": 2,
   "metadata": {
    "id": "W-lqJ1_0cICv"
   },
   "outputs": [
    {
     "name": "stderr",
     "output_type": "stream",
     "text": [
      "/home/lucasfl/anaconda3/envs/nn_22_23/lib/python3.10/site-packages/torchvision/io/image.py:13: UserWarning: Failed to load image Python extension: /home/lucasfl/anaconda3/envs/nn_22_23/lib/python3.10/site-packages/torchvision/image.so: undefined symbol: _ZN5torch3jit17parseSchemaOrNameERKNSt7__cxx1112basic_stringIcSt11char_traitsIcESaIcEEE\n",
      "  warn(f\"Failed to load image Python extension: {e}\")\n"
     ]
    }
   ],
   "source": [
    "# Let's import some libraries\n",
    "import torch\n",
    "import torchvision\n",
    "import torchvision.transforms as transforms\n",
    "import torch.optim as optim\n",
    "import torch.nn as nn\n",
    "import torch.nn.functional as F\n",
    "from torcheval.metrics import MulticlassAccuracy\n",
    "\n",
    "import numpy as np\n",
    "from tqdm.notebook import tqdm"
   ]
  },
  {
   "cell_type": "markdown",
   "metadata": {
    "id": "YSUGCnRpntV_"
   },
   "source": [
    "#### CIFAR-10: Some notes about our data\n",
    "\n",
    "This dataset presents a multi-class classification task. More details can be found [here](https://www.cs.toronto.edu/~kriz/cifar.html).\n",
    "\n",
    "Important details:\n",
    "\n",
    "* Each image is a color image of 32x32 pixels\n",
    "* There are 10 classes (laid out in the following code)\n",
    "* You should use the [MulticlassAccuracy](https://torchmetrics.readthedocs.io/en/stable/classification/accuracy.html#multiclassaccuracy) from the `torcheval.metrics` library (already installed and imported for you).\n",
    "\n",
    "A quick overview of how to use metrics on pytorch can be found [here](https://torchmetrics.readthedocs.io/en/stable/pages/overview.html).\n",
    "\n",
    "The TL;DR of it all is to compute metrics per batch using the `update` method and computing a final metric value with `compute`. "
   ]
  },
  {
   "cell_type": "code",
   "execution_count": 3,
   "metadata": {
    "id": "dNs4XeBlb1Be"
   },
   "outputs": [
    {
     "name": "stdout",
     "output_type": "stream",
     "text": [
      "Files already downloaded and verified\n",
      "Files already downloaded and verified\n"
     ]
    }
   ],
   "source": [
    "# Let's load our data before getting into it\n",
    "transform = transforms.Compose(\n",
    "    [transforms.ToTensor(),\n",
    "     transforms.Normalize((0.5, 0.5, 0.5), (0.5, 0.5, 0.5))])\n",
    "\n",
    "batch_size = 32\n",
    "\n",
    "trainset = torchvision.datasets.CIFAR10(root='./data', train=True,\n",
    "                                        download=True, transform=transform)\n",
    "trainloader = torch.utils.data.DataLoader(trainset, batch_size=batch_size,\n",
    "                                          shuffle=True, num_workers=2)\n",
    "\n",
    "testset = torchvision.datasets.CIFAR10(root='./data', train=False,\n",
    "                                       download=True, transform=transform)\n",
    "testloader = torch.utils.data.DataLoader(testset, batch_size=batch_size,\n",
    "                                         shuffle=False, num_workers=2)\n",
    "\n",
    "classes = ('plane', 'car', 'bird', 'cat',\n",
    "           'deer', 'dog', 'frog', 'horse', 'ship', 'truck')"
   ]
  },
  {
   "cell_type": "code",
   "execution_count": 4,
   "metadata": {
    "id": "PLlHf5W1QJWV"
   },
   "outputs": [],
   "source": [
    "# A model is given for ease of reproducibility\n",
    "class MyNetwork(nn.Module):\n",
    "    def __init__(self, lr=0.0001):\n",
    "        super(MyNetwork, self).__init__()\n",
    "        self.learning_rate = lr\n",
    "\n",
    "        self.network = nn.Sequential(\n",
    "            nn.Linear(32*32*3, 64),\n",
    "            nn.ReLU(),\n",
    "            nn.Linear(64, 10),\n",
    "            nn.Softmax(dim=1)\n",
    "        )\n",
    "\n",
    "    def forward(self, x):\n",
    "        x = torch.flatten(x, 1) # flatten all dimensions except batch\n",
    "        return self.network(x)\n"
   ]
  },
  {
   "cell_type": "code",
   "execution_count": 5,
   "metadata": {
    "id": "sM2MfDabZahy"
   },
   "outputs": [],
   "source": [
    "# Skeleton code \n",
    "class EarlyStopChecker:\n",
    "    def __init__(self,\n",
    "               delta: float,\n",
    "               patience: float,\n",
    "               lower_better: bool = False):\n",
    "    \n",
    "        \"\"\"\n",
    "        Params:\n",
    "        delta: The max difference allowed\n",
    "        patience: Number of epochs to tolerate without significant changes\n",
    "        lower_better: The metric value is better, the lower it is if `True` is passed\n",
    "        \"\"\"\n",
    "        # TODO\n",
    "        self.patience = patience\n",
    "        self.delta = delta\n",
    "        self.lower_better = lower_better\n",
    "        self.patience_count = 0\n",
    "        self.metric_previous = 0\n",
    "        pass\n",
    "  \n",
    "    def check_early_stop(self,\n",
    "                       metric_value: float) -> bool:\n",
    "        \"\"\"\n",
    "        A function which upon receiving the latest metric value, determines\n",
    "        whether training should be stopped (by returning `True`) or not \n",
    "        (by returning `False`)\n",
    "    \n",
    "        Params:\n",
    "        metric_value: The value of the metric at this time step\n",
    "        Returns `True` if training should stop, `False` otherwise.\n",
    "        \"\"\"\n",
    "        \n",
    "        # TODO: Implement\n",
    "        if self.lower_better == False:\n",
    "            if metric_value - self.metric_previous < self.delta:\n",
    "                self.patience_count += 1\n",
    "                self.metric_previous = metric_value\n",
    "            else:\n",
    "                self.patience_count = 0\n",
    "                self.metric_previous = metric_value\n",
    "        \n",
    "        if self.lower_better == True:\n",
    "            if abs(self.metric_previous - metric_value) < self.delta:\n",
    "                self.patience_count += 1\n",
    "                self.metric_previous = metric_value\n",
    "            else:\n",
    "                self.patience_count = 0\n",
    "                self.metric_previous = metric_value\n",
    "\n",
    "        if self.patience_count == self.patience:\n",
    "            return True\n",
    "        else:\n",
    "            return False"
   ]
  },
  {
   "cell_type": "code",
   "execution_count": 6,
   "metadata": {
    "id": "2FqVl2dF5brE"
   },
   "outputs": [],
   "source": [
    "# High learning rate so we can see the early stop effects quickly\n",
    "net = MyNetwork(lr=0.5)"
   ]
  },
  {
   "cell_type": "code",
   "execution_count": 7,
   "metadata": {
    "id": "YGjLnLxTa82n",
    "scrolled": true
   },
   "outputs": [
    {
     "data": {
      "application/vnd.jupyter.widget-view+json": {
       "model_id": "fc94ff07a0e945e79651b148b5cd7095",
       "version_major": 2,
       "version_minor": 0
      },
      "text/plain": [
       "  0%|          | 0/1563 [00:00<?, ?it/s]"
      ]
     },
     "metadata": {},
     "output_type": "display_data"
    },
    {
     "name": "stdout",
     "output_type": "stream",
     "text": [
      "Accuracy for epoch #0: 0.34077998995780945\n"
     ]
    },
    {
     "data": {
      "application/vnd.jupyter.widget-view+json": {
       "model_id": "d6cc77d4a35f4544a6a9e5e1a0eef68a",
       "version_major": 2,
       "version_minor": 0
      },
      "text/plain": [
       "  0%|          | 0/1563 [00:00<?, ?it/s]"
      ]
     },
     "metadata": {},
     "output_type": "display_data"
    },
    {
     "name": "stdout",
     "output_type": "stream",
     "text": [
      "Accuracy for epoch #1: 0.370959997177124\n"
     ]
    },
    {
     "data": {
      "application/vnd.jupyter.widget-view+json": {
       "model_id": "5fe195d5224142c98bb26c1b92bbdad2",
       "version_major": 2,
       "version_minor": 0
      },
      "text/plain": [
       "  0%|          | 0/1563 [00:00<?, ?it/s]"
      ]
     },
     "metadata": {},
     "output_type": "display_data"
    },
    {
     "name": "stdout",
     "output_type": "stream",
     "text": [
      "Accuracy for epoch #2: 0.3807399868965149\n"
     ]
    },
    {
     "data": {
      "application/vnd.jupyter.widget-view+json": {
       "model_id": "29a837a8a48a453186d2af74912bc435",
       "version_major": 2,
       "version_minor": 0
      },
      "text/plain": [
       "  0%|          | 0/1563 [00:00<?, ?it/s]"
      ]
     },
     "metadata": {},
     "output_type": "display_data"
    },
    {
     "name": "stdout",
     "output_type": "stream",
     "text": [
      "Accuracy for batch #3: 0.3795599937438965\n"
     ]
    }
   ],
   "source": [
    "# Training loop code\n",
    "epochs = 20\n",
    "early_stopper = EarlyStopChecker(0.1, 3)\n",
    "\n",
    "criterion = nn.CrossEntropyLoss()\n",
    "optimizer = optim.SGD(net.parameters(), lr=net.learning_rate)\n",
    "metric = MulticlassAccuracy(num_classes=len(classes))\n",
    "\n",
    "for epoch in range(epochs):\n",
    "    running_loss = 0.0\n",
    "    for n_batch, mini_batch in (pbar := tqdm(enumerate(trainloader, 1),\n",
    "                                           total=len(trainloader))):\n",
    "        \n",
    "        # Training code\n",
    "        inputs, labels = mini_batch\n",
    "        optimizer.zero_grad()\n",
    "    \n",
    "        # Do optimization step\n",
    "        outputs = net(inputs)\n",
    "        loss = criterion(outputs, labels)\n",
    "        loss.backward()\n",
    "        optimizer.step()\n",
    "    \n",
    "        # Print some statistics\n",
    "        running_loss += loss.item()\n",
    "        pbar.set_description(f\"Loss: {running_loss / n_batch:.4f}\")\n",
    "        pbar.refresh()\n",
    "        \n",
    "        #print(outputs,labels)\n",
    "      # TODO: compute metrics on the test/validation dataset\n",
    "        metric.update(outputs,labels)\n",
    "        \n",
    "    current_metric = metric.compute()\n",
    "      # TODO: Use `early_stopper.check_early_stop()` to check\n",
    "      # whether training should continue\n",
    "    if early_stopper.check_early_stop(current_metric):\n",
    "            print(f\"Accuracy for batch #{epoch}: {current_metric.item()}\")\n",
    "            break\n",
    "\n",
    "    print(f\"Accuracy for epoch #{epoch}: {current_metric.item()}\")\n",
    "\n",
    "  # Reset the metric in preparation for the next epoch\n",
    "    metric.reset()"
   ]
  },
  {
   "cell_type": "markdown",
   "metadata": {
    "id": "_qvhYHD1cqJ5"
   },
   "source": [
    "### 3.2 Trying different optimizers (2 points)\n",
    "\n",
    "### 3.2.1 Using different optimizers in pytorch (1 point)\n",
    "\n",
    "It's time to try out the different optimizers covered in the lecture.\n",
    "\n",
    "Create a function that returns an optimizer object for each of the following:\n",
    "\n",
    "1. [SGD with Momentum](https://pytorch.org/docs/stable/generated/torch.optim.SGD.html): note that you should set the momentum parameter to $0.9$. This is the value usually picked as the hyperparameter although other approaches to picking a value exist.\n",
    "1. [AdaGrad](https://pytorch.org/docs/stable/generated/torch.optim.Adagrad.html)\n",
    "1. [RMSProp](https://pytorch.org/docs/stable/generated/torch.optim.RMSprop.html)\n",
    "1. [Adam](https://pytorch.org/docs/stable/generated/torch.optim.Adam.html)\n"
   ]
  },
  {
   "cell_type": "code",
   "execution_count": 8,
   "metadata": {
    "id": "9gb5pwtAd1-t"
   },
   "outputs": [
    {
     "data": {
      "text/plain": [
       "<torch._C.Generator at 0x7f2e722428d0>"
      ]
     },
     "execution_count": 8,
     "metadata": {},
     "output_type": "execute_result"
    }
   ],
   "source": [
    "# Set our seed for reproducibility\n",
    "torch.manual_seed(0)"
   ]
  },
  {
   "cell_type": "code",
   "execution_count": 9,
   "metadata": {
    "id": "LbfKL7Jf8H1U"
   },
   "outputs": [],
   "source": [
    "def get_optimizer(optimizer_name: str,\n",
    "                  model: nn.Module,\n",
    "                  learning_rate: float):\n",
    "    \"\"\"\n",
    "    Function that returns an optimizer object that will be used\n",
    "    for training\n",
    "\n",
    "    Params:\n",
    "    optimizer_name: This will indicate the type of optimizer to return\n",
    "    model: Model which has the parameters to be optimized\n",
    "    learning_rate: learning rate to be used\n",
    "    \"\"\"\n",
    "    # TODO: return the right object\n",
    "    if optimizer_name == \"momentum\":\n",
    "        return optim.SGD(model.parameters(), momentum=.9,lr=learning_rate)\n",
    "    elif optimizer_name == \"adagrad\":\n",
    "        return optim.Adagrad(model.parameters(), lr=learning_rate)\n",
    "    elif optimizer_name == \"rmsprop\":\n",
    "        return optim.RMSprop(model.parameters(), lr=learning_rate)\n",
    "    elif optimizer_name == \"adam\":\n",
    "        return optim.Adam(model.parameters(), lr=learning_rate)\n",
    "    else:\n",
    "        print(\"no optimizer found\")\n",
    "        return None\n",
    "  "
   ]
  },
  {
   "cell_type": "code",
   "execution_count": 10,
   "metadata": {
    "id": "AHcqFWcoRrj1"
   },
   "outputs": [],
   "source": [
    "# Usage:\n",
    "sgd_mom_optimizer = get_optimizer('momentum', net, learning_rate=0.01)\n",
    "adagrad_optimizer = get_optimizer('adagrad', net, learning_rate=0.01)\n",
    "rms_optimizer = get_optimizer('rmsprop', net, learning_rate=0.01)\n",
    "adam_optimizer = get_optimizer('adam', net, learning_rate=0.01)"
   ]
  },
  {
   "cell_type": "markdown",
   "metadata": {
    "id": "TbvJ-_sjeCes"
   },
   "source": [
    "#### 3.2.2 Discussion (1 point)\n",
    "\n",
    "What result do you expect for each of the learning optimizers? Motivate your answers while keeping them concise.\n",
    "\n"
   ]
  },
  {
   "cell_type": "markdown",
   "metadata": {
    "id": "DQb3p7TlFt4d"
   },
   "source": [
    "## <font color=\"Green\">Done</font>\n",
    "\n",
    "\n",
    "#### 3.2.2\n",
    "Since optimizers update the weight parameters to minimize the loss function, we can expect to see differences in how they converge to the local (or global) minimum. We expect sgd_mom_optimizer to mimic the rolling movement of a ball while trying to find the minimum, wherease adagrad_optimizer, adam_optimizer, and rms_optimizer should head in the right direction from the beginning and converge. This is because the three last optimizers, in contrast to SGD-Momentum, rely on gradient descent with an adaptive learning rate.\n",
    "\n",
    "We expect differencies in the loss and accuracy curves also of adagrad_optimizer, adam_optimizer, and rms_optimizer. For example, RMSProp should converge better than Adagrad which can get lost at a plateau. This is because Adagrad sums the gradients from the first iteration and that usually prevents from converging to the global minimum, while RMSProp accumulates the gradients from the previous iterations. Adam is usually chosen as optimizers for neural networks because balances the chalenges encountered by the other optimizers and promotes consistency in its performance."
   ]
  },
  {
   "cell_type": "markdown",
   "metadata": {
    "id": "vsVwueL8eU6k"
   },
   "source": [
    "### 3.3 Analyze your results (2 points)\n",
    "\n",
    "Modify your training code from previous assignments (and the previous exercise if you wish to use early stopping) and experiment with the different optimization approaches on the CIFAR-10 dataset.\n",
    "\n",
    "Plot the training loss for each of the optimizers and discuss your results.\n",
    "\n",
    "How do they compare with your expectations from the previous exercise?\n",
    "\n",
    "You will be using the same dataset as above. You should also use the same model class (`MyNetwork`) for this exercise as in the previous exercise."
   ]
  },
  {
   "cell_type": "markdown",
   "metadata": {
    "id": "PzpF91NUGKOv"
   },
   "source": [
    "## <font color=\"Green\">Done</font>\n",
    "\n",
    "\n",
    "### 3.3"
   ]
  },
  {
   "cell_type": "code",
   "execution_count": 11,
   "metadata": {
    "id": "r7kV27rC6I_B"
   },
   "outputs": [
    {
     "name": "stderr",
     "output_type": "stream",
     "text": [
      "/home/lucasfl/anaconda3/envs/nn_22_23/lib/python3.10/site-packages/scipy/__init__.py:146: UserWarning: A NumPy version >=1.16.5 and <1.23.0 is required for this version of SciPy (detected version 1.23.3\n",
      "  warnings.warn(f\"A NumPy version >={np_minversion} and <{np_maxversion}\"\n"
     ]
    },
    {
     "name": "stdout",
     "output_type": "stream",
     "text": [
      "------- Training Loop -------\n"
     ]
    },
    {
     "data": {
      "application/vnd.jupyter.widget-view+json": {
       "model_id": "8c075205ef414d4c9b0e7ade4ba9670c",
       "version_major": 2,
       "version_minor": 0
      },
      "text/plain": [
       "  0%|          | 0/1563 [00:00<?, ?it/s]"
      ]
     },
     "metadata": {},
     "output_type": "display_data"
    },
    {
     "name": "stdout",
     "output_type": "stream",
     "text": [
      "Traning Loss: 2.124626506770641\n",
      "------- Training Loop -------\n"
     ]
    },
    {
     "data": {
      "application/vnd.jupyter.widget-view+json": {
       "model_id": "84c9c69e7bd8491aa77455c080fc4ace",
       "version_major": 2,
       "version_minor": 0
      },
      "text/plain": [
       "  0%|          | 0/1563 [00:00<?, ?it/s]"
      ]
     },
     "metadata": {},
     "output_type": "display_data"
    },
    {
     "name": "stdout",
     "output_type": "stream",
     "text": [
      "Traning Loss: 2.0470231482407564\n",
      "------- Training Loop -------\n"
     ]
    },
    {
     "data": {
      "application/vnd.jupyter.widget-view+json": {
       "model_id": "bedb3d864e554c81b4032d3e53f3b7df",
       "version_major": 2,
       "version_minor": 0
      },
      "text/plain": [
       "  0%|          | 0/1563 [00:00<?, ?it/s]"
      ]
     },
     "metadata": {},
     "output_type": "display_data"
    },
    {
     "name": "stdout",
     "output_type": "stream",
     "text": [
      "Traning Loss: 2.0168079081362666\n",
      "------- Training Loop -------\n"
     ]
    },
    {
     "data": {
      "application/vnd.jupyter.widget-view+json": {
       "model_id": "992cb887e4594e22ae5b6252e2bcd574",
       "version_major": 2,
       "version_minor": 0
      },
      "text/plain": [
       "  0%|          | 0/1563 [00:00<?, ?it/s]"
      ]
     },
     "metadata": {},
     "output_type": "display_data"
    },
    {
     "name": "stdout",
     "output_type": "stream",
     "text": [
      "Traning Loss: 1.9973320674987765\n",
      "------- Training Loop -------\n"
     ]
    },
    {
     "data": {
      "application/vnd.jupyter.widget-view+json": {
       "model_id": "e42ef2752ead4f20bbc3d1f7d9659d2e",
       "version_major": 2,
       "version_minor": 0
      },
      "text/plain": [
       "  0%|          | 0/1563 [00:00<?, ?it/s]"
      ]
     },
     "metadata": {},
     "output_type": "display_data"
    },
    {
     "name": "stdout",
     "output_type": "stream",
     "text": [
      "Traning Loss: 1.984253371135592\n",
      "------- Training Loop -------\n"
     ]
    },
    {
     "data": {
      "application/vnd.jupyter.widget-view+json": {
       "model_id": "57935015ee844feaac9680f412d74de2",
       "version_major": 2,
       "version_minor": 0
      },
      "text/plain": [
       "  0%|          | 0/1563 [00:00<?, ?it/s]"
      ]
     },
     "metadata": {},
     "output_type": "display_data"
    },
    {
     "name": "stdout",
     "output_type": "stream",
     "text": [
      "Traning Loss: 1.9706609014967504\n",
      "------- Training Loop -------\n"
     ]
    },
    {
     "data": {
      "application/vnd.jupyter.widget-view+json": {
       "model_id": "6767ffbdd26943b5931a490c9abe2c0c",
       "version_major": 2,
       "version_minor": 0
      },
      "text/plain": [
       "  0%|          | 0/1563 [00:00<?, ?it/s]"
      ]
     },
     "metadata": {},
     "output_type": "display_data"
    },
    {
     "name": "stdout",
     "output_type": "stream",
     "text": [
      "Traning Loss: 1.9597616625076215\n",
      "------- Training Loop -------\n"
     ]
    },
    {
     "data": {
      "application/vnd.jupyter.widget-view+json": {
       "model_id": "7fe5191e27e04b3daa1e158b23965de7",
       "version_major": 2,
       "version_minor": 0
      },
      "text/plain": [
       "  0%|          | 0/1563 [00:00<?, ?it/s]"
      ]
     },
     "metadata": {},
     "output_type": "display_data"
    },
    {
     "name": "stdout",
     "output_type": "stream",
     "text": [
      "Traning Loss: 1.9510155461647536\n",
      "------- Training Loop -------\n"
     ]
    },
    {
     "data": {
      "application/vnd.jupyter.widget-view+json": {
       "model_id": "7023ae719f3b489ba0d5a75db4aa16de",
       "version_major": 2,
       "version_minor": 0
      },
      "text/plain": [
       "  0%|          | 0/1563 [00:00<?, ?it/s]"
      ]
     },
     "metadata": {},
     "output_type": "display_data"
    },
    {
     "name": "stdout",
     "output_type": "stream",
     "text": [
      "Traning Loss: 1.9417554198818487\n",
      "------- Training Loop -------\n"
     ]
    },
    {
     "data": {
      "application/vnd.jupyter.widget-view+json": {
       "model_id": "33d66cd074b34e4cb35f72e5a6f67618",
       "version_major": 2,
       "version_minor": 0
      },
      "text/plain": [
       "  0%|          | 0/1563 [00:00<?, ?it/s]"
      ]
     },
     "metadata": {},
     "output_type": "display_data"
    },
    {
     "name": "stdout",
     "output_type": "stream",
     "text": [
      "Traning Loss: 1.9353501157583675\n"
     ]
    }
   ],
   "source": [
    "# Solution is a python file we handed in for assignment 4. It was sligtly modified \n",
    "# to resemble the code provided by the tutors in this assignment\n",
    "\n",
    "import solution\n",
    "dict_losses = {}\n",
    "epochs = 10\n",
    "# Train for each optimizer object\n",
    "net = solution.MyNetwork(lr=0.01)\n",
    "#early_stopper = EarlyStopChecker(0.05, 3)\n",
    "\n",
    "criterion = nn.CrossEntropyLoss()\n",
    "optimizer = get_optimizer('momentum', net, learning_rate=0.01)\n",
    "metric = MulticlassAccuracy(num_classes=len(classes))\n",
    "los = []\n",
    "\n",
    "for epoch in range(epochs):\n",
    "    los.append(solution.train_loop(trainloader, net, criterion, optimizer))\n",
    "\n",
    "dict_losses = {\"sgd_mom\": los}\n"
   ]
  },
  {
   "cell_type": "code",
   "execution_count": 12,
   "metadata": {},
   "outputs": [
    {
     "name": "stdout",
     "output_type": "stream",
     "text": [
      "------- Training Loop -------\n"
     ]
    },
    {
     "data": {
      "application/vnd.jupyter.widget-view+json": {
       "model_id": "96eb0888ad2f4611ade836ef95f5e7ce",
       "version_major": 2,
       "version_minor": 0
      },
      "text/plain": [
       "  0%|          | 0/1563 [00:00<?, ?it/s]"
      ]
     },
     "metadata": {},
     "output_type": "display_data"
    },
    {
     "name": "stdout",
     "output_type": "stream",
     "text": [
      "Traning Loss: 2.0817168322573543\n",
      "------- Training Loop -------\n"
     ]
    },
    {
     "data": {
      "application/vnd.jupyter.widget-view+json": {
       "model_id": "c8c6402aaf76414e88204d00193b5a75",
       "version_major": 2,
       "version_minor": 0
      },
      "text/plain": [
       "  0%|          | 0/1563 [00:00<?, ?it/s]"
      ]
     },
     "metadata": {},
     "output_type": "display_data"
    },
    {
     "name": "stdout",
     "output_type": "stream",
     "text": [
      "Traning Loss: 2.0225580450974436\n",
      "------- Training Loop -------\n"
     ]
    },
    {
     "data": {
      "application/vnd.jupyter.widget-view+json": {
       "model_id": "d2502aa3aeb043cb942c7f088ac9711a",
       "version_major": 2,
       "version_minor": 0
      },
      "text/plain": [
       "  0%|          | 0/1563 [00:00<?, ?it/s]"
      ]
     },
     "metadata": {},
     "output_type": "display_data"
    },
    {
     "name": "stdout",
     "output_type": "stream",
     "text": [
      "Traning Loss: 2.0037846609482917\n",
      "------- Training Loop -------\n"
     ]
    },
    {
     "data": {
      "application/vnd.jupyter.widget-view+json": {
       "model_id": "9730a7748f9b4626b395d6a3823c4560",
       "version_major": 2,
       "version_minor": 0
      },
      "text/plain": [
       "  0%|          | 0/1563 [00:00<?, ?it/s]"
      ]
     },
     "metadata": {},
     "output_type": "display_data"
    },
    {
     "name": "stdout",
     "output_type": "stream",
     "text": [
      "Traning Loss: 1.9894306565124258\n",
      "------- Training Loop -------\n"
     ]
    },
    {
     "data": {
      "application/vnd.jupyter.widget-view+json": {
       "model_id": "87d487f16c3442ae8808de9079ca58cc",
       "version_major": 2,
       "version_minor": 0
      },
      "text/plain": [
       "  0%|          | 0/1563 [00:00<?, ?it/s]"
      ]
     },
     "metadata": {},
     "output_type": "display_data"
    },
    {
     "name": "stdout",
     "output_type": "stream",
     "text": [
      "Traning Loss: 1.9785688977476426\n",
      "------- Training Loop -------\n"
     ]
    },
    {
     "data": {
      "application/vnd.jupyter.widget-view+json": {
       "model_id": "78f62ebe06fc4d98a76b15fe9dc09a6f",
       "version_major": 2,
       "version_minor": 0
      },
      "text/plain": [
       "  0%|          | 0/1563 [00:00<?, ?it/s]"
      ]
     },
     "metadata": {},
     "output_type": "display_data"
    },
    {
     "name": "stdout",
     "output_type": "stream",
     "text": [
      "Traning Loss: 1.9697925049146627\n",
      "------- Training Loop -------\n"
     ]
    },
    {
     "data": {
      "application/vnd.jupyter.widget-view+json": {
       "model_id": "fc4688608b694b42b37a6590d4be3a66",
       "version_major": 2,
       "version_minor": 0
      },
      "text/plain": [
       "  0%|          | 0/1563 [00:00<?, ?it/s]"
      ]
     },
     "metadata": {},
     "output_type": "display_data"
    },
    {
     "name": "stdout",
     "output_type": "stream",
     "text": [
      "Traning Loss: 1.9626991136365415\n",
      "------- Training Loop -------\n"
     ]
    },
    {
     "data": {
      "application/vnd.jupyter.widget-view+json": {
       "model_id": "495ff1b75edc4991ac8d6505e760d35e",
       "version_major": 2,
       "version_minor": 0
      },
      "text/plain": [
       "  0%|          | 0/1563 [00:00<?, ?it/s]"
      ]
     },
     "metadata": {},
     "output_type": "display_data"
    },
    {
     "name": "stdout",
     "output_type": "stream",
     "text": [
      "Traning Loss: 1.9567474396047269\n",
      "------- Training Loop -------\n"
     ]
    },
    {
     "data": {
      "application/vnd.jupyter.widget-view+json": {
       "model_id": "baac2047c2f242e0af23df35f5aaaf4d",
       "version_major": 2,
       "version_minor": 0
      },
      "text/plain": [
       "  0%|          | 0/1563 [00:00<?, ?it/s]"
      ]
     },
     "metadata": {},
     "output_type": "display_data"
    },
    {
     "name": "stdout",
     "output_type": "stream",
     "text": [
      "Traning Loss: 1.9515002747033547\n",
      "------- Training Loop -------\n"
     ]
    },
    {
     "data": {
      "application/vnd.jupyter.widget-view+json": {
       "model_id": "80420e1f025a4177a44e3f862ba3df47",
       "version_major": 2,
       "version_minor": 0
      },
      "text/plain": [
       "  0%|          | 0/1563 [00:00<?, ?it/s]"
      ]
     },
     "metadata": {},
     "output_type": "display_data"
    },
    {
     "name": "stdout",
     "output_type": "stream",
     "text": [
      "Traning Loss: 1.9468146962228678\n"
     ]
    }
   ],
   "source": [
    "epochs = 10\n",
    "# Train for each optimizer object\n",
    "net = solution.MyNetwork(lr=0.5)\n",
    "#early_stopper = EarlyStopChecker(0.05, 3)\n",
    "\n",
    "criterion = nn.CrossEntropyLoss()\n",
    "optimizer = get_optimizer('adagrad', net, learning_rate=0.01)\n",
    "metric = MulticlassAccuracy(num_classes=len(classes))\n",
    "los = []\n",
    "for epoch in range(epochs):\n",
    "    los.append(solution.train_loop(trainloader, net, criterion, optimizer))\n",
    "\n",
    "dict_losses['adagrad'] = los"
   ]
  },
  {
   "cell_type": "code",
   "execution_count": 13,
   "metadata": {},
   "outputs": [
    {
     "name": "stdout",
     "output_type": "stream",
     "text": [
      "------- Training Loop -------\n"
     ]
    },
    {
     "data": {
      "application/vnd.jupyter.widget-view+json": {
       "model_id": "90ef1c5e06a14af8abab639818ea125a",
       "version_major": 2,
       "version_minor": 0
      },
      "text/plain": [
       "  0%|          | 0/1563 [00:00<?, ?it/s]"
      ]
     },
     "metadata": {},
     "output_type": "display_data"
    },
    {
     "name": "stdout",
     "output_type": "stream",
     "text": [
      "Traning Loss: 2.317691263295257\n",
      "------- Training Loop -------\n"
     ]
    },
    {
     "data": {
      "application/vnd.jupyter.widget-view+json": {
       "model_id": "8f239f3bf7224c3dbda1865db8b1223a",
       "version_major": 2,
       "version_minor": 0
      },
      "text/plain": [
       "  0%|          | 0/1563 [00:00<?, ?it/s]"
      ]
     },
     "metadata": {},
     "output_type": "display_data"
    },
    {
     "name": "stdout",
     "output_type": "stream",
     "text": [
      "Traning Loss: 2.2959412654393465\n",
      "------- Training Loop -------\n"
     ]
    },
    {
     "data": {
      "application/vnd.jupyter.widget-view+json": {
       "model_id": "4bfdef3edd8c47aba2130bc80f86c4b1",
       "version_major": 2,
       "version_minor": 0
      },
      "text/plain": [
       "  0%|          | 0/1563 [00:00<?, ?it/s]"
      ]
     },
     "metadata": {},
     "output_type": "display_data"
    },
    {
     "name": "stdout",
     "output_type": "stream",
     "text": [
      "Traning Loss: 2.30482453332829\n",
      "------- Training Loop -------\n"
     ]
    },
    {
     "data": {
      "application/vnd.jupyter.widget-view+json": {
       "model_id": "1d88979f7e034cdeaf67379e9d131828",
       "version_major": 2,
       "version_minor": 0
      },
      "text/plain": [
       "  0%|          | 0/1563 [00:00<?, ?it/s]"
      ]
     },
     "metadata": {},
     "output_type": "display_data"
    },
    {
     "name": "stdout",
     "output_type": "stream",
     "text": [
      "Traning Loss: 2.30886286096701\n",
      "------- Training Loop -------\n"
     ]
    },
    {
     "data": {
      "application/vnd.jupyter.widget-view+json": {
       "model_id": "f523f81fafa243f4bc0dbe676918f763",
       "version_major": 2,
       "version_minor": 0
      },
      "text/plain": [
       "  0%|          | 0/1563 [00:00<?, ?it/s]"
      ]
     },
     "metadata": {},
     "output_type": "display_data"
    },
    {
     "name": "stdout",
     "output_type": "stream",
     "text": [
      "Traning Loss: 2.292735405328254\n",
      "------- Training Loop -------\n"
     ]
    },
    {
     "data": {
      "application/vnd.jupyter.widget-view+json": {
       "model_id": "91895b1705b647c6868c717b59d7501e",
       "version_major": 2,
       "version_minor": 0
      },
      "text/plain": [
       "  0%|          | 0/1563 [00:00<?, ?it/s]"
      ]
     },
     "metadata": {},
     "output_type": "display_data"
    },
    {
     "name": "stdout",
     "output_type": "stream",
     "text": [
      "Traning Loss: 2.293573829506882\n",
      "------- Training Loop -------\n"
     ]
    },
    {
     "data": {
      "application/vnd.jupyter.widget-view+json": {
       "model_id": "817dbc33d0184a3aa112265c425d03ce",
       "version_major": 2,
       "version_minor": 0
      },
      "text/plain": [
       "  0%|          | 0/1563 [00:00<?, ?it/s]"
      ]
     },
     "metadata": {},
     "output_type": "display_data"
    },
    {
     "name": "stdout",
     "output_type": "stream",
     "text": [
      "Traning Loss: 2.2966378500884113\n",
      "------- Training Loop -------\n"
     ]
    },
    {
     "data": {
      "application/vnd.jupyter.widget-view+json": {
       "model_id": "e24e83fd8d3c432c9d51b1c4595cd6a4",
       "version_major": 2,
       "version_minor": 0
      },
      "text/plain": [
       "  0%|          | 0/1563 [00:00<?, ?it/s]"
      ]
     },
     "metadata": {},
     "output_type": "display_data"
    },
    {
     "name": "stdout",
     "output_type": "stream",
     "text": [
      "Traning Loss: 2.292505516734401\n",
      "------- Training Loop -------\n"
     ]
    },
    {
     "data": {
      "application/vnd.jupyter.widget-view+json": {
       "model_id": "a17ac1cafacf43028977de5bb7b548a2",
       "version_major": 2,
       "version_minor": 0
      },
      "text/plain": [
       "  0%|          | 0/1563 [00:00<?, ?it/s]"
      ]
     },
     "metadata": {},
     "output_type": "display_data"
    },
    {
     "name": "stdout",
     "output_type": "stream",
     "text": [
      "Traning Loss: 2.286116304415888\n",
      "------- Training Loop -------\n"
     ]
    },
    {
     "data": {
      "application/vnd.jupyter.widget-view+json": {
       "model_id": "aa3ec9cb30a74a7fbacc702fcde966d6",
       "version_major": 2,
       "version_minor": 0
      },
      "text/plain": [
       "  0%|          | 0/1563 [00:00<?, ?it/s]"
      ]
     },
     "metadata": {},
     "output_type": "display_data"
    },
    {
     "name": "stdout",
     "output_type": "stream",
     "text": [
      "Traning Loss: 2.2890192795776056\n"
     ]
    }
   ],
   "source": [
    "epochs = 10\n",
    "# Train for each optimizer object\n",
    "net = solution.MyNetwork(lr=0.5)\n",
    "#early_stopper = EarlyStopChecker(0.05, 3)\n",
    "\n",
    "criterion = nn.CrossEntropyLoss()\n",
    "optimizer = get_optimizer('rmsprop', net, learning_rate=0.01)\n",
    "metric = MulticlassAccuracy(num_classes=len(classes))\n",
    "los = []\n",
    "\n",
    "for epoch in range(epochs):\n",
    "    los.append(solution.train_loop(trainloader, net, criterion, optimizer))\n",
    "\n",
    "dict_losses['rmspop'] = los"
   ]
  },
  {
   "cell_type": "code",
   "execution_count": 14,
   "metadata": {},
   "outputs": [
    {
     "name": "stdout",
     "output_type": "stream",
     "text": [
      "------- Training Loop -------\n"
     ]
    },
    {
     "data": {
      "application/vnd.jupyter.widget-view+json": {
       "model_id": "f972a433535d4ff69518eac5bed64fc4",
       "version_major": 2,
       "version_minor": 0
      },
      "text/plain": [
       "  0%|          | 0/1563 [00:00<?, ?it/s]"
      ]
     },
     "metadata": {},
     "output_type": "display_data"
    },
    {
     "name": "stdout",
     "output_type": "stream",
     "text": [
      "Traning Loss: 2.3011551396021535\n",
      "------- Training Loop -------\n"
     ]
    },
    {
     "data": {
      "application/vnd.jupyter.widget-view+json": {
       "model_id": "87730341215941e496372be7a8c307d0",
       "version_major": 2,
       "version_minor": 0
      },
      "text/plain": [
       "  0%|          | 0/1563 [00:00<?, ?it/s]"
      ]
     },
     "metadata": {},
     "output_type": "display_data"
    },
    {
     "name": "stdout",
     "output_type": "stream",
     "text": [
      "Traning Loss: 2.3034228514343673\n",
      "------- Training Loop -------\n"
     ]
    },
    {
     "data": {
      "application/vnd.jupyter.widget-view+json": {
       "model_id": "2793484a445a4cc3bbed944b06ac2751",
       "version_major": 2,
       "version_minor": 0
      },
      "text/plain": [
       "  0%|          | 0/1563 [00:00<?, ?it/s]"
      ]
     },
     "metadata": {},
     "output_type": "display_data"
    },
    {
     "name": "stdout",
     "output_type": "stream",
     "text": [
      "Traning Loss: 2.3151215968495062\n",
      "------- Training Loop -------\n"
     ]
    },
    {
     "data": {
      "application/vnd.jupyter.widget-view+json": {
       "model_id": "17f2e0b416e24bbb83e7eb279428407e",
       "version_major": 2,
       "version_minor": 0
      },
      "text/plain": [
       "  0%|          | 0/1563 [00:00<?, ?it/s]"
      ]
     },
     "metadata": {},
     "output_type": "display_data"
    },
    {
     "name": "stdout",
     "output_type": "stream",
     "text": [
      "Traning Loss: 2.293457162281068\n",
      "------- Training Loop -------\n"
     ]
    },
    {
     "data": {
      "application/vnd.jupyter.widget-view+json": {
       "model_id": "979bae2f9d5349e9b308344728413449",
       "version_major": 2,
       "version_minor": 0
      },
      "text/plain": [
       "  0%|          | 0/1563 [00:00<?, ?it/s]"
      ]
     },
     "metadata": {},
     "output_type": "display_data"
    },
    {
     "name": "stdout",
     "output_type": "stream",
     "text": [
      "Traning Loss: 2.294622295419909\n",
      "------- Training Loop -------\n"
     ]
    },
    {
     "data": {
      "application/vnd.jupyter.widget-view+json": {
       "model_id": "8284499f7dc34a70adc8187f72707786",
       "version_major": 2,
       "version_minor": 0
      },
      "text/plain": [
       "  0%|          | 0/1563 [00:00<?, ?it/s]"
      ]
     },
     "metadata": {},
     "output_type": "display_data"
    },
    {
     "name": "stdout",
     "output_type": "stream",
     "text": [
      "Traning Loss: 2.294823798169254\n",
      "------- Training Loop -------\n"
     ]
    },
    {
     "data": {
      "application/vnd.jupyter.widget-view+json": {
       "model_id": "0c4ab394194b417aad32a42ab7300247",
       "version_major": 2,
       "version_minor": 0
      },
      "text/plain": [
       "  0%|          | 0/1563 [00:00<?, ?it/s]"
      ]
     },
     "metadata": {},
     "output_type": "display_data"
    },
    {
     "name": "stdout",
     "output_type": "stream",
     "text": [
      "Traning Loss: 2.2925844467075223\n",
      "------- Training Loop -------\n"
     ]
    },
    {
     "data": {
      "application/vnd.jupyter.widget-view+json": {
       "model_id": "1bb7ebd7d06447e7ad752021961cc890",
       "version_major": 2,
       "version_minor": 0
      },
      "text/plain": [
       "  0%|          | 0/1563 [00:00<?, ?it/s]"
      ]
     },
     "metadata": {},
     "output_type": "display_data"
    },
    {
     "name": "stdout",
     "output_type": "stream",
     "text": [
      "Traning Loss: 2.2942343520874102\n",
      "------- Training Loop -------\n"
     ]
    },
    {
     "data": {
      "application/vnd.jupyter.widget-view+json": {
       "model_id": "3d3f9536a9e04ccbb0c98bbcf71537df",
       "version_major": 2,
       "version_minor": 0
      },
      "text/plain": [
       "  0%|          | 0/1563 [00:00<?, ?it/s]"
      ]
     },
     "metadata": {},
     "output_type": "display_data"
    },
    {
     "name": "stdout",
     "output_type": "stream",
     "text": [
      "Traning Loss: 2.2915808704520217\n",
      "------- Training Loop -------\n"
     ]
    },
    {
     "data": {
      "application/vnd.jupyter.widget-view+json": {
       "model_id": "ae5e516d596f4d0e81d03dcb8d53176e",
       "version_major": 2,
       "version_minor": 0
      },
      "text/plain": [
       "  0%|          | 0/1563 [00:00<?, ?it/s]"
      ]
     },
     "metadata": {},
     "output_type": "display_data"
    },
    {
     "name": "stdout",
     "output_type": "stream",
     "text": [
      "Traning Loss: 2.29465854373866\n"
     ]
    }
   ],
   "source": [
    "epochs = 10\n",
    "# Train for each optimizer object\n",
    "net = solution.MyNetwork(lr=0.5)\n",
    "#early_stopper = EarlyStopChecker(0.05, 3)\n",
    "\n",
    "criterion = nn.CrossEntropyLoss()\n",
    "optimizer = get_optimizer('adam', net, learning_rate=0.01)\n",
    "metric = MulticlassAccuracy(num_classes=len(classes))\n",
    "los = []\n",
    "\n",
    "for epoch in range(epochs):\n",
    "    los.append(solution.train_loop(trainloader, net, criterion, optimizer))\n",
    "\n",
    "dict_losses['adam'] = los"
   ]
  },
  {
   "cell_type": "code",
   "execution_count": 15,
   "metadata": {},
   "outputs": [
    {
     "data": {
      "image/png": "[encoded data removed]",
      "text/plain": [
       "<Figure size 880x480 with 1 Axes>"
      ]
     },
     "metadata": {},
     "output_type": "display_data"
    }
   ],
   "source": [
    "import matplotlib.pyplot as plt\n",
    "\n",
    "# Plot the resulting losses\n",
    "plt.figure(figsize=(11, 6), dpi=80)\n",
    "plt.plot(range(len(dict_losses['sgd_mom'])), dict_losses['sgd_mom'],    color = 'grey')\n",
    "plt.xlabel(\"Epoch\")\n",
    "plt.ylabel(\"loss\")\n",
    "plt.title(\"SGD with Momentun - Training Loss x Epoch\")\n",
    "plt.show()"
   ]
  },
  {
   "cell_type": "code",
   "execution_count": 16,
   "metadata": {},
   "outputs": [
    {
     "data": {
      "image/png": "[encoded data removed]",
      "text/plain": [
       "<Figure size 880x480 with 1 Axes>"
      ]
     },
     "metadata": {},
     "output_type": "display_data"
    }
   ],
   "source": [
    "import matplotlib.pyplot as plt\n",
    "\n",
    "# Plot the resulting losses\n",
    "plt.figure(figsize=(11, 6), dpi=80)\n",
    "plt.plot(range(len(dict_losses['adam'])), dict_losses['adam'],    color = 'grey')\n",
    "plt.xlabel(\"Epoch\")\n",
    "plt.ylabel(\"loss\")\n",
    "plt.title(\"Adam - Training Loss x Epoch\")\n",
    "plt.show()"
   ]
  },
  {
   "cell_type": "code",
   "execution_count": 17,
   "metadata": {},
   "outputs": [
    {
     "data": {
      "image/png": "[encoded data removed]",
      "text/plain": [
       "<Figure size 880x480 with 1 Axes>"
      ]
     },
     "metadata": {},
     "output_type": "display_data"
    }
   ],
   "source": [
    "plt.figure(figsize=(11, 6), dpi=80)\n",
    "plt.plot(range(len(dict_losses['adagrad'])), dict_losses['adagrad'],    color = 'grey')\n",
    "plt.xlabel(\"Epoch\")\n",
    "plt.ylabel(\"loss\")\n",
    "plt.title(\"Adagrad - Training Loss x Epoch\")\n",
    "plt.show()"
   ]
  },
  {
   "cell_type": "code",
   "execution_count": 18,
   "metadata": {},
   "outputs": [
    {
     "data": {
      "image/png": "[encoded data removed]",
      "text/plain": [
       "<Figure size 880x480 with 1 Axes>"
      ]
     },
     "metadata": {},
     "output_type": "display_data"
    }
   ],
   "source": [
    "plt.figure(figsize=(11, 6), dpi=80)\n",
    "plt.plot(range(len(dict_losses['rmspop'])), dict_losses['rmspop'],    color = 'grey')\n",
    "plt.xlabel(\"Epoch\")\n",
    "plt.ylabel(\"loss\")\n",
    "plt.title(\"rmsprop - Training Loss x Epoch\")\n",
    "plt.show()"
   ]
  }
 ],
 "metadata": {
  "accelerator": "GPU",
  "colab": {
   "provenance": []
  },
  "gpuClass": "standard",
  "kernelspec": {
   "display_name": "Python 3 (ipykernel)",
   "language": "python",
   "name": "python3"
  },
  "language_info": {
   "codemirror_mode": {
    "name": "ipython",
    "version": 3
   },
   "file_extension": ".py",
   "mimetype": "text/x-python",
   "name": "python",
   "nbconvert_exporter": "python",
   "pygments_lexer": "ipython3",
   "version": "3.10.6"
  },
  "nteract": {
   "version": "nteract-front-end@1.0.0"
  },
  "vscode": {
   "interpreter": {
    "hash": "df4e0ccb632b6b26733995cf68ba48936afe98ab48de101e8a51d30964e64889"
   }
  }
 },
 "nbformat": 4,
 "nbformat_minor": 1
}
