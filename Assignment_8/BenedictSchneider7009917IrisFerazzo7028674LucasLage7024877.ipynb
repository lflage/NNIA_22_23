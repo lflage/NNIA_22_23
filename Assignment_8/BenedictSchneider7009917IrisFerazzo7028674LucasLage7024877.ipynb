{
 "cells": [
  {
   "cell_type": "markdown",
   "metadata": {
    "id": "c5E36qAPf-8f",
    "pycharm": {
     "name": "#%% md\n"
    }
   },
   "source": [
    "# NNIA Assignment 8\n",
    "\n",
    "**DEADLINE: 11. 01. 2023 08:00 CET**\n",
    "Submission more than 10 minutes past the deadline will **not** be graded!\n",
    "\n",
    "- Benedict Schneider 7009917 (BESC0005): 6 hrs \n",
    "- Iris Ferazzo 7028674 (IRFE001): 8 hrs\n",
    "- Lucas Fonseca Lage 7024877 (LUFO00001): 8 hrs\n",
    "\n",
    "# Submission Instructions\n",
    "\n",
    "**IMPORTANT** Please make sure you read the following instructions carefully. If you are unclear about any part of the assignment, ask questions **before** the assignment deadline. All course-related questions can be addressed on the course **[Piazza Platform](https://piazza.com/class/kvc3vzhsvh55rt)**.\n",
    "\n",
    "* Assignments are to be submitted in a **team of 2 or 3**.\n",
    "* Please include your **names**, **ID's**, **Teams usernames**, and **approximate total time spent per person** at the beginning of the Notebook in the space provided\n",
    "* Make sure you appropriately comment your code wherever required.\n",
    "* Your final submission should contain this completed Jupyter Notebook, including the bonus question (if you attempt it), and any necessary Python files.\n",
    "* Do **not** submit any **data or cache files** (e.g. `__pycache__`, the dataset PyTorch downloads, etc.). \n",
    "* Upload the **zipped** folder (*.zip* is the only accepted extension) in **Teams**.\n",
    "* Only **one member** of the group should make the submisssion.\n",
    "* **Important** please name the submitted zip folder as: `Name1_id1_Name2_id2.zip`. The Jupyter Notebook should also be named: `Name1_id1_Name2_id2.ipynb`. This is **very important** for our internal organization epeatedly students fail to do this."
   ]
  },
  {
   "cell_type": "markdown",
   "metadata": {
    "id": "Qv5YtUy8hrYv"
   },
   "source": [
    "## 1 SGD, Batch, Mini-Batch  (1.5 pts)\n",
    "\n",
    "Typically neural networks are large and are trained with millions of data points. It is thus often infeasible to compute the gradient $\\nabla_{\\theta} \\tilde J(\\theta)$ that requires the accumulation of the gradient over the entire training set. \n",
    "\n",
    "There are various online resources on Stochastic, Batch, and Minit-Gradient Descent methods in addition to what was covered during the lecture. Here are a few:\n",
    "\n",
    "- [Medium: Batch , Mini-Batch and Stochastic gradient descent](https://sweta-nit.medium.com/batch-mini-batch-and-stochastic-gradient-descent-e9bc4cacd461)\n",
    "- [DeepLearningAI: Batch vs Mini-Batch](https://youtu.be/4qJaSmvhxi8)\n",
    "\n",
    "**Discuss pros and cons of (1) stochastic (m=1), (2) batch (m = size of dataset) and (3) mini-batch gradient descent** (m is the number of points passed at a time)."
   ]
  },
  {
   "cell_type": "markdown",
   "metadata": {
    "id": "qcPLBMij7xPK"
   },
   "source": [
    "## <font color=\"Green\">Done</font>\n",
    "\n",
    "\n",
    "### 1\n",
    "\n",
    "- Stochastic: \n",
    "    - Pros:\n",
    "        - Low memory consumption;\n",
    "        - Faster then Batch and Mini-Batch;\n",
    "    - Cons:\n",
    "        - Harder to find an absolute minima;\n",
    "        - Sensitive to learning rates;\n",
    "        - Leads to ill-conditioning;\n",
    "\n",
    "- Batch:  \n",
    "    - Pros:  \n",
    "        - More computationally efficient;\n",
    "        - Since we can derive a new value for the weight, its a learnable parameter;\n",
    "    - Cons:\n",
    "        - High memory consumption;\n",
    "        - Computationally slow, but deacreasing batch size might help.\n",
    "\n",
    "- Mini-Batch: \n",
    "    - Pros:\n",
    "        - Is more memory efficient since it passes only the batches to the model, before\n",
    "        it starts the optimization step;\n",
    "        - Because of this, it is also more computationally efficient;\n",
    "\n",
    "    - Cons:\n",
    "        - The smaller the batch size, the less accurate the estimation will be, since we might not be accounting for the variance of the whole dataset;\n",
    "        - If the learning rate is low, the convergence will also be low.\n",
    "\n"
   ]
  },
  {
   "cell_type": "markdown",
   "metadata": {
    "id": "VZzXrUrUTMAT"
   },
   "source": [
    "## 2 Possible Problems (2.5 pts)\n",
    "\n",
    "1. One of the optimization challenges is ill-conditioning. To answer the following questions read [this article](https://medium.com/@shaikhz94/understanding-ill-conditioning-in-deep-neural-networks-2396d6fb0098) (6 min read). Answer the questions in your own words. (1.5 pts) \n",
    "  - Read part [8.2.1 Ill-Conditioning](https://www.deeplearningbook.org/contents/optimization.html) of the Deep Learning Book and explain why very small steps increase cost function when the Hessian matrix is ill-conditioned. Start from the equation of the second-order Taylor series expansion of the cost function.  \n",
    "  - In practice, how can we spot ill-conditioning?\n",
    "  - What can we do to solve the problem of ill-conditioning?\n",
    "\t\t\n",
    "2. Explain what the exploding gradient problem is and when it occurs. What can be done to solve the exploding gradient problem? (1 pt)\n"
   ]
  },
  {
   "cell_type": "markdown",
   "metadata": {
    "id": "u2DOmmMIEnsF"
   },
   "source": [
    "## <font color=\"Green\">Done</font>\n",
    "\n",
    "\n",
    "### 2\n",
    "\n",
    "1.  \n",
    "In practice we can use the equation:\n",
    "\\begin{align*}\n",
    "    \\frac{1}{2} * LearningRate² * \\bold{g}^T * H* \\bold{g} - LearningRate * g^T * g  \n",
    "\\end{align*}\n",
    "where **g** is the first order gradient and **H** is the second order derivative or the Hessian Matrix. The ill-conditioning problem happens when the left term is higher then the right term.\n",
    "To avoid ill-conditioning one can monitor the term:\n",
    "\\begin{align*} \n",
    "\\bold{g}^T * H* \\bold{g} \n",
    "\\end{align*}\n",
    "which increses in order of magnitude during training.\n",
    "\n",
    "To find out which learning rates would be optimal, we can plot the step size with the learning rate, and find the point where the values for the step size become positive, this means that the value of the cost function will increase with each step.\n",
    "\n",
    "A solution for ill-conditioning is using adaptive optimizers or pre-process the dataset. \n",
    "\n",
    "\n",
    "\n",
    "2. The exploding gradient problem occurs when a Neural Network has many too many layers, or a deep computational graph. \n",
    "This means that, in a Recurrent Neural Network for example, while calculating the gradient, the weights matrix will be multiplied multiple times.\n",
    "\n",
    "\\begin{align*}\n",
    "    \\bold{W}^t = (\\bold{V}diag(\\lambda)\\bold{V}^{-1})^{t} = (\\bold{V}diag(\\lambda)^{t}\\bold{V}^{-1})\n",
    "\\end{align*}\n",
    "\n",
    "If any of the eigenvalues $\\lambda$ are not close to absolute one, they might vanish, if they are close to 0, or explode, if they are greater than 1.\n",
    "\n",
    "Feedforward NN largely avoid this problem, since they use different weight matrices at each time step.\n",
    "\n",
    "\n",
    "Gradient clipping, \n",
    "  "
   ]
  },
  {
   "cell_type": "markdown",
   "metadata": {
    "id": "bKWOi_YlSqSM"
   },
   "source": [
    "## 3 Implementation (6 points)\n",
    "\n",
    "Now you will be implementing and testing different approaches to optimize the training of a neural network. Here you will be working with the [CIFAR10](https://pytorch.org/vision/stable/generated/torchvision.datasets.CIFAR10.html#cifar10) dataset, which consists of images of airplanes, cars, birds, cats, deer, dogs, frogs, horses, ships, and trucks. Once again [cross entropy loss](https://pytorch.org/docs/stable/generated/torch.nn.CrossEntropyLoss.html) will be used as the loss criterion.\n",
    "\n",
    "### 3.1 Early Stopping (2 points)\n",
    "\n",
    "Although not covered explicitly in the last lecture as an optimization strategy, early stopping can be used as both a regularization technique and an optimization technique.\n",
    "\n",
    "Early stopping is necessary since we are training and reducing empirical risk, thus our algorithms will not halt, they will simply be stopped once a convergence criteria has been met. Up until this point we have used a very crude strategy of simply limiting our learning to a number of epochs or steps.\n",
    "\n",
    "In this exercise, you are tasked with implementing a simple version of early stopping. The way to usually implement early stopping is to stop the training once a specific metric does not change more than an arbitrary value $\\varepsilon$ after a number of epochs (or steps) $n$, i.e.: $\\forall i \\in {1..n} \\,\\, \\left\\| M_i - M_{i-1} \\right\\| < \\varepsilon$ where $M_i$ is the value of the metric at epoch $i$.\n",
    "\n",
    "**Note**: The $n$ value above is usually called `patience` in common implementations."
   ]
  },
  {
   "cell_type": "code",
   "execution_count": 1,
   "metadata": {
    "id": "jyNZRMIa6S_6"
   },
   "outputs": [],
   "source": [
    "!pip install -q torcheval"
   ]
  },
  {
   "cell_type": "code",
   "execution_count": 21,
   "metadata": {
    "id": "W-lqJ1_0cICv"
   },
   "outputs": [],
   "source": [
    "# Let's import some libraries\n",
    "import torch\n",
    "import torchvision\n",
    "import torchvision.transforms as transforms\n",
    "import torch.optim as optim\n",
    "import torch.nn as nn\n",
    "import torch.nn.functional as F\n",
    "from torcheval.metrics import MulticlassAccuracy\n",
    "\n",
    "import numpy as np\n",
    "from tqdm.notebook import tqdm"
   ]
  },
  {
   "cell_type": "markdown",
   "metadata": {
    "id": "YSUGCnRpntV_"
   },
   "source": [
    "#### CIFAR-10: Some notes about our data\n",
    "\n",
    "This dataset presents a multi-class classification task. More details can be found [here](https://www.cs.toronto.edu/~kriz/cifar.html).\n",
    "\n",
    "Important details:\n",
    "\n",
    "* Each image is a color image of 32x32 pixels\n",
    "* There are 10 classes (laid out in the following code)\n",
    "* You should use the [MulticlassAccuracy](https://torchmetrics.readthedocs.io/en/stable/classification/accuracy.html#multiclassaccuracy) from the `torcheval.metrics` library (already installed and imported for you).\n",
    "\n",
    "A quick overview of how to use metrics on pytorch can be found [here](https://torchmetrics.readthedocs.io/en/stable/pages/overview.html).\n",
    "\n",
    "The TL;DR of it all is to compute metrics per batch using the `update` method and computing a final metric value with `compute`. "
   ]
  },
  {
   "cell_type": "code",
   "execution_count": 22,
   "metadata": {
    "id": "dNs4XeBlb1Be"
   },
   "outputs": [
    {
     "name": "stdout",
     "output_type": "stream",
     "text": [
      "Files already downloaded and verified\n",
      "Files already downloaded and verified\n"
     ]
    }
   ],
   "source": [
    "# Let's load our data before getting into it\n",
    "transform = transforms.Compose(\n",
    "    [transforms.ToTensor(),\n",
    "     transforms.Normalize((0.5, 0.5, 0.5), (0.5, 0.5, 0.5))])\n",
    "\n",
    "batch_size = 32\n",
    "\n",
    "trainset = torchvision.datasets.CIFAR10(root='./data', train=True,\n",
    "                                        download=True, transform=transform)\n",
    "trainloader = torch.utils.data.DataLoader(trainset, batch_size=batch_size,\n",
    "                                          shuffle=True, num_workers=2)\n",
    "\n",
    "testset = torchvision.datasets.CIFAR10(root='./data', train=False,\n",
    "                                       download=True, transform=transform)\n",
    "testloader = torch.utils.data.DataLoader(testset, batch_size=batch_size,\n",
    "                                         shuffle=False, num_workers=2)\n",
    "\n",
    "classes = ('plane', 'car', 'bird', 'cat',\n",
    "           'deer', 'dog', 'frog', 'horse', 'ship', 'truck')"
   ]
  },
  {
   "cell_type": "code",
   "execution_count": 23,
   "metadata": {
    "id": "PLlHf5W1QJWV"
   },
   "outputs": [],
   "source": [
    "# A model is given for ease of reproducibility\n",
    "class MyNetwork(nn.Module):\n",
    "    def __init__(self, lr=0.0001):\n",
    "        super(MyNetwork, self).__init__()\n",
    "        self.learning_rate = lr\n",
    "\n",
    "        self.network = nn.Sequential(\n",
    "            nn.Linear(32*32*3, 64),\n",
    "            nn.ReLU(),\n",
    "            nn.Linear(64, 10),\n",
    "            nn.Softmax(dim=1)\n",
    "        )\n",
    "\n",
    "    def forward(self, x):\n",
    "        x = torch.flatten(x, 1) # flatten all dimensions except batch\n",
    "        return self.network(x)\n"
   ]
  },
  {
   "cell_type": "code",
   "execution_count": 24,
   "metadata": {
    "id": "sM2MfDabZahy"
   },
   "outputs": [],
   "source": [
    "# Skeleton code \n",
    "class EarlyStopChecker:\n",
    "    def __init__(self,\n",
    "               delta: float,\n",
    "               patience: float,\n",
    "               lower_better: bool = False):\n",
    "    \n",
    "        \"\"\"\n",
    "        Params:\n",
    "        delta: The max difference allowed\n",
    "        patience: Number of epochs to tolerate without significant changes\n",
    "        lower_better: The metric value is better, the lower it is if `True` is passed\n",
    "        \"\"\"\n",
    "        # TODO\n",
    "        self.patience = patience\n",
    "        self.delta = delta\n",
    "        self.lower_better = lower_better\n",
    "        self.patience_count = 0\n",
    "        self.metric_previous = 0\n",
    "        pass\n",
    "  \n",
    "    def check_early_stop(self,\n",
    "                       metric_value: float) -> bool:\n",
    "        \"\"\"\n",
    "        A function which upon receiving the latest metric value, determines\n",
    "        whether training should be stopped (by returning `True`) or not \n",
    "        (by returning `False`)\n",
    "    \n",
    "        Params:\n",
    "        metric_value: The value of the metric at this time step\n",
    "        Returns `True` if training should stop, `False` otherwise.\n",
    "        \"\"\"\n",
    "        \n",
    "        # TODO: Implement\n",
    "        if self.lower_better == False:\n",
    "            if metric_value - self.metric_previous < self.delta:\n",
    "                self.patience_count += 1\n",
    "                self.metric_previous = metric_value\n",
    "            else:\n",
    "                self.patience_count = 0\n",
    "                self.metric_previous = metric_value\n",
    "        \n",
    "        if self.lower_better == True:\n",
    "            if abs(self.metric_previous - metric_value) < self.delta:\n",
    "                self.patience_count += 1\n",
    "                self.metric_previous = metric_value\n",
    "            else:\n",
    "                self.patience_count = 0\n",
    "                self.metric_previous = metric_value\n",
    "\n",
    "        if self.patience_count == self.patience:\n",
    "            return True\n",
    "        else:\n",
    "            return False"
   ]
  },
  {
   "cell_type": "code",
   "execution_count": 25,
   "metadata": {
    "id": "2FqVl2dF5brE"
   },
   "outputs": [],
   "source": [
    "# High learning rate so we can see the early stop effects quickly\n",
    "net = MyNetwork(lr=0.5)"
   ]
  },
  {
   "cell_type": "code",
   "execution_count": 38,
   "metadata": {
    "id": "YGjLnLxTa82n",
    "scrolled": true
   },
   "outputs": [
    {
     "data": {
      "application/vnd.jupyter.widget-view+json": {
       "model_id": "70f78db5d7c44aaabe4c13eacd7a831d",
       "version_major": 2,
       "version_minor": 0
      },
      "text/plain": [
       "  0%|          | 0/1563 [00:00<?, ?it/s]"
      ]
     },
     "metadata": {},
     "output_type": "display_data"
    },
    {
     "name": "stdout",
     "output_type": "stream",
     "text": [
      "Accuracy for epoch #0: 0.3424200117588043\n"
     ]
    },
    {
     "data": {
      "application/vnd.jupyter.widget-view+json": {
       "model_id": "ef5e0feddc6644338c4c2415dc028bdc",
       "version_major": 2,
       "version_minor": 0
      },
      "text/plain": [
       "  0%|          | 0/1563 [00:00<?, ?it/s]"
      ]
     },
     "metadata": {},
     "output_type": "display_data"
    },
    {
     "name": "stdout",
     "output_type": "stream",
     "text": [
      "Accuracy for epoch #1: 0.3691999912261963\n"
     ]
    },
    {
     "data": {
      "application/vnd.jupyter.widget-view+json": {
       "model_id": "22999fcaa37f4661ba16d1f24b91d7ee",
       "version_major": 2,
       "version_minor": 0
      },
      "text/plain": [
       "  0%|          | 0/1563 [00:00<?, ?it/s]"
      ]
     },
     "metadata": {},
     "output_type": "display_data"
    },
    {
     "name": "stdout",
     "output_type": "stream",
     "text": [
      "Accuracy for epoch #2: 0.3755800127983093\n"
     ]
    },
    {
     "data": {
      "application/vnd.jupyter.widget-view+json": {
       "model_id": "2f5740a815054eae96897e5442bfe2a6",
       "version_major": 2,
       "version_minor": 0
      },
      "text/plain": [
       "  0%|          | 0/1563 [00:00<?, ?it/s]"
      ]
     },
     "metadata": {},
     "output_type": "display_data"
    },
    {
     "name": "stdout",
     "output_type": "stream",
     "text": [
      "Accuracy for batch #3: 0.3794400095939636\n"
     ]
    }
   ],
   "source": [
    "# Training loop code\n",
    "epochs = 20\n",
    "early_stopper = EarlyStopChecker(0.1, 3)\n",
    "\n",
    "criterion = nn.CrossEntropyLoss()\n",
    "optimizer = optim.SGD(net.parameters(), lr=net.learning_rate)\n",
    "metric = MulticlassAccuracy(num_classes=len(classes))\n",
    "\n",
    "for epoch in range(epochs):\n",
    "    running_loss = 0.0\n",
    "    for n_batch, mini_batch in (pbar := tqdm(enumerate(trainloader, 1),\n",
    "                                           total=len(trainloader))):\n",
    "        \n",
    "        # Training code\n",
    "        inputs, labels = mini_batch\n",
    "        optimizer.zero_grad()\n",
    "    \n",
    "        # Do optimization step\n",
    "        outputs = net(inputs)\n",
    "        loss = criterion(outputs, labels)\n",
    "        loss.backward()\n",
    "        optimizer.step()\n",
    "    \n",
    "        # Print some statistics\n",
    "        running_loss += loss.item()\n",
    "        pbar.set_description(f\"Loss: {running_loss / n_batch:.4f}\")\n",
    "        pbar.refresh()\n",
    "        \n",
    "        #print(outputs,labels)\n",
    "      # TODO: compute metrics on the test/validation dataset\n",
    "        metric.update(outputs,labels)\n",
    "        \n",
    "    current_metric = metric.compute()\n",
    "      # TODO: Use `early_stopper.check_early_stop()` to check\n",
    "      # whether training should continue\n",
    "    if early_stopper.check_early_stop(current_metric):\n",
    "            print(f\"Accuracy for batch #{epoch}: {current_metric.item()}\")\n",
    "            break\n",
    "\n",
    "    print(f\"Accuracy for epoch #{epoch}: {current_metric.item()}\")\n",
    "\n",
    "  # Reset the metric in preparation for the next epoch\n",
    "    metric.reset()"
   ]
  },
  {
   "cell_type": "markdown",
   "metadata": {
    "id": "_qvhYHD1cqJ5"
   },
   "source": [
    "### 3.2 Trying different optimizers (2 points)\n",
    "\n",
    "### 3.2.1 Using different optimizers in pytorch (1 point)\n",
    "\n",
    "It's time to try out the different optimizers covered in the lecture.\n",
    "\n",
    "Create a function that returns an optimizer object for each of the following:\n",
    "\n",
    "1. [SGD with Momentum](https://pytorch.org/docs/stable/generated/torch.optim.SGD.html): note that you should set the momentum parameter to $0.9$. This is the value usually picked as the hyperparameter although other approaches to picking a value exist.\n",
    "1. [AdaGrad](https://pytorch.org/docs/stable/generated/torch.optim.Adagrad.html)\n",
    "1. [RMSProp](https://pytorch.org/docs/stable/generated/torch.optim.RMSprop.html)\n",
    "1. [Adam](https://pytorch.org/docs/stable/generated/torch.optim.Adam.html)\n"
   ]
  },
  {
   "cell_type": "code",
   "execution_count": 26,
   "metadata": {
    "id": "9gb5pwtAd1-t"
   },
   "outputs": [
    {
     "data": {
      "text/plain": [
       "<torch._C.Generator at 0x7f858c17d450>"
      ]
     },
     "execution_count": 26,
     "metadata": {},
     "output_type": "execute_result"
    }
   ],
   "source": [
    "# Set our seed for reproducibility\n",
    "torch.manual_seed(0)"
   ]
  },
  {
   "cell_type": "code",
   "execution_count": 27,
   "metadata": {
    "id": "LbfKL7Jf8H1U"
   },
   "outputs": [],
   "source": [
    "def get_optimizer(optimizer_name: str,\n",
    "                  model: nn.Module,\n",
    "                  learning_rate: float):\n",
    "    \"\"\"\n",
    "    Function that returns an optimizer object that will be used\n",
    "    for training\n",
    "\n",
    "    Params:\n",
    "    optimizer_name: This will indicate the type of optimizer to return\n",
    "    model: Model which has the parameters to be optimized\n",
    "    learning_rate: learning rate to be used\n",
    "    \"\"\"\n",
    "    # TODO: return the right object\n",
    "    if optimizer_name == \"momentum\":\n",
    "        return optim.SGD(model.parameters(), momentum=.9,lr=learning_rate)\n",
    "    elif optimizer_name == \"adagrad\":\n",
    "        return optim.Adagrad(model.parameters(), lr=learning_rate)\n",
    "    elif optimizer_name == \"rmsprop\":\n",
    "        return optim.RMSprop(model.parameters(), lr=learning_rate)\n",
    "    elif optimizer_name == \"adam\":\n",
    "        return optim.Adam(model.parameters(), lr=learning_rate)\n",
    "    else:\n",
    "        print(\"no optimizer found\")\n",
    "        return None\n",
    "  "
   ]
  },
  {
   "cell_type": "code",
   "execution_count": 40,
   "metadata": {
    "id": "AHcqFWcoRrj1"
   },
   "outputs": [],
   "source": [
    "# Usage:\n",
    "sgd_mom_optimizer = get_optimizer('momentum', net, learning_rate=0.01)\n",
    "adagrad_optimizer = get_optimizer('adagrad', net, learning_rate=0.01)\n",
    "rms_optimizer = get_optimizer('rmsprop', net, learning_rate=0.01)\n",
    "adam_optimizer = get_optimizer('adam', net, learning_rate=0.01)"
   ]
  },
  {
   "cell_type": "markdown",
   "metadata": {
    "id": "TbvJ-_sjeCes"
   },
   "source": [
    "#### 3.2.2 Discussion (1 point)\n",
    "\n",
    "What result do you expect for each of the learning optimizers? Motivate your answers while keeping them concise.\n",
    "\n"
   ]
  },
  {
   "cell_type": "markdown",
   "metadata": {
    "id": "DQb3p7TlFt4d"
   },
   "source": [
    "## <font color=\"red\">To Do</font>\n",
    "\n",
    "\n",
    "#### 3.2.2"
   ]
  },
  {
   "cell_type": "markdown",
   "metadata": {
    "id": "vsVwueL8eU6k"
   },
   "source": [
    "### 3.3 Analyze your results (2 points)\n",
    "\n",
    "Modify your training code from previous assignments (and the previous exercise if you wish to use early stopping) and experiment with the different optimization approaches on the CIFAR-10 dataset.\n",
    "\n",
    "Plot the training loss for each of the optimizers and discuss your results.\n",
    "\n",
    "How do they compare with your expectations from the previous exercise?\n",
    "\n",
    "You will be using the same dataset as above. You should also use the same model class (`MyNetwork`) for this exercise as in the previous exercise."
   ]
  },
  {
   "cell_type": "markdown",
   "metadata": {
    "id": "PzpF91NUGKOv"
   },
   "source": [
    "## <font color=\"red\">To Do</font>\n",
    "\n",
    "\n",
    "### 3.3"
   ]
  },
  {
   "cell_type": "code",
   "execution_count": 1,
   "metadata": {
    "id": "r7kV27rC6I_B"
   },
   "outputs": [
    {
     "name": "stderr",
     "output_type": "stream",
     "text": [
      "/home/lucasfl/anaconda3/envs/nn_22_23/lib/python3.10/site-packages/scipy/__init__.py:146: UserWarning: A NumPy version >=1.16.5 and <1.23.0 is required for this version of SciPy (detected version 1.23.3\n",
      "  warnings.warn(f\"A NumPy version >={np_minversion} and <{np_maxversion}\"\n"
     ]
    },
    {
     "ename": "NameError",
     "evalue": "name 'nn' is not defined",
     "output_type": "error",
     "traceback": [
      "\u001b[0;31m---------------------------------------------------------------------------\u001b[0m",
      "\u001b[0;31mNameError\u001b[0m                                 Traceback (most recent call last)",
      "Cell \u001b[0;32mIn [1], line 8\u001b[0m\n\u001b[1;32m      5\u001b[0m net \u001b[39m=\u001b[39m solution\u001b[39m.\u001b[39mMyNetwork(lr\u001b[39m=\u001b[39m\u001b[39m0.01\u001b[39m)\n\u001b[1;32m      6\u001b[0m \u001b[39m#early_stopper = EarlyStopChecker(0.05, 3)\u001b[39;00m\n\u001b[0;32m----> 8\u001b[0m criterion \u001b[39m=\u001b[39m nn\u001b[39m.\u001b[39mCrossEntropyLoss()\n\u001b[1;32m      9\u001b[0m optimizer \u001b[39m=\u001b[39m get_optimizer(\u001b[39m'\u001b[39m\u001b[39mmomentum\u001b[39m\u001b[39m'\u001b[39m, net, learning_rate\u001b[39m=\u001b[39m\u001b[39m0.01\u001b[39m)\n\u001b[1;32m     10\u001b[0m metric \u001b[39m=\u001b[39m MulticlassAccuracy(num_classes\u001b[39m=\u001b[39m\u001b[39mlen\u001b[39m(classes))\n",
      "\u001b[0;31mNameError\u001b[0m: name 'nn' is not defined"
     ]
    }
   ],
   "source": [
    "import solution\n",
    "dict_losses = {}\n",
    "epochs = 10\n",
    "# Train for each optimizer object\n",
    "net = solution.MyNetwork(lr=0.01)\n",
    "#early_stopper = EarlyStopChecker(0.05, 3)\n",
    "\n",
    "criterion = nn.CrossEntropyLoss()\n",
    "optimizer = get_optimizer('momentum', net, learning_rate=0.01)\n",
    "metric = MulticlassAccuracy(num_classes=len(classes))\n",
    "los = []\n",
    "\n",
    "for epoch in range(epochs):\n",
    "    los.append(solution.train_loop(trainloader, net, criterion, optimizer))\n",
    "\n",
    "dict_losses = {\"sgd_mom\": los}\n"
   ]
  },
  {
   "cell_type": "code",
   "execution_count": 56,
   "metadata": {},
   "outputs": [
    {
     "name": "stdout",
     "output_type": "stream",
     "text": [
      "------- Training Loop -------\n",
      "Traning Loss: 2.0910722174403458\n",
      "------- Training Loop -------\n",
      "Traning Loss: 2.0295277157427787\n",
      "------- Training Loop -------\n",
      "Traning Loss: 2.0062025346896317\n",
      "------- Training Loop -------\n",
      "Traning Loss: 1.9915383249540324\n",
      "------- Training Loop -------\n",
      "Traning Loss: 1.980552854479999\n",
      "------- Training Loop -------\n",
      "Traning Loss: 1.9718571693868265\n",
      "------- Training Loop -------\n",
      "Traning Loss: 1.9650839122533035\n",
      "------- Training Loop -------\n",
      "Traning Loss: 1.9589384691271352\n",
      "------- Training Loop -------\n",
      "Traning Loss: 1.953587124992927\n",
      "------- Training Loop -------\n",
      "Traning Loss: 1.9488724227601415\n"
     ]
    }
   ],
   "source": [
    "epochs = 10\n",
    "# Train for each optimizer object\n",
    "net = solution.MyNetwork(lr=0.5)\n",
    "#early_stopper = EarlyStopChecker(0.05, 3)\n",
    "\n",
    "criterion = nn.CrossEntropyLoss()\n",
    "optimizer = get_optimizer('adagrad', net, learning_rate=0.01)\n",
    "metric = MulticlassAccuracy(num_classes=len(classes))\n",
    "los = []\n",
    "for epoch in range(epochs):\n",
    "    los.append(solution.train_loop(trainloader, net, criterion, optimizer))\n",
    "\n",
    "dict_losses['adagrad'] = los"
   ]
  },
  {
   "cell_type": "code",
   "execution_count": 60,
   "metadata": {},
   "outputs": [
    {
     "name": "stdout",
     "output_type": "stream",
     "text": [
      "------- Training Loop -------\n",
      "Traning Loss: 2.341651121470231\n",
      "------- Training Loop -------\n",
      "Traning Loss: 2.2998168029162795\n",
      "------- Training Loop -------\n",
      "Traning Loss: 2.3029224357007028\n",
      "------- Training Loop -------\n",
      "Traning Loss: 2.29915059352638\n",
      "------- Training Loop -------\n",
      "Traning Loss: 2.289685633269473\n",
      "------- Training Loop -------\n",
      "Traning Loss: 2.3111761838140508\n",
      "------- Training Loop -------\n",
      "Traning Loss: 2.2956446597611224\n",
      "------- Training Loop -------\n",
      "Traning Loss: 2.295798515709104\n",
      "------- Training Loop -------\n",
      "Traning Loss: 2.295308166486822\n",
      "------- Training Loop -------\n",
      "Traning Loss: 2.301233390928916\n"
     ]
    }
   ],
   "source": [
    "epochs = 10\n",
    "# Train for each optimizer object\n",
    "net = solution.MyNetwork(lr=0.5)\n",
    "#early_stopper = EarlyStopChecker(0.05, 3)\n",
    "\n",
    "criterion = nn.CrossEntropyLoss()\n",
    "optimizer = get_optimizer('rmsprop', net, learning_rate=0.01)\n",
    "metric = MulticlassAccuracy(num_classes=len(classes))\n",
    "los = []\n",
    "\n",
    "for epoch in range(epochs):\n",
    "    los.append(solution.train_loop(trainloader, net, criterion, optimizer))\n",
    "\n",
    "dict_losses['rmspop'] = los"
   ]
  },
  {
   "cell_type": "code",
   "execution_count": 62,
   "metadata": {},
   "outputs": [
    {
     "name": "stdout",
     "output_type": "stream",
     "text": [
      "------- Training Loop -------\n",
      "Traning Loss: 2.2912140534767644\n",
      "------- Training Loop -------\n",
      "Traning Loss: 2.2779870277326686\n",
      "------- Training Loop -------\n",
      "Traning Loss: 2.288979362999104\n",
      "------- Training Loop -------\n",
      "Traning Loss: 2.3047872054904834\n",
      "------- Training Loop -------\n",
      "Traning Loss: 2.301718923424729\n",
      "------- Training Loop -------\n",
      "Traning Loss: 2.2983603439343256\n",
      "------- Training Loop -------\n",
      "Traning Loss: 2.3018960905471677\n",
      "------- Training Loop -------\n",
      "Traning Loss: 2.3067842551858013\n",
      "------- Training Loop -------\n",
      "Traning Loss: 2.3064684729048324\n",
      "------- Training Loop -------\n",
      "Traning Loss: 2.3015622792149384\n"
     ]
    }
   ],
   "source": [
    "epochs = 10\n",
    "# Train for each optimizer object\n",
    "net = solution.MyNetwork(lr=0.5)\n",
    "#early_stopper = EarlyStopChecker(0.05, 3)\n",
    "\n",
    "criterion = nn.CrossEntropyLoss()\n",
    "optimizer = get_optimizer('adam', net, learning_rate=0.01)\n",
    "metric = MulticlassAccuracy(num_classes=len(classes))\n",
    "los = []\n",
    "\n",
    "for epoch in range(epochs):\n",
    "    los.append(solution.train_loop(trainloader, net, criterion, optimizer))\n",
    "\n",
    "dict_losses['adam'] = los"
   ]
  },
  {
   "cell_type": "code",
   "execution_count": 68,
   "metadata": {},
   "outputs": [
    {
     "data": {
      "image/png": "[encoded data removed]",
      "text/plain": [
       "<Figure size 880x480 with 1 Axes>"
      ]
     },
     "metadata": {},
     "output_type": "display_data"
    }
   ],
   "source": [
    "import matplotlib.pyplot as plt\n",
    "\n",
    "# Plot the resulting losses\n",
    "plt.figure(figsize=(11, 6), dpi=80)\n",
    "plt.plot(range(len(dict_losses['sgd_mom'])), dict_losses['sgd_mom'],    color = 'grey')\n",
    "plt.xlabel(\"Epoch\")\n",
    "plt.ylabel(\"loss\")\n",
    "plt.title(\"SGD with Momentun - Training Loss x Epoch\")\n",
    "plt.show()"
   ]
  },
  {
   "cell_type": "code",
   "execution_count": 69,
   "metadata": {},
   "outputs": [
    {
     "data": {
      "image/png": "[encoded data removed]",
      "text/plain": [
       "<Figure size 880x480 with 1 Axes>"
      ]
     },
     "metadata": {},
     "output_type": "display_data"
    }
   ],
   "source": [
    "import matplotlib.pyplot as plt\n",
    "\n",
    "# Plot the resulting losses\n",
    "plt.figure(figsize=(11, 6), dpi=80)\n",
    "plt.plot(range(len(dict_losses['adam'])), dict_losses['adam'],    color = 'grey')\n",
    "plt.xlabel(\"Epoch\")\n",
    "plt.ylabel(\"loss\")\n",
    "plt.title(\"Adam - Training Loss x Epoch\")\n",
    "plt.show()"
   ]
  },
  {
   "cell_type": "code",
   "execution_count": 70,
   "metadata": {},
   "outputs": [
    {
     "data": {
      "image/png": "[encoded data removed]",
      "text/plain": [
       "<Figure size 880x480 with 1 Axes>"
      ]
     },
     "metadata": {},
     "output_type": "display_data"
    }
   ],
   "source": [
    "plt.figure(figsize=(11, 6), dpi=80)\n",
    "plt.plot(range(len(dict_losses['adagrad'])), dict_losses['adagrad'],    color = 'grey')\n",
    "plt.xlabel(\"Epoch\")\n",
    "plt.ylabel(\"loss\")\n",
    "plt.title(\"Adagrad - Training Loss x Epoch\")\n",
    "plt.show()"
   ]
  },
  {
   "cell_type": "code",
   "execution_count": 72,
   "metadata": {},
   "outputs": [
    {
     "data": {
      "image/png": "[encoded data removed]",
      "text/plain": [
       "<Figure size 880x480 with 1 Axes>"
      ]
     },
     "metadata": {},
     "output_type": "display_data"
    }
   ],
   "source": [
    "plt.figure(figsize=(11, 6), dpi=80)\n",
    "plt.plot(range(len(dict_losses['rmspop'])), dict_losses['rmspop'],    color = 'grey')\n",
    "plt.xlabel(\"Epoch\")\n",
    "plt.ylabel(\"loss\")\n",
    "plt.title(\"rmsprop - Training Loss x Epoch\")\n",
    "plt.show()"
   ]
  }
 ],
 "metadata": {
  "accelerator": "GPU",
  "colab": {
   "provenance": []
  },
  "gpuClass": "standard",
  "kernelspec": {
   "display_name": "Python 3 (ipykernel)",
   "language": "python",
   "name": "python3"
  },
  "language_info": {
   "codemirror_mode": {
    "name": "ipython",
    "version": 3
   },
   "file_extension": ".py",
   "mimetype": "text/x-python",
   "name": "python",
   "nbconvert_exporter": "python",
   "pygments_lexer": "ipython3",
   "version": "3.10.6"
  },
  "nteract": {
   "version": "nteract-front-end@1.0.0"
  },
  "vscode": {
   "interpreter": {
    "hash": "df4e0ccb632b6b26733995cf68ba48936afe98ab48de101e8a51d30964e64889"
   }
  }
 },
 "nbformat": 4,
 "nbformat_minor": 1
}
