{
 "cells": [
  {
   "cell_type": "markdown",
   "metadata": {
    "id": "ZT_S_io_85jk"
   },
   "source": [
    "# NNIA Assignment 3\n",
    "\n",
    "**DEADLINE: 30. 11. 2021 08:00 CET**  \n",
    "Submissions past the deadline (08.01) will **not** be graded!\n",
    "\n",
    "- Name & ID 1 (Teams username e.g. s8xxxxx): \n",
    "- Name & ID 2 (Teams username e.g. s8xxxxx):\n",
    "- Name & ID 3 (Teams username e.g. s8xxxxx):\n",
    "- Hours of work per person: \n",
    "\n",
    "# Submission Instructions\n",
    "\n",
    "**IMPORTANT** Please make sure you read the following instructions carefully. If you are unclear about any part of the assignment, ask questions **before** the assignment deadline. All course-related questions can be addressed on the course **[Piazza Platform](https://piazza.com/class/l9so16qqvk34hu)**.\n",
    "\n",
    "* Assignments are to be submitted in a **team of 2/3**.\n",
    "* Please include your **names**, **ID's**, **Teams usernames**, and **approximate total time spent per person** at the beginning of the Notebook in the space provided\n",
    "* Make sure you appropriately comment your code wherever required. \n",
    "* Your final submission should contain this completed Jupyter Notebook, including the bonus question (if you attempt it), and any necessary Python files.\n",
    "* Do **not** submit any data or cache files (e.g. `__pycache__`).\n",
    "* Upload the **zipped** folder (*.zip* is the only accepted extension) in **Teams**.\n",
    "* Only **one member** of the group should make the submisssion.\n",
    "* **Important** please name the submitted zip folder as: `Name1_id1_Name2_id2_Name3_id3.zip`. The Jupyter Notebook should also be named: `Name1_id1_Name2_id2_Name3_id3.ipynb`. This is **very important** for our internal organization.\n",
    "\n",
    "<font color=\"red\">Failure to follow the above instructions will result in point penalties at the discretion of the instructors.</font>."
   ]
  },
  {
   "cell_type": "markdown",
   "metadata": {
    "id": "b-Ur365126b3"
   },
   "source": [
    "# Regressions and Model Evaluation\n",
    "\n",
    "The objectives of the exercises in this assignment are:\n",
    "\n",
    "*   to develop an intuitive understanding of a regression model's trainable parameters\n",
    "*   to have a better understanding of PCA in practice \n",
    "*   to familiarize ourselves with how to fit various regression models\n",
    "*   to learn about various evaluation metrics and their characteristics\n",
    "\n",
    "Before going ahead with the exercises, recall the following information about Simple and Multiple Linear Regressions from the lecture slides.\n",
    "\n",
    "\n",
    "*   A *Simple Linear Regression* model predicts a quantitative response $y$ given a single predictor variable $x$ using the best fitting line $y \\approx mx + b$ for the observed data.\n",
    "\n",
    "*   In *Multiple Linear Regression*, the model predicts a quantitative response $y$ given multiple predictor variables by fitting a model $y \\approx w_{0} +w_{1}x_{1} + w_{2}x_{2} +... + w_{n}x_{n}$ to the observed data.\n",
    "\n",
    "*   An ideal model minizes the average squared distance between estimated response of the *i*−th sample $\\hat{y}^{train}$ and actual response $y^{train}$ of the *i*−th\n",
    "sample:\n",
    "\n",
    "\n",
    "$$MSE_{train} = \\frac{1}{m} \\sum_{i=1}^{m} (\\hat{y}_{i}^{train} - y_{i}^{train})^{2} $$\n",
    "\n",
    "*   To minimize $MSE_{train}$, we can set the gradient w.r.t. $w$ to $0$, solving for the weights or parameters $w$:\n",
    "\n",
    "$$w = (X_{train}^{T}X_{train})^{-1}X_{train}^{T}y_{train}$$"
   ]
  },
  {
   "cell_type": "markdown",
   "metadata": {},
   "source": [
    "# 1. Linear Regression Manually (2.5 points)\n",
    "\n",
    "In this task we ask you to solve linear regression manually to gain better understanding of internals of sklearn method, that you are allowed to use for next tasks.\n",
    "\n",
    "1.1 Implement linear regression manually following the instructions above (1.5 points)\n",
    "\n",
    "1.2 How does RMSE change depending on the test size? What does it show? (0.5 points)\n",
    "\n",
    "1.3 What makes this approach inefficient? (0.5 points)"
   ]
  },
  {
   "cell_type": "markdown",
   "metadata": {},
   "source": [
    "## 1.1 <font color=\"Green\">Done</font>"
   ]
  },
  {
   "cell_type": "code",
   "execution_count": 1,
   "metadata": {},
   "outputs": [
    {
     "name": "stderr",
     "output_type": "stream",
     "text": [
      "/home/lucasfl/anaconda3/envs/nn_22_23/lib/python3.10/site-packages/scipy/__init__.py:146: UserWarning: A NumPy version >=1.16.5 and <1.23.0 is required for this version of SciPy (detected version 1.23.3\n",
      "  warnings.warn(f\"A NumPy version >={np_minversion} and <{np_maxversion}\"\n"
     ]
    },
    {
     "data": {
      "text/plain": [
       "(52.382356168443884, 54.57653642487501, 59.45829460892983)"
      ]
     },
     "execution_count": 1,
     "metadata": {},
     "output_type": "execute_result"
    }
   ],
   "source": [
    "from sklearn.datasets import fetch_california_housing, load_diabetes\n",
    "from sklearn.model_selection import train_test_split\n",
    "import numpy as np\n",
    "\n",
    "from sklearn.metrics import mean_squared_error\n",
    "\n",
    "def manual_linear_regression(test_size: int = 0.1, seed: int = 42):\n",
    "    # Load the dataset.\n",
    "    dataset = load_diabetes()\n",
    "\n",
    "    # The input data are in `dataset.data`, targets are in `dataset.target`.\n",
    "    #print(dataset.data.shape, dataset.target.shape)\n",
    "    # If you want to learn more about the dataset, you can print some information\n",
    "    # about it using `print(dataset.DESCR)`.\n",
    "    #print(dataset.DESCR)\n",
    "\n",
    "    # TODO: Append a constant feature with value 1 to the end of every input data.\n",
    "    # Then we do not need to explicitly represent bias - it becomes the last weight.\n",
    "    column_ones = np.ones((len(dataset.data),1))\n",
    "    new_data = np.append(dataset.data, column_ones,axis=1)\n",
    "\n",
    "    # TODO: Split the dataset into a train set and a test set.\n",
    "    # Use `sklearn.model_selection.train_test_split` method call, passing\n",
    "    # arguments `test_size, random_state=seed`.\n",
    "    data_train, data_test, y_train, y_test = train_test_split(new_data,\n",
    "        dataset.target, test_size=test_size, random_state=seed)\n",
    "\n",
    "    data_train = np.matrix(data_train)\n",
    "    data_test = np.matrix(data_test)\n",
    "\n",
    "\n",
    "    # TODO: Solve the linear regression using the algorithm from the lecture,\n",
    "    # explicitly computing the matrix inverse (using `np.linalg.inv`).\n",
    "    w = np.linalg.inv(data_train.T @ data_train) @ data_train.T @ y_train\n",
    "    \n",
    "    # Extracting the Bias from the weights matrix\n",
    "    bias = w[0,-1]\n",
    "    w = w[0,:10]\n",
    "\n",
    "    # TODO: Predict target values on the test set.\n",
    "    y_pred = data_test[:,:10] @ w.T + bias\n",
    "\n",
    "    #print(y_pred.A1.shape)\n",
    "    #print(y_test.shape)\n",
    "    # TODO: Manually compute root mean square error on the test set predictions.\n",
    "    rmse = np.sqrt(((y_pred.A1-y_test)**2).mean())\n",
    "    \n",
    "    # mean_squared_error\n",
    "    return rmse\n",
    "\n",
    "manual_linear_regression(), manual_linear_regression(test_size=0.5), manual_linear_regression(test_size=0.9)"
   ]
  },
  {
   "cell_type": "markdown",
   "metadata": {},
   "source": [
    "### 1.2 <font color=\"Green\">Done</font>\n",
    "1.2 How does RMSE change depending on the test size? What does it show? (0.5 points)\n",
    "\n",
    "When increasing the Test Data, the RMSE increases, meaning that more Train Data\n",
    "usually increases the chances of a lower RMSE\n"
   ]
  },
  {
   "cell_type": "markdown",
   "metadata": {},
   "source": [
    "### 1.3 <font color=\"Green\">Done</font>\n",
    "1.3 What makes this approach inefficient? (0.5 points)\n",
    "\n",
    "\n"
   ]
  },
  {
   "cell_type": "markdown",
   "metadata": {},
   "source": [
    "## 2 Efficient Linear Regression (3.5 points)\n",
    "\n",
    "For the other tasks, we will be working with the [California Housing Dataset](https://scikit-learn.org/stable/datasets/real_world.html#california-housing-dataset) unless otherwise indicated.\n",
    "Recall that there are 8 features that influence the housing prices in California according to this dataset. \n",
    "\n",
    "Although we want to consider as many predictive features as we can in our model, doing so may not necessarily be practical or desirable. Let's consider an assumption that Linear Regression is an algorithm that takes one extra hour to compute for every input feature (it does not but some models may work like this). Therefore, for the sake of efficiency, we want to limit the number of features in the dataset to 3.\n",
    "\n",
    "## 2.1 Dimensions $8 \\rightarrow 3$ (2 points)\n",
    "\n",
    "To reduce the 8 features to 3, we need to find out which features we should keep and which ones we can ignore. Implement the following two methods to find out:\n",
    "\n",
    "1. Try all subsets of size 3 of all the features and report which subset results in a Linear Regression model with the lowest MSE. (1 points)\n",
    "2. Perform PCA to 3 dimensions (components) and fit a Linear Regression using these 3 features. Report the 3 features selected by PCA and the MSE. (0.5 points)\n",
    "3. Compare the approaches and name one advantage of each over the other method. Comment on any insight you gain about the relationship between housing prices and the selected features in the dataset. (0.5 points)"
   ]
  },
  {
   "cell_type": "markdown",
   "metadata": {
    "id": "GWUfkmjdIXNS"
   },
   "source": [
    "### 2.1.1 <font color=\"red\">To Do</font>"
   ]
  },
  {
   "cell_type": "code",
   "execution_count": 14,
   "metadata": {},
   "outputs": [
    {
     "name": "stdout",
     "output_type": "stream",
     "text": [
      "The autoreload extension is already loaded. To reload it, use:\n",
      "  %reload_ext autoreload\n",
      "['MedInc', 'HouseAge', 'AveRooms', 'AveBedrms', 'Population', 'AveOccup', 'Latitude', 'Longitude']\n"
     ]
    },
    {
     "ename": "NameError",
     "evalue": "name 'MedInc' is not defined",
     "output_type": "error",
     "traceback": [
      "\u001b[0;31m---------------------------------------------------------------------------\u001b[0m",
      "\u001b[0;31mNameError\u001b[0m                                 Traceback (most recent call last)",
      "Cell \u001b[0;32mIn [14], line 9\u001b[0m\n\u001b[1;32m      5\u001b[0m housing \u001b[39m=\u001b[39m fetch_california_housing()\n\u001b[1;32m      7\u001b[0m \u001b[39mprint\u001b[39m(housing\u001b[39m.\u001b[39mfeature_names)\n\u001b[0;32m----> 9\u001b[0m housing[MedInc]\n\u001b[1;32m     10\u001b[0m \u001b[39m# from solution import ....\u001b[39;00m\n\u001b[1;32m     11\u001b[0m \n\u001b[1;32m     12\u001b[0m \u001b[39m# import your function from your .py file here and run this cell when you're done!\u001b[39;00m\n\u001b[1;32m     13\u001b[0m \u001b[39m# outputs should be MSEs and feature names\u001b[39;00m\n",
      "\u001b[0;31mNameError\u001b[0m: name 'MedInc' is not defined"
     ]
    }
   ],
   "source": [
    "%load_ext autoreload\n",
    "%autoreload 2\n",
    "\n",
    "from sklearn.datasets import fetch_california_housing\n",
    "housing = fetch_california_housing()\n",
    "\n",
    "print(housing.feature_names)\n",
    "\n",
    "#housing[MedInc]\n",
    "# from solution import ....\n",
    "\n",
    "# import your function from your .py file here and run this cell when you're done!\n",
    "# outputs should be MSEs and feature names"
   ]
  },
  {
   "cell_type": "markdown",
   "metadata": {
    "id": "TIelNBj9IdbO"
   },
   "source": [
    "### 2.1.2 <font color=\"red\">To Do</font>"
   ]
  },
  {
   "cell_type": "code",
   "execution_count": null,
   "metadata": {},
   "outputs": [],
   "source": [
    "# from solution import ....\n",
    "\n",
    "# import your function from your .py file here and run this cell when you're done!\n",
    "# outputs should be MSE and feature names"
   ]
  },
  {
   "cell_type": "markdown",
   "metadata": {
    "id": "1_DByZGSdOEg"
   },
   "source": [
    "### 2.1.3 <font color=\"red\">To Do</font>\n"
   ]
  },
  {
   "cell_type": "markdown",
   "metadata": {},
   "source": []
  },
  {
   "cell_type": "markdown",
   "metadata": {
    "id": "O-pS81_N4RJF"
   },
   "source": [
    "## 2.2 Dimensions $8 \\rightarrow 1$ (1.5 points)\n",
    "\n",
    "Having to visualize the data across multiple dimensions can be cumbsersome. Let's perform the same task as in 2.1 but this time consider only one feature (both a subset of the 8 features and PCA with 1 component). This way it will be easier to visualize the relationaship of your predictive and target variables. Of course, you still want to select the feature that will result in the best performing model.\n",
    "\n",
    "Your output should include:\n",
    "\n",
    "1.   The respective MSEs (only the lowest MSE for the subset is fine.)\n",
    "2.   Make [a scatter plot](https://en.wikipedia.org/wiki/Scatter_plot) of the data with prices on the $y$ axis and the single feature/principal component on the $x$ axis. In the plot, also include a line as defined by the Linear Regression. (Make sure you don't forget to set the correct slope and y-intercept (constant))."
   ]
  },
  {
   "cell_type": "code",
   "execution_count": null,
   "metadata": {
    "colab": {
     "base_uri": "https://localhost:8080/"
    },
    "executionInfo": {
     "elapsed": 37,
     "status": "ok",
     "timestamp": 1636738522928,
     "user": {
      "displayName": "Vilém Zouhar",
      "photoUrl": "https://lh3.googleusercontent.com/a-/AOh14GjqsASJYVkME5c30t4iFtrEDz__wtyoHv63qsWl4A=s64",
      "userId": "15042577288802340958"
     },
     "user_tz": -60
    },
    "id": "rbBzhK6f42J2",
    "outputId": "b0ef4961-7287-493b-e8b8-aacd7dd83209"
   },
   "outputs": [
    {
     "name": "stdout",
     "output_type": "stream",
     "text": [
      "The autoreload extension is already loaded. To reload it, use:\n",
      "  %reload_ext autoreload\n"
     ]
    }
   ],
   "source": [
    "# from solution import ....\n",
    "\n",
    "# import your function from your .py file here and run this cell when you're done!\n",
    "# outputs should be the MSEs, feauture names, and plots (make sure to label your plots!)"
   ]
  },
  {
   "cell_type": "markdown",
   "metadata": {
    "id": "nxMm8kFf_DYF"
   },
   "source": [
    "## 3 Manual Regression (4 points)\n",
    "\n",
    "Now that you are a bit more familiar with the data and the features. This exercise aims to develop some intuition behind regressions by manually adjusting the parameters (coefficients and intercept) in the model. The functions below all perform regression (predicting a real value) but they are far from perfect. Your goal is to improve the four functions from the initial ones in the `code cells` as follows:\n",
    "\n",
    "1. `hand_base` should serve as a baseline. The constraint is that it should only return a *single (constant) number* for all values. In other words, this is a model with no adjustable parameters. However, for the dataset there exists a unique value that minimizes the Mean Squared Error (MSE). Which one is it? (0.5 points) \n",
    "2. `hand_linear` should be a reasonable *linear* function that utilizes the input feature(s). Note that it should be strictly linear, that is in the form $\\sum \\lambda_i x_i+\\lambda_{const}$ where $\\lambda_k$ and $\\lambda_{const}$ are the coefficients and intercept that you can estimate from the given data by *trial and error*. Your estimates should be reasonable, i.e. definitely better than `hand_base`. Do this exercise before proceeding to the next function where you will obtain the coefficients and intercepts from fitting a Linear Regression model using *sklearn*. We will award full points based on any justified solution that's better than `hand_base`. Make sure that you read what the features mean and argue why you chose the specific formula. (1 point) (Note: we are *not* asking you to compute the coefficients and intercept, but rather play around with adjusting the coefficients and intercept manually to arrive at your best estimate.)\n",
    "3. `auto_linear`, obtain the coefficients and intercept from fitting a Linear Regression model using `sklearn`.\n",
    "(Consult [sklearn Linear Regression Documention](https://scikit-learn.org/stable/modules/generated/sklearn.linear_model.LinearRegression.html) on how to obtain the model's coefficients and intercept.) (1 point)\n",
    "\n",
    "4. `hand_complex` does not have any restriction on the content of the function. It can contain polynomial relationships (e.g. `x[0]*x[0]`), `if-else` statements, etc.) Now that you have both your hand crafted model and the one from `sklearn`, improve upon either of the models (or you can start with the parameters in the `auto_linear` model) so that the performance of the `hand_complex` is better than `auto_linear`.\n",
    "What are the disadvantages of this more complex approach apart from the difficulty of creating it? (Hint: think about unseen data.)\n",
    "\n",
    "Always comment on what led you to select the specific values."
   ]
  },
  {
   "cell_type": "markdown",
   "metadata": {
    "id": "13EgQJtJdu7w"
   },
   "source": [
    "## 3 <font color=\"red\">To Do</font>\n",
    "\n",
    "Modify the functions in the `code cell` below.\n"
   ]
  },
  {
   "cell_type": "code",
   "execution_count": null,
   "metadata": {
    "colab": {
     "base_uri": "https://localhost:8080/"
    },
    "executionInfo": {
     "elapsed": 211,
     "status": "ok",
     "timestamp": 1636912009088,
     "user": {
      "displayName": "Noonsky Noon",
      "photoUrl": "https://lh3.googleusercontent.com/a/default-user=s64",
      "userId": "14548880660870589126"
     },
     "user_tz": 480
    },
    "id": "yo0nFWosRS_T",
    "outputId": "c0c3d622-4009-431d-a93a-dfad3701ef95"
   },
   "outputs": [],
   "source": [
    "%load_ext autoreload\n",
    "%autoreload 2\n",
    "\n",
    "print(\"Features\", housing.feature_names)\n",
    "\n",
    "def hand_base(_x):\n",
    "  # TODO: choose better single value\n",
    "  return 0\n",
    "\n",
    "def hand_linear(x):\n",
    "  # TODO: make me better but only linearly\n",
    "  return 2*x[0]-0.5*x[1]-0.1\n",
    "\n",
    "# TODO:\n",
    "# 1. Fit LinearRegression\n",
    "# 2. Report training MSE\n",
    "# 3. Examine the coefficients and intercept and use them for the `auto_linear` function\n",
    "# <https://scikit-learn.org/stable/modules/generated/sklearn.linear_model.LinearRegression.html>\n",
    "\n",
    "def auto_linear(x):\n",
    "  # TODO: use coefficients from your linear regression\n",
    "  return 2*x[0]-0.5*x[1]-0.1\n",
    "\n",
    "def hand_complex(x):\n",
    "  # TODO: make me better than the auto_linear function\n",
    "  if x[0] < 0.5:\n",
    "    return 0.1*x[1]\n",
    "  else:\n",
    "    return 0.2*x[1]\n",
    "\n",
    "print(f\"MSE Hand-Base: {mse(housing_y, [hand_base(x) for x in housing_x]):.2f}\")\n",
    "print(f\"MSE Hand-Linear: {mse(housing_y, [hand_linear(x) for x in housing_x]):.2f}\")\n",
    "print(f\"MSE Auto-LR: {mse(housing_y, [auto_linear(x) for x in housing_x]):.2f}\")\n",
    "print(f\"MSE Hand-Complex: {mse(housing_y, [hand_complex(x) for x in housing_x]):.2f}\")"
   ]
  },
  {
   "cell_type": "markdown",
   "metadata": {
    "id": "C5Pu7huYRyoW"
   },
   "source": [
    "# Bonus. Polynomial Regression and Overfitting (1 point):\n",
    "\n",
    "Find out how incorporating more features affects our model on the [California Housing Dataset](https://scikit-learn.org/stable/datasets/real_world.html#california-housing-dataset).\n",
    "\n",
    "1. Transform the feature space using polynomial features: <https://scikit-learn.org/stable/modules/generated/sklearn.preprocessing.PolynomialFeatures.html> (hint: make use of the Pipeline class) and run a regression model on top of it. Use degrees 1, 2, 3 and 4. \n",
    "\n",
    "2. Make a scatter plot with polynomial degree on the x-axis and training MSE on the y axis. What is an essential caveat to expanding the original feature space like this? (Hint: Think of unseen data again.)"
   ]
  },
  {
   "cell_type": "markdown",
   "metadata": {
    "id": "5MdJPr9lDtUd"
   },
   "source": [
    "## Bonus: <font color=\"red\">To Do</font>\n"
   ]
  },
  {
   "cell_type": "code",
   "execution_count": 1,
   "metadata": {
    "colab": {
     "base_uri": "https://localhost:8080/",
     "height": 314
    },
    "executionInfo": {
     "elapsed": 2112,
     "status": "ok",
     "timestamp": 1636738647952,
     "user": {
      "displayName": "Vilém Zouhar",
      "photoUrl": "https://lh3.googleusercontent.com/a-/AOh14GjqsASJYVkME5c30t4iFtrEDz__wtyoHv63qsWl4A=s64",
      "userId": "15042577288802340958"
     },
     "user_tz": -60
    },
    "id": "ccreCT1RDscQ",
    "outputId": "9282782f-00d0-4e8c-f891-823a434c6c85"
   },
   "outputs": [],
   "source": [
    "%load_ext autoreload\n",
    "%autoreload 2\n",
    "  \n",
    "# from solution import ....\n",
    "# import your function from your .py file here and run this cell when you're done!"
   ]
  }
 ],
 "metadata": {
  "colab": {
   "collapsed_sections": [],
   "name": "revised_assignment_2.ipynb",
   "provenance": []
  },
  "kernelspec": {
   "display_name": "Python 3.10.6 ('nn_22_23')",
   "language": "python",
   "name": "python3"
  },
  "language_info": {
   "codemirror_mode": {
    "name": "ipython",
    "version": 3
   },
   "file_extension": ".py",
   "mimetype": "text/x-python",
   "name": "python",
   "nbconvert_exporter": "python",
   "pygments_lexer": "ipython3",
   "version": "3.10.6"
  },
  "vscode": {
   "interpreter": {
    "hash": "df4e0ccb632b6b26733995cf68ba48936afe98ab48de101e8a51d30964e64889"
   }
  }
 },
 "nbformat": 4,
 "nbformat_minor": 4
}
