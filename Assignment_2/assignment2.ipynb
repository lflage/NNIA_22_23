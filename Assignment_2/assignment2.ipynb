{
  "cells": [
    {
      "cell_type": "markdown",
      "metadata": {
        "id": "ZT_S_io_85jk"
      },
      "source": [
        "# NNIA Assignment 2\n",
        "\n",
        "**DEADLINE: 23.11.2022 08:00 CET**\n",
        "\n",
        "- Name & ID 1 (Teams username e.g. s8xxxxx): \n",
        "- Name & ID 2 (Teams username e.g. s8xxxxx):\n",
        "- Name & ID 3 (Teams username e.g. s8xxxxx):\n",
        "- Hours of work per person: \n",
        "\n",
        "# Submission Instructions\n",
        "\n",
        "**IMPORTANT** Please make sure you read the following instructions carefully. If you are unclear about any part of the assignment, ask questions **before** the assignment deadline. All course-related questions can be addressed on the course **[Piazza Platform](https://piazza.com/class/kvc3vzhsvh55rt)**\n",
        "\n",
        "* Assignments are to be submitted in a **team of 2 or3**. It is the last assignment for which we allow single-person submission.\n",
        "* Please include your **names**, **ID's**, **Teams usernames**, and **approximate total time spent per person** at the beginning of the Notebook in the space provided\n",
        "* Make sure you appropriately comment your code wherever required. \n",
        "* Your final submission should contain this completed Jupyter Notebook, including the bonus question (if you attempt it), and any necessary Python files.\n",
        "* Do **not** submit any data or cache files (e.g. `__pycache__`).\n",
        "* Upload the **zipped** folder (*.zip* is the only accepted extension) in **Teams**.\n",
        "* Only **one member** of the group should make the submisssion.\n",
        "* **Important** please name the submitted zip folder as: `Name1_id1_Name2_id2.zip`. The Jupyter Notebook should also be named: `Name1_id1_Name2_id2.ipynb`. This is **very important** for our internal organization epeatedly students fail to do this.\n",
        "\n",
        "<font color=\"red\">Failure to follow the above instructions will result in point penalties at the discretion of the instructors.</font>."
      ]
    },
    {
      "cell_type": "markdown",
      "metadata": {
        "id": "ue-BOaIaFMun"
      },
      "source": [
        "# 1 Eigendecomposition and SVD (3p)\n",
        "Please, review slides and chapters 2.7 Eigendecomposition and 2.8 Singular value decomposition from [Deep Learning book](https://www.deeplearningbook.org/contents/linear_algebra.html) and do the following exercises:\n",
        "\n",
        "1. (1p) Let matrix $A = \\begin{bmatrix} 8 & -5 \\\\ 6 & -3 \\end{bmatrix}$ \n",
        "\n",
        "* Is $\\begin{bmatrix} 1 \\\\ 1 \\end{bmatrix}$ an eigenvector of $A$?  Why or why not?\n",
        "\n",
        "* Compute all eigenvectors and eigenvalues of $A$.\n",
        "\n",
        "2. (1p) Let $B$ be a matrix with eigenvalues $a = -2$ and $b = 0$ and corresponding eigenvectors $v = \\begin{bmatrix} 0.6 \\\\ 0.8 \\end{bmatrix}$ and $w = \\begin{bmatrix} 0.8 \\\\ -0.6 \\end{bmatrix}$. Compute Matrix $B$ and show how you did it. \n",
        "\n",
        "3. (0.5p) Provide definitions of **singular**, **positive definite**, **positive semi-definite**, **negative definite** and **negative semi-definite** matrices. What are the types of matrices A and B?\n",
        "\n",
        "4. (0.5p) How is singular value decomposition different to eigendecomposion? When do we use SVD over eigendecompostion? "
      ]
    },
    {
      "cell_type": "markdown",
      "metadata": {
        "id": "M2qU8koDBxux"
      },
      "source": [
        "## 1.1 <font color=\"green\">Done</font>\n",
        "$ det(\\begin{bmatrix} 8- \\lambda\\  & -5 \\\\ 6 & -3-\\lambda \\end{bmatrix} = 0)$  \n",
        "$(8-\\lambda)(-3-\\lambda) - (-6 * -5)   $  \n",
        "$(\\lambda²) - 5\\lambda + 6$  \n",
        "### Eigenvalues:\n",
        "$ \\lambda = 3 , \\lambda = 2$\n",
        "\n",
        "\n",
        "## Eigenvector for 3:\n",
        "$ \\begin{bmatrix} 8- 3\\  & -5 \\\\ 6 & -3-3 \\end{bmatrix} \\vec{v} = 0 $  \n",
        "$ \\begin{bmatrix} 5  & -5 \\\\ 6 & -6 \\end{bmatrix} \\begin{bmatrix} x1 \\\\ x2 \\end{bmatrix} = 0$  \n",
        "$ x1 - x2 = 0  \\longrightarrow x1 = x2  \\longrightarrow \\vec{v} = \\begin{bmatrix} 1 \\\\ 1 \\end{bmatrix}$ \n",
        "\n",
        "## Eigenvector for 2:\n",
        "$ \\begin{bmatrix} 8- 2\\  & -5 \\\\ 6 & -3-2 \\end{bmatrix} \\vec{v} = 0 $  \n",
        "$ \\begin{bmatrix} 6  & -5 \\\\ 6 & -5 \\end{bmatrix} \\begin{bmatrix} x1 \\\\ x2 \\end{bmatrix} = 0$  \n",
        "$ 6x1 - 5x2 = 0  \\longrightarrow x1 = \\frac{5}{6}x2  \\longrightarrow \\vec{v} = \\begin{bmatrix} \\frac{5}{6} \\\\ 1 \\end{bmatrix}$ \n",
        "\n",
        "# TODO: Merge this solution with benedicts\n",
        "\n",
        "## 1.2 <font color=\"green\">Done</font> \n",
        "# TODO\n",
        "* According to Eigendeconposition:  \n",
        "$ B = Q · L · {Q}^{-1}$  \n",
        "$ Q = \\begin{bmatrix} 0.6  & 0.8 \\\\ 0.8 & -0.6 \\end{bmatrix} $  \n",
        "$ {Q}^{-1} = \\frac{1}{a*d - b*c} \\begin{bmatrix} d  & -b \\\\ -c & a \\end{bmatrix} $   \n",
        "$ {Q}^{-1} = \\frac{1}{0.6*-0.6 - 0.8*0.8} \\begin{bmatrix} -0.6  & -0.8 \\\\ -0.8 & 0.6 \\end{bmatrix} $  \n",
        "$ {Q}^{-1} = \\begin{bmatrix} 0.6  & 0.8 \\\\ 0.8 & -0.6 \\end{bmatrix}$  \n",
        "$ B = \\begin{bmatrix} 0.6  & 0.8 \\\\ 0.8 & -0.6 \\end{bmatrix} * \\begin{bmatrix} -2  & 0 \\\\ 0 & 0 \\end{bmatrix} * \\begin{bmatrix} 0.6  & 0.8 \\\\ 0.8 & -0.6 \\end{bmatrix}$ \n",
        "$ B = \\begin{bmatrix} -0.72 & 0 \\\\ 0 & 0 \\end{bmatrix}$  \n",
        "\n",
        "\n",
        "\n",
        "## 1.3 <font color=\"green\">To Do</font>\n",
        "\n",
        "A positive definite matrix is a symmetric matrix where every eigenvalue is positive.\n",
        "\n",
        "## 1.4 <font color=\"green\">To Do</font>  \n",
        "\n",
        "We use SVD when the matrix we want to decompose isn't of size $n x n$"
      ]
    },
    {
      "cell_type": "markdown",
      "metadata": {
        "id": "H9-_bjMYVpCX"
      },
      "source": [
        "# 2 PCA (5p)\n",
        "## 2.1 PCA Intuition (2p)\n",
        "Carefully read this [blog post](https://builtin.com/data-science/step-step-explanation-principal-component-analysis) by Zakaria Jaadi and answer the following questions about PCA\n",
        "\n",
        "1. What is the motivation for using PCA? (0.3p)\n",
        "\n",
        "To reduce the dimensionality of your Data and keep only the most relevant part of it.\n",
        "\n",
        "2. Let's assume dataset with 5 features and training samples, that use all dimensions (non-degenerate case). How many principal components are there? (0.3p)\n",
        "\n",
        "There can be as many principal components as there are features in the data, so 5\n",
        "\n",
        "3. How can we tell if one principal component accounts for more information than another? (0.3p)\n",
        "\n",
        "By obtaining the eigenvectors and eigenvalues of the covariance matrix we can rank them, the higher the eigenvalue, more information it accounts for.\n",
        "\n",
        "4. What is a reconstruction error? (0.3p)\n",
        "\n",
        "If you apply the inverse transformation using only a subset of your principal components, you probability will not reproduce the original dataset perfectly. The reconstruction error is the difference between the original Dataset and the reduced one.\n",
        "\n",
        "5. What is the reconstruction error of $k$-dimensional dataset reduced to $k$ dimensions and then reconstructed? (0.3)\n",
        "\n",
        "hum... none?\n",
        "\n",
        "6. Can Singular Value Decomposition (SVD) be used for dimensionality reduction as well? Why, why not? (0.5)\n",
        "\n",
        "\n"
      ]
    },
    {
      "cell_type": "markdown",
      "metadata": {
        "id": "pTcs54aydauk"
      },
      "source": [
        "## 2.1 <font color=\"Green\">To Do</font> \n",
        "\n"
      ]
    },
    {
      "cell_type": "markdown",
      "metadata": {
        "id": "iqxdT1Ol2hB_"
      },
      "source": [
        "1. \n",
        "\n",
        "To reduce the dimensionality of your Data and keep only the most relevant part of it.\n",
        "\n",
        "2. \n",
        "\n",
        "There can be as many principal components as there are features in the data, so 5\n",
        "\n",
        "3. \n",
        "\n",
        "By obtaining the eigenvectors and eigenvalues of the covariance matrix we can rank them, the higher the eigenvalue, more information it accounts for.\n",
        "\n",
        "4. \n",
        "\n",
        "If you apply the inverse transformation using only a subset of your principal components, you won't reproduce the original dataset perfectly. The reconstruction error is the difference between the original Dataset and the reconstructed one.\n",
        "\n",
        "5. \n",
        "\n",
        "There should be no reconstruction error if you keep all components in the PCA\n",
        "\n",
        "6. Can Singular Value Decomposition (SVD) be used for dimensionality reduction as well? Why, why not? (0.5)\n",
        "\n",
        "# TODO: Add BEnedicts answers\n"
      ]
    },
    {
      "cell_type": "markdown",
      "metadata": {
        "id": "5MVVGTFi2t_j"
      },
      "source": [
        "## 2.2 Coding PCA (3p)\n",
        "For this exercise, please, refer to the [blog post](https://builtin.com/data-science/step-step-explanation-principal-component-analysis) from 2.1. You are allowed to use [sklearn.decomposition.PCA](https://scikit-learn.org/stable/modules/generated/sklearn.decomposition.PCA.html) to solve this task.\n",
        "\n",
        "1. The file `birds.csv` contains a dataset of birds with two features: wing span and body mass. This is a very simplified dataset of 20 samples taken from the [Birds of Minesota Dataset](https://github.com/microsoft/Data-Science-For-Beginners/blob/main/data/birds.csv) (1.5p).\n",
        " - Load the data into your script\n",
        " - Run PCA into 1 dimension\n",
        " - Reconstruct the original data\n",
        " - Compute reconstruction error\n",
        "2. Plot the following (1.5p): \n",
        " - Original data\n",
        " - Pre-processed data\n",
        " - Data projected into 1D using PCA\n",
        " - Reconstructed data\n",
        " - Reconstructed data + post-processing (mean, std)\n",
        "\n",
        "\n"
      ]
    },
    {
      "cell_type": "code",
      "execution_count": 23,
      "metadata": {
        "id": "zlOCs1rl12wK"
      },
      "outputs": [
        {
          "name": "stdout",
          "output_type": "stream",
          "text": [
            "\n",
            "\n",
            "\n",
            "\n",
            "\n",
            "[[ 0.6  0.8]\n",
            " [ 0.8 -0.6]] \n",
            " [[-2  0]\n",
            " [ 0  0]] \n",
            " [[ 0.6  0.8]\n",
            " [ 0.8 -0.6]]\n",
            "\n",
            "\n",
            "[[-0.72 -0.96]\n",
            " [-0.96 -1.28]]\n"
          ]
        }
      ],
      "source": [
        "# Following imports could be useful to solving this assignment\n",
        "import os\n",
        "import csv\n",
        "import numpy as np\n",
        "import pandas as pd\n",
        "from matplotlib import pyplot as plt\n",
        "from sklearn.decomposition import PCA\n",
        "from sklearn.preprocessing import StandardScaler\n",
        "from sklearn.datasets import fetch_california_housing\n",
        "\n",
        "m1 = np.array([[.6,.8],[.8,-.6]])\n",
        "print('\\n\\n')\n",
        "m2 = np.array([[-2,0],[0,0]])\n",
        "print('\\n')\n",
        "m3 = np.array([[.6,.8],[.8,-.6]])\n",
        "\n",
        "print(m1,'\\n',m2, '\\n',m3)\n",
        "\n",
        "print(\"\\n\")\n",
        "\n",
        "print(np.dot(np.dot(m1,m2),m3))"
      ]
    },
    {
      "cell_type": "markdown",
      "metadata": {
        "id": "gxc9nwBVpLrv"
      },
      "source": [
        "### 2.2.1 PCA to 1 dimension of the `birds.csv` data\n",
        "\n"
      ]
    },
    {
      "cell_type": "code",
      "execution_count": 24,
      "metadata": {
        "id": "z06yiWz47KJp"
      },
      "outputs": [
        {
          "name": "stdout",
          "output_type": "stream",
          "text": [
            "The autoreload extension is already loaded. To reload it, use:\n",
            "  %reload_ext autoreload\n"
          ]
        },
        {
          "data": {
            "text/plain": [
              "'MSE: 43.493476608377655'"
            ]
          },
          "execution_count": 24,
          "metadata": {},
          "output_type": "execute_result"
        }
      ],
      "source": [
        "%load_ext autoreload\n",
        "%autoreload 2\n",
        "from solution import solver1\n",
        "\n",
        "solver1()\n",
        "# from solution import...\n",
        "# import your function from your .py file here and run this cell when you're done!"
      ]
    },
    {
      "cell_type": "markdown",
      "metadata": {
        "id": "BVXyojjHp8M0"
      },
      "source": [
        "### 2.2.2 Plotting"
      ]
    },
    {
      "cell_type": "code",
      "execution_count": 4,
      "metadata": {},
      "outputs": [
        {
          "data": {
            "text/html": [
              "<div>\n",
              "<style scoped>\n",
              "    .dataframe tbody tr th:only-of-type {\n",
              "        vertical-align: middle;\n",
              "    }\n",
              "\n",
              "    .dataframe tbody tr th {\n",
              "        vertical-align: top;\n",
              "    }\n",
              "\n",
              "    .dataframe thead th {\n",
              "        text-align: right;\n",
              "    }\n",
              "</style>\n",
              "<table border=\"1\" class=\"dataframe\">\n",
              "  <thead>\n",
              "    <tr style=\"text-align: right;\">\n",
              "      <th></th>\n",
              "      <th>BodyMass</th>\n",
              "      <th>Wingspan</th>\n",
              "    </tr>\n",
              "  </thead>\n",
              "  <tbody>\n",
              "    <tr>\n",
              "      <th>0</th>\n",
              "      <td>1020</td>\n",
              "      <td>94.0</td>\n",
              "    </tr>\n",
              "    <tr>\n",
              "      <th>1</th>\n",
              "      <td>1050</td>\n",
              "      <td>93.0</td>\n",
              "    </tr>\n",
              "    <tr>\n",
              "      <th>2</th>\n",
              "      <td>4050</td>\n",
              "      <td>165.0</td>\n",
              "    </tr>\n",
              "    <tr>\n",
              "      <th>3</th>\n",
              "      <td>1567</td>\n",
              "      <td>116.0</td>\n",
              "    </tr>\n",
              "    <tr>\n",
              "      <th>4</th>\n",
              "      <td>3310</td>\n",
              "      <td>165.0</td>\n",
              "    </tr>\n",
              "  </tbody>\n",
              "</table>\n",
              "</div>"
            ],
            "text/plain": [
              "   BodyMass  Wingspan\n",
              "0      1020      94.0\n",
              "1      1050      93.0\n",
              "2      4050     165.0\n",
              "3      1567     116.0\n",
              "4      3310     165.0"
            ]
          },
          "execution_count": 4,
          "metadata": {},
          "output_type": "execute_result"
        }
      ],
      "source": [
        "birds = pd.read_csv('./birds.csv')\n",
        "birds.head()\n"
      ]
    },
    {
      "cell_type": "code",
      "execution_count": 9,
      "metadata": {},
      "outputs": [
        {
          "name": "stdout",
          "output_type": "stream",
          "text": [
            "The autoreload extension is already loaded. To reload it, use:\n",
            "  %reload_ext autoreload\n"
          ]
        },
        {
          "data": {
            "image/png": "[encoded data removed]",
            "text/plain": [
              "<Figure size 640x480 with 1 Axes>"
            ]
          },
          "metadata": {},
          "output_type": "display_data"
        },
        {
          "data": {
            "image/png": "[encoded data removed]",
            "text/plain": [
              "<Figure size 640x480 with 1 Axes>"
            ]
          },
          "metadata": {},
          "output_type": "display_data"
        },
        {
          "data": {
            "image/png": "[encoded data removed]",
            "text/plain": [
              "<Figure size 640x480 with 1 Axes>"
            ]
          },
          "metadata": {},
          "output_type": "display_data"
        },
        {
          "data": {
            "image/png": "[encoded data removed]",
            "text/plain": [
              "<Figure size 640x480 with 1 Axes>"
            ]
          },
          "metadata": {},
          "output_type": "display_data"
        }
      ],
      "source": [
        "%load_ext autoreload\n",
        "%autoreload 2\n",
        "from solution import plotter\n",
        "\n",
        "plotter()"
      ]
    },
    {
      "cell_type": "markdown",
      "metadata": {
        "id": "JogomKwwRB27"
      },
      "source": [
        "# 3 Component Selection (2 points)\n",
        "Load the built-in `California Housing Dataset` from `sklearn` and compute PCA of 1 to 14 dimensions (principal components). Plot a graph _reconstruction error_ $\\times$ _number of principal components_. How many principal components (dimensions) would you use for your compression?\n",
        "\n",
        "For more information on the dataset, please refer to the [sklearn documentation](https://scikit-learn.org/stable/modules/generated/sklearn.datasets.fetch_california_housing.html#sklearn.datasets.fetch_california_housing)"
      ]
    },
    {
      "cell_type": "code",
      "execution_count": null,
      "metadata": {
        "id": "9XSWCBafsu9E"
      },
      "outputs": [],
      "source": [
        "# TODO\n",
        "\n",
        "from sklearn.decomposition import PCA\n",
        "from sklearn.preprocessing import StandardScaler\n",
        "from sklearn.datasets import fetch_california_housing"
      ]
    },
    {
      "cell_type": "markdown",
      "metadata": {
        "id": "13EgQJtJdu7w"
      },
      "source": [
        "## 3 <font color=\"red\">To Do</font>\n"
      ]
    },
    {
      "cell_type": "code",
      "execution_count": null,
      "metadata": {
        "id": "hRCRb0iadH1g"
      },
      "outputs": [],
      "source": [
        "%load_ext autoreload\n",
        "%autoreload 2\n",
        "\n",
        "# from solution import ....\n",
        "\n",
        "# import your function from your .py file here and run this cell when you're done!"
      ]
    },
    {
      "cell_type": "markdown",
      "metadata": {
        "id": "C5Pu7huYRyoW"
      },
      "source": [
        "# Bonus: PCA from scratch (2 points)\n",
        "\n",
        "If you used sklearn's implementation to complete the previous exercises, implement PCA without using an existing library implementation. You may use built-in/library functions for matrix operations (covariance, eigenvalues and eigenvectors, transpose, etc.)."
      ]
    }
  ],
  "metadata": {
    "colab": {
      "collapsed_sections": [],
      "provenance": []
    },
    "kernelspec": {
      "display_name": "Python 3.10.6 ('nn_22_23')",
      "language": "python",
      "name": "python3"
    },
    "language_info": {
      "codemirror_mode": {
        "name": "ipython",
        "version": 3
      },
      "file_extension": ".py",
      "mimetype": "text/x-python",
      "name": "python",
      "nbconvert_exporter": "python",
      "pygments_lexer": "ipython3",
      "version": "3.10.6"
    },
    "vscode": {
      "interpreter": {
        "hash": "df4e0ccb632b6b26733995cf68ba48936afe98ab48de101e8a51d30964e64889"
      }
    }
  },
  "nbformat": 4,
  "nbformat_minor": 0
}
